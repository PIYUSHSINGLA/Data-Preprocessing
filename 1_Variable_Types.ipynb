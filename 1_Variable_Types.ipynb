{
  "nbformat": 4,
  "nbformat_minor": 0,
  "metadata": {
    "colab": {
      "name": "1. Variable Types.ipynb",
      "provenance": [],
      "collapsed_sections": [],
      "toc_visible": true
    },
    "kernelspec": {
      "name": "python3",
      "display_name": "Python 3"
    },
    "accelerator": "GPU"
  },
  "cells": [
    {
      "cell_type": "markdown",
      "metadata": {
        "id": "2X5dLtS-Fw6A",
        "colab_type": "text"
      },
      "source": [
        "## What is a Variable?\n",
        "\n",
        "_A variable is any characteristic, number, or quantity that can be measured or counted. The following are examples of variables:_\n",
        "\n",
        "1. _Age (21, 35, 62, ...)_\n",
        "2. _Gender (male, female)_\n",
        "3. _Income (GBP 20000, GBP 35000, GBP 45000, ...)_\n",
        "4. _House price (GBP 350000, GBP 570000, ...)_\n",
        "5. _Country of birth (China, Russia, Costa Rica, ...)_\n",
        "6. _Eye colour (brown, green, blue, ...)_\n",
        "7. _Vehicle make (Ford, Volkswagen, ...)_\n",
        "\n",
        "_They are called 'variables' because the value they take may vary (and it usually does) in a population._\n",
        "\n",
        "\n",
        "_Most variables in a data set can be classified into one of two major types:_\n",
        "\n",
        "* _Numerical variables_\n",
        "* _Categorical variables_"
      ]
    },
    {
      "cell_type": "markdown",
      "metadata": {
        "id": "K586PZxHGU2B",
        "colab_type": "text"
      },
      "source": [
        "### Numerical Variables\n",
        "_The values of a numerical variable are numbers. They can be further classified into discrete and continuous variables._"
      ]
    },
    {
      "cell_type": "markdown",
      "metadata": {
        "id": "Sk9toLzhJTz6",
        "colab_type": "text"
      },
      "source": [
        "#### 1. _Discrete Numerical Variable_\n",
        "_A variable which values are whole numbers (counts) is called discrete. For example, the number of items bought by a customer in a supermarket is discrete. The customer can buy 1, 25, or 50 items, but not 3.7 items. It is always a round number. The following are examples of discrete variables:_\n",
        "\n",
        "1. _Number of active bank accounts of a borrower (1, 4, 7, ...)_\n",
        "2. _Number of pets in the family_\n",
        "3. _Number of children in the family_"
      ]
    },
    {
      "cell_type": "markdown",
      "metadata": {
        "id": "HMwElLILJXAY",
        "colab_type": "text"
      },
      "source": [
        "\n",
        "#### 2. _Continuous Numerical Variable_\n",
        "_A variable that may contain any value within some range is called continuous. For example, the total amount paid by a customer in a supermarket is continuous. The customer can pay, GBP 20.5, GBP 13.10, GBP 83.20 and so on. Other examples of continuous variables are:_\n",
        "\n",
        "1. _House price (in principle, it can take any value) (GBP 350000, 57000, 1000000, ...)_\n",
        "2. _Time spent surfing a website (3.4 seconds, 5.10 seconds, ...)_\n",
        "3. _Total debt as percentage of total income in the last month (0.2, 0.001, 0, 0.75, ...)_"
      ]
    },
    {
      "cell_type": "code",
      "metadata": {
        "id": "nErDJdhKFV9d",
        "colab_type": "code",
        "colab": {}
      },
      "source": [
        "# Importing Required Libraries\n",
        "\n",
        "import pandas as pd\n",
        "import numpy as np\n",
        "\n",
        "import matplotlib.pyplot as plt\n",
        "%matplotlib inline\n",
        "\n",
        "import seaborn as sns"
      ],
      "execution_count": 0,
      "outputs": []
    },
    {
      "cell_type": "code",
      "metadata": {
        "id": "Jztj3IeuXD7E",
        "colab_type": "code",
        "colab": {}
      },
      "source": [
        "# Follow article: https://medium.com/@yvettewu.dw/tutorial-kaggle-api-google-colaboratory-1a054a382de0\n",
        "\n",
        "!pip install kaggle\n",
        "\n",
        "!mkdir .kaggle\n",
        "\n",
        "import json\n",
        "token = {\"username\":\"piyushsingla\",\"key\":\"94939b9ecb5fcbd1eb64911f57ee6087\"}\n",
        "with open('/content/.kaggle/kaggle.json', 'w') as file:\n",
        "    json.dump(token, file)"
      ],
      "execution_count": 0,
      "outputs": []
    },
    {
      "cell_type": "code",
      "metadata": {
        "id": "vU7m_uCjkz-0",
        "colab_type": "code",
        "colab": {}
      },
      "source": [
        "!chmod 600 /content/.kaggle/kaggle.json\n",
        "!cp /content/.kaggle/kaggle.json ~/.kaggle/kaggle.json\n",
        "!kaggle config set -n path -v{/content}\n",
        "\n",
        "!kaggle datasets download -d wendykan/lending-club-loan-data -p /content\n",
        "\n",
        "!unzip \\*.zip"
      ],
      "execution_count": 0,
      "outputs": []
    },
    {
      "cell_type": "code",
      "metadata": {
        "id": "vkb2SsIYcft3",
        "colab_type": "code",
        "colab": {}
      },
      "source": [
        "pd.set_option('display.max_rows',1000)\n",
        "pd.set_option('display.max_columns',1000)"
      ],
      "execution_count": 0,
      "outputs": []
    },
    {
      "cell_type": "code",
      "metadata": {
        "colab_type": "code",
        "id": "vfnZhb4OL_3N",
        "colab": {}
      },
      "source": [
        "# Download dataset: https://www.kaggle.com/wendykan/lending-club-loan-data or Link to Kaggle\n",
        "\n",
        "use_cols = ['loan_amnt', 'int_rate', 'annual_inc', 'open_acc', 'loan_status', 'open_il_12m','id', 'purpose', 'loan_status', 'home_ownership','loan_amnt', 'grade', 'purpose', 'issue_d', 'last_pymnt_d']\n",
        "\n",
        "data = pd.read_csv('/content/loan.csv', usecols=use_cols)\n",
        "data1 = data.sample(10000, random_state=44)  # set a seed for reproducibility\n",
        "data.head()"
      ],
      "execution_count": 0,
      "outputs": []
    },
    {
      "cell_type": "code",
      "metadata": {
        "id": "GFB4U8ktfwS5",
        "colab_type": "code",
        "colab": {}
      },
      "source": [
        "data['loan_status'].value_counts()"
      ],
      "execution_count": 0,
      "outputs": []
    },
    {
      "cell_type": "code",
      "metadata": {
        "id": "R8QxLajkbHam",
        "colab_type": "code",
        "colab": {}
      },
      "source": [
        "data.info()"
      ],
      "execution_count": 0,
      "outputs": []
    },
    {
      "cell_type": "code",
      "metadata": {
        "id": "0bzcODeLMoyx",
        "colab_type": "code",
        "colab": {}
      },
      "source": [
        "# Continous Variable\n",
        "data1.loan_amnt.unique()"
      ],
      "execution_count": 0,
      "outputs": []
    },
    {
      "cell_type": "code",
      "metadata": {
        "id": "9Bix1zKuijEI",
        "colab_type": "code",
        "colab": {}
      },
      "source": [
        "plt.style.use('seaborn-pastel')"
      ],
      "execution_count": 0,
      "outputs": []
    },
    {
      "cell_type": "code",
      "metadata": {
        "id": "plKczhYJMvkS",
        "colab_type": "code",
        "colab": {}
      },
      "source": [
        "fig = data1.loan_amnt.hist(bins=50)\n",
        "fig.set_title('Loan Amount Requested')\n",
        "fig.set_xlabel('Loan Amount')\n",
        "fig.set_ylabel('Number of Loans')"
      ],
      "execution_count": 0,
      "outputs": []
    },
    {
      "cell_type": "markdown",
      "metadata": {
        "id": "Vk1Rs0oodIca",
        "colab_type": "text"
      },
      "source": [
        "_The values of the variable vary across the entire range of the variable. This is characteristic of continuous variables._"
      ]
    },
    {
      "cell_type": "code",
      "metadata": {
        "id": "bLHns2AfM29M",
        "colab_type": "code",
        "colab": {}
      },
      "source": [
        "data1.int_rate.unique()"
      ],
      "execution_count": 0,
      "outputs": []
    },
    {
      "cell_type": "code",
      "metadata": {
        "id": "-sPUaCwRM5JB",
        "colab_type": "code",
        "colab": {}
      },
      "source": [
        "fig = data1.int_rate.hist(bins=30)\n",
        "fig.set_title('Interest Rate')\n",
        "fig.set_xlabel('Interest Rate')\n",
        "fig.set_ylabel('Number of Loans')"
      ],
      "execution_count": 0,
      "outputs": []
    },
    {
      "cell_type": "code",
      "metadata": {
        "id": "uLU3S6eFM8Ck",
        "colab_type": "code",
        "colab": {}
      },
      "source": [
        "fig = data1.annual_inc.hist(bins=100)\n",
        "fig.set_xlim(0, 400000)\n",
        "fig.set_title(\"Customer's Annual Income\")\n",
        "fig.set_xlabel('Annual Income')\n",
        "fig.set_ylabel('Number of Customers')"
      ],
      "execution_count": 0,
      "outputs": []
    },
    {
      "cell_type": "code",
      "metadata": {
        "id": "rb2Bh3H4M_jb",
        "colab_type": "code",
        "colab": {}
      },
      "source": [
        "# Discrete Variable\n",
        "data1.open_acc.dropna().unique()"
      ],
      "execution_count": 0,
      "outputs": []
    },
    {
      "cell_type": "markdown",
      "metadata": {
        "id": "wUMIqZ1ldeiF",
        "colab_type": "text"
      },
      "source": [
        "_This is, the total number of credit items (for example, credit cards, car loans, mortgages, etc) that is known for that borrower. By definition it is a discrete variable, because a borrower can have 1 credit card, but not 3.5 credit cards._"
      ]
    },
    {
      "cell_type": "code",
      "metadata": {
        "id": "t-h3IHJoNBn9",
        "colab_type": "code",
        "colab": {}
      },
      "source": [
        "fig = data1.open_acc.hist(bins=100)\n",
        "fig.set_xlim(0, 30)\n",
        "fig.set_title('Number of open accounts')\n",
        "fig.set_xlabel('Number of open accounts')\n",
        "fig.set_ylabel('Number of Customers')"
      ],
      "execution_count": 0,
      "outputs": []
    },
    {
      "cell_type": "code",
      "metadata": {
        "id": "cr3u1CEiNEOy",
        "colab_type": "code",
        "colab": {}
      },
      "source": [
        "data1.open_il_12m.unique()"
      ],
      "execution_count": 0,
      "outputs": []
    },
    {
      "cell_type": "code",
      "metadata": {
        "id": "fOubaONrNGQE",
        "colab_type": "code",
        "colab": {}
      },
      "source": [
        "fig = data1.open_il_12m.hist(bins=50)\n",
        "fig.set_title('Number of installment accounts opened in past 12 months')\n",
        "fig.set_xlabel('Number of installment accounts opened in past 12 months')\n",
        "fig.set_ylabel('Number of Borrowers')"
      ],
      "execution_count": 0,
      "outputs": []
    },
    {
      "cell_type": "markdown",
      "metadata": {
        "id": "_JLPvmEtdnpk",
        "colab_type": "text"
      },
      "source": [
        "_Histograms of discrete variables have this typical broken shape, as not all the values within the variable range are present in the variable._"
      ]
    },
    {
      "cell_type": "code",
      "metadata": {
        "id": "7FB_coQ1NRO9",
        "colab_type": "code",
        "colab": {}
      },
      "source": [
        "# Discrete Variable: Binary Value\n",
        "data.loan_status.unique()"
      ],
      "execution_count": 0,
      "outputs": []
    },
    {
      "cell_type": "markdown",
      "metadata": {
        "id": "hamWU4NSdyc5",
        "colab_type": "text"
      },
      "source": [
        "_Binary variables, are discrete variables, that can take only 2 values, therefore binary._\n",
        "\n",
        "_In the next cells we will create an additional variable, called defaulted, to capture the number of loans that have defaulted. A defaulted loan is a loan that a customer has failed to re-pay and the money is lost._\n",
        "\n",
        "_The variable takes the values 0 where the loans are ok and being re-paid regularly, or 1, when the borrower has confirmed that will not be able to re-pay the borrowed amount._"
      ]
    },
    {
      "cell_type": "code",
      "metadata": {
        "id": "WGeb55CdNYHc",
        "colab_type": "code",
        "colab": {}
      },
      "source": [
        "data['defaulted'] = np.where(data.loan_status.isin(['Default']), 1, 0)\n",
        "data.defaulted.mean()"
      ],
      "execution_count": 0,
      "outputs": []
    },
    {
      "cell_type": "code",
      "metadata": {
        "id": "mB8A5eN8NeSX",
        "colab_type": "code",
        "colab": {}
      },
      "source": [
        "data[data.loan_status.isin(['Default'])].head()"
      ],
      "execution_count": 0,
      "outputs": []
    },
    {
      "cell_type": "code",
      "metadata": {
        "id": "Nx4sAOrzNgKa",
        "colab_type": "code",
        "colab": {}
      },
      "source": [
        "data.defaulted.unique()"
      ],
      "execution_count": 0,
      "outputs": []
    },
    {
      "cell_type": "code",
      "metadata": {
        "id": "O6BST9QUNiPS",
        "colab_type": "code",
        "colab": {}
      },
      "source": [
        "fig = data.defaulted.hist()\n",
        "fig.set_xlim(0, 2)\n",
        "fig.set_title('Defaulted accounts')\n",
        "fig.set_xlabel('Defaulted')\n",
        "fig.set_ylabel('Number of Loans')"
      ],
      "execution_count": 0,
      "outputs": []
    },
    {
      "cell_type": "markdown",
      "metadata": {
        "id": "mpdNRc7nNp16",
        "colab_type": "text"
      },
      "source": [
        "### Categorical Variables\n",
        "\n",
        "_The values of a categorical variable are selected from a group of categories, also called labels. Examples are gender (male or female) and marital status (never married, married, divorced or widowed). Other examples of categorical variables include:_\n",
        "\n",
        "1. _Intended use of loan (debt-consolidation, car purchase, wedding expenses, ...)_\n",
        "2. _Mobile network provider (Vodafone, Orange, ...)_\n",
        "3. _Postcode_\n",
        "4. _Categorical variables can be further categorised into ordinal and nominal variables._\n"
      ]
    },
    {
      "cell_type": "markdown",
      "metadata": {
        "id": "9pWZNCcwOAvg",
        "colab_type": "text"
      },
      "source": [
        "#### _Ordinal Categorical Variable_\n",
        "_Categorical variable in which categories can be meaningfully ordered are called ordinal. For example:_\n",
        "\n",
        "1. _Student's grade in an exam (A, B, C or Fail)._\n",
        "2. _Days of the week can be ordinal with Monday = 1 and Sunday = 7._\n",
        "3. _Educational level, with the categories Elementary school, High school, College graduate and PhD ranked from 1 to 4._"
      ]
    },
    {
      "cell_type": "markdown",
      "metadata": {
        "id": "y9RzFDAZOKG5",
        "colab_type": "text"
      },
      "source": [
        "#### _Nominal Categorical Variable_\n",
        "_There isn't an intrinsic order of the labels. For example, country of birth (Argentina, England, Germany) is nominal. Other examples of nominal variables include:_\n",
        "\n",
        "1. _Postcode_\n",
        "2. _Vehicle make (Citroen, Peugeot, ...)_\n",
        "3. _There is nothing that indicates an intrinsic order of the labels, and in principle, they are all equal._"
      ]
    },
    {
      "cell_type": "code",
      "metadata": {
        "id": "vyLRIsYyPe6n",
        "colab_type": "code",
        "colab": {}
      },
      "source": [
        "data1.home_ownership.unique()"
      ],
      "execution_count": 0,
      "outputs": []
    },
    {
      "cell_type": "code",
      "metadata": {
        "id": "C3wV9zU2Pgo0",
        "colab_type": "code",
        "colab": {}
      },
      "source": [
        "fig = data1['home_ownership'].value_counts().plot.bar()\n",
        "fig.set_title('Home Ownership')\n",
        "fig.set_ylabel('Number of customers')"
      ],
      "execution_count": 0,
      "outputs": []
    },
    {
      "cell_type": "code",
      "metadata": {
        "id": "OC3xZgc-PkE4",
        "colab_type": "code",
        "colab": {}
      },
      "source": [
        "data1['home_ownership'].value_counts()"
      ],
      "execution_count": 0,
      "outputs": []
    },
    {
      "cell_type": "code",
      "metadata": {
        "id": "dJ4kkfcnPm7r",
        "colab_type": "code",
        "colab": {}
      },
      "source": [
        "data1.purpose.unique()"
      ],
      "execution_count": 0,
      "outputs": []
    },
    {
      "cell_type": "code",
      "metadata": {
        "id": "Vu-7HrUPPoXG",
        "colab_type": "code",
        "colab": {}
      },
      "source": [
        "fig = data1['purpose'].value_counts().plot.bar()\n",
        "fig.set_title('Loan Purpose')\n",
        "fig.set_ylabel('Number of customers')"
      ],
      "execution_count": 0,
      "outputs": []
    },
    {
      "cell_type": "code",
      "metadata": {
        "id": "jqJ2apY9PsZ_",
        "colab_type": "code",
        "colab": {}
      },
      "source": [
        "data1.loan_status.unique()"
      ],
      "execution_count": 0,
      "outputs": []
    },
    {
      "cell_type": "code",
      "metadata": {
        "id": "jEQF5G9lPuE8",
        "colab_type": "code",
        "colab": {}
      },
      "source": [
        "fig = data1['loan_status'].value_counts().plot.bar()\n",
        "fig.set_title('Status of the Loan')\n",
        "fig.set_ylabel('Number of customers')"
      ],
      "execution_count": 0,
      "outputs": []
    },
    {
      "cell_type": "markdown",
      "metadata": {
        "id": "Xe_Sbp58P904",
        "colab_type": "text"
      },
      "source": [
        "### Date & Time\n",
        "\n",
        "_A special type of categorical variable are those that instead of taking traditional labels, like color (blue, red), or city (London, Manchester), take dates as values. For example, date of birth ('29-08-1987', '12-01-2012'), or time of application ('2016-Dec', '2013-March')._\n",
        "\n",
        "_Datetime variables can contain dates only, or time only, or date and time._\n",
        "\n",
        "_Typically, we would never work with a date variable as a categorical variable, for a variety of reasons:_\n",
        "\n",
        "1. _Date variables usually contain a huge number of individual categories, which will expand the feature space dramatically_\n",
        "2. _Date variables allow us to capture much more information from the dataset if preprocessed in the right way_"
      ]
    },
    {
      "cell_type": "code",
      "metadata": {
        "id": "sD4rEECDQ_aw",
        "colab_type": "code",
        "colab": {}
      },
      "source": [
        "data1.dtypes"
      ],
      "execution_count": 0,
      "outputs": []
    },
    {
      "cell_type": "code",
      "metadata": {
        "id": "wlwzkwr7Q9Zd",
        "colab_type": "code",
        "colab": {}
      },
      "source": [
        "data1['issue_dt'] = pd.to_datetime(data1.issue_d)\n",
        "data1['last_pymnt_dt'] = pd.to_datetime(data1.last_pymnt_d)\n",
        "\n",
        "data1[['issue_d', 'issue_dt', 'last_pymnt_d', 'last_pymnt_dt']].head()"
      ],
      "execution_count": 0,
      "outputs": []
    },
    {
      "cell_type": "code",
      "metadata": {
        "id": "bD0lANC9RDL_",
        "colab_type": "code",
        "colab": {}
      },
      "source": [
        "fig = data1.groupby(['issue_dt', 'grade'])['loan_amnt'].sum().unstack().plot(figsize=(14, 8), linewidth=2)\n",
        "\n",
        "fig.set_title('Disbursed amount in time')\n",
        "fig.set_ylabel('Disbursed Amount (US Dollars)')"
      ],
      "execution_count": 0,
      "outputs": []
    },
    {
      "cell_type": "markdown",
      "metadata": {
        "id": "MAvLDwozReJ8",
        "colab_type": "text"
      },
      "source": [
        "### Mixed Variables"
      ]
    },
    {
      "cell_type": "markdown",
      "metadata": {
        "id": "KcC1Y-L7hpOb",
        "colab_type": "text"
      },
      "source": [
        "_Mixed variables are those which values contain both numbers and labels._\n",
        "\n",
        "_Variables can be mixed for a variety of reasons. For example, when credit agencies gather and store financial information of users, usually, the values of the variables they store are numbers. However, in some cases the credit agencies cannot retrieve information for a certain user for different reasons. What Credit Agencies do in these situations is to code each different reason due to which they failed to retrieve information with a different code or 'label'. Like this, they generate mixed type variables. These variables contain numbers when the value could be retrieved, or labels otherwise._\n",
        "\n",
        "_As an example, think of the variable 'number_of_open_accounts'. It can take any number, representing the number of different financial accounts of the borrower. Sometimes, information may not be available for a certain borrower, for a variety of reasons. Each reason will be coded by a different letter, for example: 'A': couldn't identify the person, 'B': no relevant data, 'C': person seems not to have any open account._\n",
        "\n",
        "_Another example of mixed type variables, is for example the variable missed_payment_status. This variable indicates, whether a borrower has missed a (any) payment in their financial item. For example, if the borrower has a credit card, this variable indicates whether they missed a monthly payment on it. Therefore, this variable can take values of 0, 1, 2, 3 meaning that the customer has missed 0-3 payments in their account. And it can also take the value D, if the customer defaulted on that account._\n",
        "\n",
        "_Typically, once the customer has missed 3 payments, the lender declares the item defaulted (D), that is why this variable takes numerical values 0-3 and then D._"
      ]
    }
  ]
}