{
  "nbformat": 4,
  "nbformat_minor": 0,
  "metadata": {
    "colab": {
      "name": "1. Variable Types.ipynb",
      "provenance": [],
      "collapsed_sections": []
    },
    "kernelspec": {
      "name": "python3",
      "display_name": "Python 3"
    },
    "accelerator": "GPU"
  },
  "cells": [
    {
      "cell_type": "markdown",
      "metadata": {
        "id": "2X5dLtS-Fw6A",
        "colab_type": "text"
      },
      "source": [
        "## What is a Variable?\n",
        "\n",
        "_A variable is any characteristic, number, or quantity that can be measured or counted. The following are examples of variables:_\n",
        "\n",
        "1. _Age (21, 35, 62, ...)_\n",
        "2. _Gender (male, female)_\n",
        "3. _Income (GBP 20000, GBP 35000, GBP 45000, ...)_\n",
        "4. _House price (GBP 350000, GBP 570000, ...)_\n",
        "5. _Country of birth (China, Russia, Costa Rica, ...)_\n",
        "6. _Eye colour (brown, green, blue, ...)_\n",
        "7. _Vehicle make (Ford, Volkswagen, ...)_\n",
        "\n",
        "_They are called 'variables' because the value they take may vary (and it usually does) in a population._\n",
        "\n",
        "\n",
        "_Most variables in a data set can be classified into one of two major types:_\n",
        "\n",
        "* _Numerical variables_\n",
        "* _Categorical variables_"
      ]
    },
    {
      "cell_type": "markdown",
      "metadata": {
        "id": "K586PZxHGU2B",
        "colab_type": "text"
      },
      "source": [
        "### Numerical Variables\n",
        "_The values of a numerical variable are numbers. They can be further classified into discrete and continuous variables._"
      ]
    },
    {
      "cell_type": "markdown",
      "metadata": {
        "id": "Sk9toLzhJTz6",
        "colab_type": "text"
      },
      "source": [
        "#### 1. _Discrete Numerical Variable_\n",
        "_A variable which values are whole numbers (counts) is called discrete. For example, the number of items bought by a customer in a supermarket is discrete. The customer can buy 1, 25, or 50 items, but not 3.7 items. It is always a round number. The following are examples of discrete variables:_\n",
        "\n",
        "1. _Number of active bank accounts of a borrower (1, 4, 7, ...)_\n",
        "2. _Number of pets in the family_\n",
        "3. _Number of children in the family_"
      ]
    },
    {
      "cell_type": "markdown",
      "metadata": {
        "id": "HMwElLILJXAY",
        "colab_type": "text"
      },
      "source": [
        "\n",
        "#### 2. _Continuous Numerical Variable_\n",
        "_A variable that may contain any value within some range is called continuous. For example, the total amount paid by a customer in a supermarket is continuous. The customer can pay, GBP 20.5, GBP 13.10, GBP 83.20 and so on. Other examples of continuous variables are:_\n",
        "\n",
        "1. _House price (in principle, it can take any value) (GBP 350000, 57000, 1000000, ...)_\n",
        "2. _Time spent surfing a website (3.4 seconds, 5.10 seconds, ...)_\n",
        "3. _Total debt as percentage of total income in the last month (0.2, 0.001, 0, 0.75, ...)_"
      ]
    },
    {
      "cell_type": "code",
      "metadata": {
        "id": "nErDJdhKFV9d",
        "colab_type": "code",
        "colab": {}
      },
      "source": [
        "# Importing Required Libraries\n",
        "\n",
        "import pandas as pd\n",
        "import numpy as np\n",
        "\n",
        "import matplotlib.pyplot as plt\n",
        "%matplotlib inline\n",
        "\n",
        "import seaborn as sns"
      ],
      "execution_count": 0,
      "outputs": []
    },
    {
      "cell_type": "code",
      "metadata": {
        "id": "Jztj3IeuXD7E",
        "colab_type": "code",
        "colab": {
          "base_uri": "https://localhost:8080/",
          "height": 202
        },
        "outputId": "b1d82fe8-ae8b-4ea7-da7e-1f8fa50b5513"
      },
      "source": [
        "# Follow article: https://medium.com/@yvettewu.dw/tutorial-kaggle-api-google-colaboratory-1a054a382de0\n",
        "\n",
        "!pip install kaggle\n",
        "\n",
        "!mkdir .kaggle\n",
        "\n",
        "import json\n",
        "token = {\"username\":\"\",\"key\":\"\"}\n",
        "with open('/content/.kaggle/kaggle.json', 'w') as file:\n",
        "    json.dump(token, file)"
      ],
      "execution_count": 2,
      "outputs": [
        {
          "output_type": "stream",
          "text": [
            "Requirement already satisfied: kaggle in /usr/local/lib/python3.6/dist-packages (1.5.6)\n",
            "Requirement already satisfied: python-dateutil in /usr/local/lib/python3.6/dist-packages (from kaggle) (2.6.1)\n",
            "Requirement already satisfied: six>=1.10 in /usr/local/lib/python3.6/dist-packages (from kaggle) (1.12.0)\n",
            "Requirement already satisfied: tqdm in /usr/local/lib/python3.6/dist-packages (from kaggle) (4.28.1)\n",
            "Requirement already satisfied: python-slugify in /usr/local/lib/python3.6/dist-packages (from kaggle) (4.0.0)\n",
            "Requirement already satisfied: requests in /usr/local/lib/python3.6/dist-packages (from kaggle) (2.21.0)\n",
            "Requirement already satisfied: urllib3<1.25,>=1.21.1 in /usr/local/lib/python3.6/dist-packages (from kaggle) (1.24.3)\n",
            "Requirement already satisfied: certifi in /usr/local/lib/python3.6/dist-packages (from kaggle) (2019.11.28)\n",
            "Requirement already satisfied: text-unidecode>=1.3 in /usr/local/lib/python3.6/dist-packages (from python-slugify->kaggle) (1.3)\n",
            "Requirement already satisfied: idna<2.9,>=2.5 in /usr/local/lib/python3.6/dist-packages (from requests->kaggle) (2.8)\n",
            "Requirement already satisfied: chardet<3.1.0,>=3.0.2 in /usr/local/lib/python3.6/dist-packages (from requests->kaggle) (3.0.4)\n"
          ],
          "name": "stdout"
        }
      ]
    },
    {
      "cell_type": "code",
      "metadata": {
        "id": "vU7m_uCjkz-0",
        "colab_type": "code",
        "colab": {
          "base_uri": "https://localhost:8080/",
          "height": 152
        },
        "outputId": "e910b19e-dc10-411f-9213-a775e38d2b12"
      },
      "source": [
        "!chmod 600 /content/.kaggle/kaggle.json\n",
        "!cp /content/.kaggle/kaggle.json ~/.kaggle/kaggle.json\n",
        "!kaggle config set -n path -v{/content}\n",
        "\n",
        "!kaggle datasets download -d wendykan/lending-club-loan-data -p /content\n",
        "\n",
        "!unzip \\*.zip"
      ],
      "execution_count": 4,
      "outputs": [
        {
          "output_type": "stream",
          "text": [
            "- path is now set to: {/content}\n",
            "Downloading lending-club-loan-data.zip to /content\n",
            " 99% 712M/720M [00:10<00:00, 29.2MB/s]\n",
            "100% 720M/720M [00:10<00:00, 68.7MB/s]\n",
            "Archive:  lending-club-loan-data.zip\n",
            "  inflating: LCDataDictionary.xlsx   \n",
            "  inflating: database.sqlite         \n",
            "  inflating: loan.csv                \n"
          ],
          "name": "stdout"
        }
      ]
    },
    {
      "cell_type": "code",
      "metadata": {
        "id": "vkb2SsIYcft3",
        "colab_type": "code",
        "colab": {}
      },
      "source": [
        "pd.set_option('display.max_rows',1000)\n",
        "pd.set_option('display.max_columns',1000)"
      ],
      "execution_count": 0,
      "outputs": []
    },
    {
      "cell_type": "code",
      "metadata": {
        "colab_type": "code",
        "id": "vfnZhb4OL_3N",
        "colab": {
          "base_uri": "https://localhost:8080/",
          "height": 201
        },
        "outputId": "068d5aab-ca2a-4b40-83bd-2b9038798ad4"
      },
      "source": [
        "# Download dataset: https://www.kaggle.com/wendykan/lending-club-loan-data or Link to Kaggle\n",
        "\n",
        "use_cols = ['loan_amnt', 'int_rate', 'annual_inc', 'open_acc', 'loan_status', 'open_il_12m','id', 'purpose', 'loan_status', 'home_ownership','loan_amnt', 'grade', 'purpose', 'issue_d', 'last_pymnt_d']\n",
        "\n",
        "data = pd.read_csv('/content/loan.csv', usecols=use_cols)\n",
        "data1 = data.sample(10000, random_state=44)  # set a seed for reproducibility\n",
        "data.head()"
      ],
      "execution_count": 6,
      "outputs": [
        {
          "output_type": "execute_result",
          "data": {
            "text/html": [
              "<div>\n",
              "<style scoped>\n",
              "    .dataframe tbody tr th:only-of-type {\n",
              "        vertical-align: middle;\n",
              "    }\n",
              "\n",
              "    .dataframe tbody tr th {\n",
              "        vertical-align: top;\n",
              "    }\n",
              "\n",
              "    .dataframe thead th {\n",
              "        text-align: right;\n",
              "    }\n",
              "</style>\n",
              "<table border=\"1\" class=\"dataframe\">\n",
              "  <thead>\n",
              "    <tr style=\"text-align: right;\">\n",
              "      <th></th>\n",
              "      <th>id</th>\n",
              "      <th>loan_amnt</th>\n",
              "      <th>int_rate</th>\n",
              "      <th>grade</th>\n",
              "      <th>home_ownership</th>\n",
              "      <th>annual_inc</th>\n",
              "      <th>issue_d</th>\n",
              "      <th>loan_status</th>\n",
              "      <th>purpose</th>\n",
              "      <th>open_acc</th>\n",
              "      <th>last_pymnt_d</th>\n",
              "      <th>open_il_12m</th>\n",
              "    </tr>\n",
              "  </thead>\n",
              "  <tbody>\n",
              "    <tr>\n",
              "      <th>0</th>\n",
              "      <td>NaN</td>\n",
              "      <td>2500</td>\n",
              "      <td>13.56</td>\n",
              "      <td>C</td>\n",
              "      <td>RENT</td>\n",
              "      <td>55000.0</td>\n",
              "      <td>Dec-2018</td>\n",
              "      <td>Current</td>\n",
              "      <td>debt_consolidation</td>\n",
              "      <td>9.0</td>\n",
              "      <td>Feb-2019</td>\n",
              "      <td>1.0</td>\n",
              "    </tr>\n",
              "    <tr>\n",
              "      <th>1</th>\n",
              "      <td>NaN</td>\n",
              "      <td>30000</td>\n",
              "      <td>18.94</td>\n",
              "      <td>D</td>\n",
              "      <td>MORTGAGE</td>\n",
              "      <td>90000.0</td>\n",
              "      <td>Dec-2018</td>\n",
              "      <td>Current</td>\n",
              "      <td>debt_consolidation</td>\n",
              "      <td>13.0</td>\n",
              "      <td>Feb-2019</td>\n",
              "      <td>2.0</td>\n",
              "    </tr>\n",
              "    <tr>\n",
              "      <th>2</th>\n",
              "      <td>NaN</td>\n",
              "      <td>5000</td>\n",
              "      <td>17.97</td>\n",
              "      <td>D</td>\n",
              "      <td>MORTGAGE</td>\n",
              "      <td>59280.0</td>\n",
              "      <td>Dec-2018</td>\n",
              "      <td>Current</td>\n",
              "      <td>debt_consolidation</td>\n",
              "      <td>8.0</td>\n",
              "      <td>Feb-2019</td>\n",
              "      <td>0.0</td>\n",
              "    </tr>\n",
              "    <tr>\n",
              "      <th>3</th>\n",
              "      <td>NaN</td>\n",
              "      <td>4000</td>\n",
              "      <td>18.94</td>\n",
              "      <td>D</td>\n",
              "      <td>MORTGAGE</td>\n",
              "      <td>92000.0</td>\n",
              "      <td>Dec-2018</td>\n",
              "      <td>Current</td>\n",
              "      <td>debt_consolidation</td>\n",
              "      <td>10.0</td>\n",
              "      <td>Feb-2019</td>\n",
              "      <td>3.0</td>\n",
              "    </tr>\n",
              "    <tr>\n",
              "      <th>4</th>\n",
              "      <td>NaN</td>\n",
              "      <td>30000</td>\n",
              "      <td>16.14</td>\n",
              "      <td>C</td>\n",
              "      <td>MORTGAGE</td>\n",
              "      <td>57250.0</td>\n",
              "      <td>Dec-2018</td>\n",
              "      <td>Current</td>\n",
              "      <td>debt_consolidation</td>\n",
              "      <td>12.0</td>\n",
              "      <td>Feb-2019</td>\n",
              "      <td>3.0</td>\n",
              "    </tr>\n",
              "  </tbody>\n",
              "</table>\n",
              "</div>"
            ],
            "text/plain": [
              "   id  loan_amnt  int_rate grade home_ownership  annual_inc   issue_d  \\\n",
              "0 NaN       2500     13.56     C           RENT     55000.0  Dec-2018   \n",
              "1 NaN      30000     18.94     D       MORTGAGE     90000.0  Dec-2018   \n",
              "2 NaN       5000     17.97     D       MORTGAGE     59280.0  Dec-2018   \n",
              "3 NaN       4000     18.94     D       MORTGAGE     92000.0  Dec-2018   \n",
              "4 NaN      30000     16.14     C       MORTGAGE     57250.0  Dec-2018   \n",
              "\n",
              "  loan_status             purpose  open_acc last_pymnt_d  open_il_12m  \n",
              "0     Current  debt_consolidation       9.0     Feb-2019          1.0  \n",
              "1     Current  debt_consolidation      13.0     Feb-2019          2.0  \n",
              "2     Current  debt_consolidation       8.0     Feb-2019          0.0  \n",
              "3     Current  debt_consolidation      10.0     Feb-2019          3.0  \n",
              "4     Current  debt_consolidation      12.0     Feb-2019          3.0  "
            ]
          },
          "metadata": {
            "tags": []
          },
          "execution_count": 6
        }
      ]
    },
    {
      "cell_type": "code",
      "metadata": {
        "id": "GFB4U8ktfwS5",
        "colab_type": "code",
        "colab": {
          "base_uri": "https://localhost:8080/",
          "height": 185
        },
        "outputId": "079c08a3-dc12-47dd-955a-b9e9cfa3e27d"
      },
      "source": [
        "data['loan_status'].value_counts()"
      ],
      "execution_count": 7,
      "outputs": [
        {
          "output_type": "execute_result",
          "data": {
            "text/plain": [
              "Fully Paid                                             1041952\n",
              "Current                                                 919695\n",
              "Charged Off                                             261655\n",
              "Late (31-120 days)                                       21897\n",
              "In Grace Period                                           8952\n",
              "Late (16-30 days)                                         3737\n",
              "Does not meet the credit policy. Status:Fully Paid        1988\n",
              "Does not meet the credit policy. Status:Charged Off        761\n",
              "Default                                                     31\n",
              "Name: loan_status, dtype: int64"
            ]
          },
          "metadata": {
            "tags": []
          },
          "execution_count": 7
        }
      ]
    },
    {
      "cell_type": "code",
      "metadata": {
        "id": "R8QxLajkbHam",
        "colab_type": "code",
        "colab": {
          "base_uri": "https://localhost:8080/",
          "height": 304
        },
        "outputId": "a9aad4dc-2abe-40da-db85-48bbf20f3671"
      },
      "source": [
        "data.info()"
      ],
      "execution_count": 8,
      "outputs": [
        {
          "output_type": "stream",
          "text": [
            "<class 'pandas.core.frame.DataFrame'>\n",
            "RangeIndex: 2260668 entries, 0 to 2260667\n",
            "Data columns (total 12 columns):\n",
            "id                float64\n",
            "loan_amnt         int64\n",
            "int_rate          float64\n",
            "grade             object\n",
            "home_ownership    object\n",
            "annual_inc        float64\n",
            "issue_d           object\n",
            "loan_status       object\n",
            "purpose           object\n",
            "open_acc          float64\n",
            "last_pymnt_d      object\n",
            "open_il_12m       float64\n",
            "dtypes: float64(5), int64(1), object(6)\n",
            "memory usage: 207.0+ MB\n"
          ],
          "name": "stdout"
        }
      ]
    },
    {
      "cell_type": "code",
      "metadata": {
        "id": "0bzcODeLMoyx",
        "colab_type": "code",
        "colab": {
          "base_uri": "https://localhost:8080/",
          "height": 1000
        },
        "outputId": "2a33004f-7a24-4898-f33c-21aa7adf7963"
      },
      "source": [
        "# Continous Variable\n",
        "data1.loan_amnt.unique()"
      ],
      "execution_count": 9,
      "outputs": [
        {
          "output_type": "execute_result",
          "data": {
            "text/plain": [
              "array([12000, 20000, 35000,  8000, 17000, 14000, 10000, 40000,  9000,\n",
              "       16000, 15000,  1500, 22000,  4000, 12800, 17100,  6600, 16250,\n",
              "        3575,  6000, 10200,  3825, 21600,  7000, 10925,  4800, 25000,\n",
              "       18325, 15025,  7150,  9600,  8400,  7500, 16125,  2000, 28100,\n",
              "       29000,  6400, 22800, 20800, 11325,  5000,  8575, 19125, 30400,\n",
              "        2800, 11875,  3600,  8500,  9800, 21000, 30800, 27225,  1450,\n",
              "       36000,  3500, 22650, 23550,  3300, 19200, 34975, 14400,  4475,\n",
              "        2300, 24000, 11000, 30000,  5400, 10400,  8850, 12375, 13600,\n",
              "       24875, 36425,  2400, 15600, 18900,  9875, 28000, 15225, 18000,\n",
              "        7200,  2500, 13975, 11075, 10975, 19000,  3200,  4500, 11200,\n",
              "       13000, 18500, 14125,  7325, 16800, 22150,  2700, 21900,  4900,\n",
              "        8250,  9500,  3000, 27625,  1600, 32000, 13550, 10550, 23000,\n",
              "       21550, 13500, 32350, 20875, 14925, 19500, 11150, 17025,  7800,\n",
              "        1200, 10050, 21100,  8725, 10850, 13200, 20700, 26000, 19600,\n",
              "       11500,  1000,  6350, 27125,  8800, 15375, 18775,  7250, 23025,\n",
              "       13150, 13100, 28500, 34500,  4200, 17250, 18625, 22525, 17625,\n",
              "        3875, 26750,  9175,  9350, 14500, 11550, 11575, 14250,  1800,\n",
              "       32675, 27000, 28775,  5200, 26875, 10800, 11525, 11975,  6025,\n",
              "        8875, 21275, 29325, 12500, 17500, 14375, 15950, 10150, 14425,\n",
              "       30375, 12325, 13450, 15875,  4775,  5500, 31300, 17775,  3400,\n",
              "       34625, 16725, 23225,  1400,  9450, 15350,  5300, 25050,  6100,\n",
              "       14850, 12175,  8775,  9525,  4600, 14550,  6625,  5600,  7550,\n",
              "        3700,  2200, 19950,  6800,  9725, 18950, 27400,  9200, 13825,\n",
              "        5275, 11800,  3650, 15075, 24900, 14975, 39150, 34000, 19925,\n",
              "       12525,  9750,  6500,  9125, 37000, 19525, 14900,  8375, 16500,\n",
              "       10075,  5950, 13075,  5725, 11300,  2900, 29175, 26025, 26600,\n",
              "        7925, 21525, 21850, 24025, 12925, 23100, 25200, 14700, 28975,\n",
              "       28350,  2975, 12300, 31000, 19300,  3750,  5250,  8075, 26400,\n",
              "       10575,  6150, 15100, 11625,  9025,  7900,  3625, 19250,  2750,\n",
              "       33525,  5425, 16375,  9100, 25475,  8100,  5225, 16200,  9925,\n",
              "       21325, 29275, 38000, 18225,  2425,  8650,  5775, 13900, 10725,\n",
              "        6550, 19800, 24950, 20725, 28800, 19350, 19850, 10450, 37950,\n",
              "       35125, 19975, 16100, 25500, 12600,  1700,  2950, 20200,  1675,\n",
              "       15125, 16750, 21200,  2650,  6900, 10500, 22450, 33750,  3100,\n",
              "       20575, 15400, 15925, 15450, 39425, 12950, 13475, 10625,  8975,\n",
              "        5800, 15500,  4400, 13575, 23300,  5325,  7050, 12075, 21975,\n",
              "        7125,  6300, 10025, 28250, 24600, 24075, 19750, 10125,  7375,\n",
              "        6700,  3250,  4850, 14300, 23200, 19050, 26500, 14725,  7600,\n",
              "       20350, 24500, 18875, 15550, 10600, 17150, 23250, 21750, 33000,\n",
              "       15175, 26700, 30500, 14775,  4050, 21250, 22400,  3925,  3025,\n",
              "       14575,  4150, 21650, 26550, 19475, 11700,  5900, 34800,  4125,\n",
              "       27050,  4375,  7675,  4725, 33425, 12200, 35500, 18725,  7700,\n",
              "       18300, 18600,  9900,  8900, 12700,  8050,  9150, 23950, 13675,\n",
              "       12225, 22750, 26050, 17050, 13225, 26975, 22575,  4950,  4525,\n",
              "        2600, 21725,  9300, 22500, 15800, 11275, 11400, 30675, 33025,\n",
              "        4700,  8675, 29825, 19725, 10375, 28550, 17600, 13250, 37500,\n",
              "        2050, 21475,  1425,  1350,  8200, 25600, 10250, 18050, 26375,\n",
              "        6850, 28950, 33325, 24475, 17200, 21500,  4625, 20400, 28425,\n",
              "       25750, 13350,  6725, 34925, 14825, 18925, 17700, 11850, 27600,\n",
              "       33825, 24375, 14225,  6650, 28475, 15675, 29900, 17925, 17975,\n",
              "       20500, 17225, 24200, 37250, 29800, 16175, 12400, 27675, 13125,\n",
              "       11250, 18275, 27950,  1825, 21825,  6675,  8350,  8700, 18250,\n",
              "        3150,  5100, 21425, 29700,  3525,  8325, 12025, 15525,  8825,\n",
              "       14050,  3675,  7750, 12675, 33500,  6950, 20925,  4750,  4275,\n",
              "        4350, 22200, 26850, 22475, 17950,  6250, 26800, 12625, 30750,\n",
              "       20425,  5125,  9825, 32550,  4300, 14150, 16425, 31900, 17350,\n",
              "       23800, 31200,  7450,  4650, 14100,  2100,  1300, 33600, 18450,\n",
              "       29500, 24850, 17650, 17450, 13925, 25400, 25900, 20175,  4250,\n",
              "        5925, 14025, 18550,  8275, 23075, 29600,  3475, 13800, 10875,\n",
              "        7075, 39075, 14950, 25775, 18200, 24125,  7475, 20750, 20125,\n",
              "       10300,  8600, 16450, 23825, 27500, 11350,  8125, 28300, 20450,\n",
              "        6225, 18825, 19650, 20300,  5750, 17425,  3800, 15750, 15200,\n",
              "       11900, 11125, 15850, 24650,  5575, 21950, 33575, 12750, 30600,\n",
              "       32875, 27300, 20675, 12725, 34475, 31050, 25300, 18125,  6325,\n",
              "        5050, 18675, 12050, 23500, 25450,  3225, 15250, 27200, 15050,\n",
              "        4325, 17400,  9700, 10325, 31500, 25250,  3900, 10100,  4575,\n",
              "        8425, 13700, 16525, 28200,  5875, 17275, 21375,  7025, 31600,\n",
              "       25875, 29750, 31475, 12100, 23400, 30150, 23600,  5825, 30350,\n",
              "        5675, 13275, 23850, 13875, 16550, 25975, 33775, 27550,  4825,\n",
              "       20600,  6175, 14325, 12850,  5350,  3725, 22675, 23050, 28625,\n",
              "        6825, 35100,  1100, 13775, 24150,  1950, 11600, 14600, 10175,\n",
              "        2850, 12825, 13375,  7850, 33950, 19575, 19875, 24800, 16075,\n",
              "       23750, 14475, 12575,  5150,  4175, 16600, 11825, 34250, 23450,\n",
              "       12275,  7425, 24350,  6475,  5650, 32200, 14675,  9325, 39475,\n",
              "       31800, 31450,  7225, 13050, 32825, 23700, 24925, 13950, 29375,\n",
              "       18400,  8550,  2725, 36350,  9950, 25375, 12975, 28175, 23725,\n",
              "       22425, 34900, 34200, 20075, 17125,  5375,  6075, 21125, 19275,\n",
              "       15825,  6425,  5975, 17525, 31575, 11750, 32150, 16300, 32975,\n",
              "        3125, 21075,  6375, 25100, 28900, 29400,  6200, 32500, 23425,\n",
              "        9400, 29075, 25850, 20850,  9250, 32425,  7525, 11025,  2825,\n",
              "       12475, 35450,  8750,  7400, 20225,  4100, 30225,  9575, 16700,\n",
              "        6525, 22875, 13750, 29450, 10475,  8925, 20275, 22075, 24750,\n",
              "        8225, 25150, 15625,  7275, 15300, 12150, 18350, 21350, 21450,\n",
              "        1050,  4225, 34350, 17850,  2250,  1125, 22100, 30475,  5700,\n",
              "       15975, 30725, 16950, 16150, 30125, 10750, 27525, 36550, 23275,\n",
              "       14525, 27175, 26150, 16975, 27475, 12775, 25325, 23375, 22125,\n",
              "       27650, 24575, 10775, 16900, 27325,  3075, 26225, 16275, 19700,\n",
              "       24450, 26325, 11950, 17325,  7350, 26625,  2875, 15475,  1275,\n",
              "       25925, 14750, 14275,  3950, 12250, 23875, 14625, 20975, 20475,\n",
              "       27575, 24625, 24825,  9975, 11675, 24250, 11100, 29975, 31325,\n",
              "       35700, 25800, 17675, 14450,  9850, 11450,  4550, 11425, 25575,\n",
              "        5175, 25725, 16650, 23350, 11650, 16225,  5550, 20775,  4075,\n",
              "        2475,  7875, 13175, 16925, 33400,  4975, 24225, 13400, 13850,\n",
              "       23475, 27925, 32475, 35400, 17900,  7975,  2125, 15150, 13425,\n",
              "       22250, 21150, 10900])"
            ]
          },
          "metadata": {
            "tags": []
          },
          "execution_count": 9
        }
      ]
    },
    {
      "cell_type": "code",
      "metadata": {
        "id": "9Bix1zKuijEI",
        "colab_type": "code",
        "colab": {}
      },
      "source": [
        "plt.style.use('seaborn-pastel')"
      ],
      "execution_count": 0,
      "outputs": []
    },
    {
      "cell_type": "code",
      "metadata": {
        "id": "plKczhYJMvkS",
        "colab_type": "code",
        "colab": {
          "base_uri": "https://localhost:8080/",
          "height": 312
        },
        "outputId": "88944ade-1739-49c4-f925-36015e3a9e14"
      },
      "source": [
        "fig = data1.loan_amnt.hist(bins=50)\n",
        "fig.set_title('Loan Amount Requested')\n",
        "fig.set_xlabel('Loan Amount')\n",
        "fig.set_ylabel('Number of Loans')"
      ],
      "execution_count": 11,
      "outputs": [
        {
          "output_type": "execute_result",
          "data": {
            "text/plain": [
              "Text(0, 0.5, 'Number of Loans')"
            ]
          },
          "metadata": {
            "tags": []
          },
          "execution_count": 11
        },
        {
          "output_type": "display_data",
          "data": {
            "image/png": "[encoded data removed]",
            "text/plain": [
              "<Figure size 432x288 with 1 Axes>"
            ]
          },
          "metadata": {
            "tags": []
          }
        }
      ]
    },
    {
      "cell_type": "markdown",
      "metadata": {
        "id": "Vk1Rs0oodIca",
        "colab_type": "text"
      },
      "source": [
        "_The values of the variable vary across the entire range of the variable. This is characteristic of continuous variables._"
      ]
    },
    {
      "cell_type": "code",
      "metadata": {
        "id": "bLHns2AfM29M",
        "colab_type": "code",
        "colab": {
          "base_uri": "https://localhost:8080/",
          "height": 810
        },
        "outputId": "4fa14bfd-6392-4bbc-c511-aa9d7499a17d"
      },
      "source": [
        "data1.int_rate.unique()"
      ],
      "execution_count": 12,
      "outputs": [
        {
          "output_type": "execute_result",
          "data": {
            "text/plain": [
              "array([10.33, 11.99, 18.25,  7.99,  9.16,  8.39, 16.91,  9.92, 11.39,\n",
              "        7.59, 15.31, 16.55,  9.93, 12.99,  7.26, 11.06, 10.99, 11.49,\n",
              "       12.29,  9.17,  8.46,  6.49, 12.62,  8.19,  7.49, 15.59, 11.44,\n",
              "       13.99, 17.97, 10.08, 13.67, 13.49, 13.59, 27.79, 15.96, 15.99,\n",
              "       13.35,  6.89, 19.92, 20.39,  9.99, 15.61,  6.67,  7.89, 18.99,\n",
              "       21.85, 12.69, 21.98, 11.47, 15.05, 12.12,  9.67,  6.11, 18.49,\n",
              "       16.29,  7.97, 14.09, 14.65, 14.33, 10.91, 16.01, 16.78, 12.73,\n",
              "       17.99, 22.2 ,  8.24, 10.56, 22.99, 14.49, 15.1 ,  6.62, 14.42,\n",
              "        5.32, 14.08, 14.99,  8.81, 21.99,  5.31, 12.39,  9.71, 11.55,\n",
              "        6.99, 15.49, 22.95, 26.3 , 11.03,  7.07,  7.21, 17.57, 22.35,\n",
              "       23.88, 24.49, 30.17, 16.02, 20.75, 10.16, 10.42,  9.43, 25.83,\n",
              "        7.84, 18.94,  9.44, 19.99, 15.04, 16.99, 17.27,  9.49, 24.08,\n",
              "        8.9 , 30.99, 11.48, 14.72, 17.86,  7.34, 16.14,  8.99, 22.4 ,\n",
              "        6.83,  5.93, 11.98,  8.08, 18.06, 13.56, 14.46, 10.15, 11.22,\n",
              "       21.  , 21.49, 10.47,  8.18, 13.53, 12.13, 17.77, 16.46, 10.75,\n",
              "       10.49, 11.8 , 14.47, 12.79, 12.85, 20.  ,  6.19, 24.85, 25.34,\n",
              "       13.33,  6.03, 27.27, 17.47, 13.18, 26.31, 20.89,  6.68, 12.98,\n",
              "       13.65, 19.03,  7.02,  6.97, 24.84,  6.24, 22.45, 17.56, 18.55,\n",
              "        6.07, 19.52, 14.64, 20.5 , 19.42,  7.9 , 11.53,  7.62, 22.15,\n",
              "       11.14,  7.56,  9.75,  7.69, 24.37, 11.67, 15.02, 20.99,  9.58,\n",
              "       28.72, 13.11, 17.09, 23.7 , 18.85, 23.87, 13.58, 13.66,  7.39,\n",
              "        6.  , 18.45, 14.03, 21.18, 30.49, 19.2 , 12.61,  7.91, 26.24,\n",
              "        6.92, 10.07,  8.38, 20.49, 13.61,  7.96, 28.69, 12.74,  8.67,\n",
              "       25.89,  7.35, 15.22,  6.08, 10.78, 30.84, 12.49, 21.45, 16.59,\n",
              "       29.49, 25.78, 12.42, 14.96, 18.2 , 13.98, 10.72, 21.67, 11.05,\n",
              "       10.65,  9.76,  9.8 , 12.88, 12.59, 24.99,  6.72, 20.2 , 16.2 ,\n",
              "       10.41,  8.59, 12.72, 25.82, 23.99, 13.06,  6.46, 19.16, 26.49,\n",
              "       10.62,  9.25,  7.46, 15.8 , 25.69, 24.5 ,  7.12, 10.9 , 23.83,\n",
              "       11.83, 23.4 , 25.81,  6.39, 19.72,  7.24, 18.75, 23.5 , 23.13,\n",
              "       16.08, 19.89, 15.21, 17.14, 25.88, 14.31, 15.88, 15.77, 14.52,\n",
              "       30.75, 22.47, 14.79, 14.07, 30.94,  8.49, 19.19, 10.74, 19.22,\n",
              "       21.48, 22.74, 15.41, 15.65, 13.44, 22.39, 29.99, 26.06, 23.1 ,\n",
              "       11.11, 14.26, 22.9 ,  8.6 , 25.57, 14.16, 10.37, 17.1 , 11.36,\n",
              "       24.74, 12.35, 21.97, 18.62, 23.63, 25.8 , 25.49, 11.12, 16.32,\n",
              "       23.43, 18.24, 17.76,  6.91, 14.98, 30.79, 12.84, 14.48, 12.53,\n",
              "        6.71, 14.85, 18.92, 25.29, 14.3 , 11.71, 27.34, 24.11, 15.62,\n",
              "       28.99, 10.64, 19.24, 19.47, 11.31, 13.05, 18.54, 19.29, 13.72,\n",
              "       13.79, 11.58, 29.69, 16.49,  8.94, 28.18, 30.65,  6.54, 14.59,\n",
              "       16.24,  6.17, 10.38, 23.76, 12.05, 13.85,  9.91, 21.7 , 14.35,\n",
              "       20.62, 16.28, 15.95,  5.42,  6.76, 19.53, 13.23, 27.49, 25.99,\n",
              "       19.05, 21.6 , 26.77, 13.22, 28.88,  7.14, 25.11, 14.91,  9.33,\n",
              "       10.  , 12.18, 18.79,  9.51, 21.15, 22.91, 29.96,  7.68, 15.68,\n",
              "       17.58, 15.27, 12.22, 20.8 , 13.68, 16.45, 26.57,  7.66,  9.32,\n",
              "       11.26, 19.48,  7.29, 12.87, 16.82, 18.84, 23.32, 14.38, 23.28,\n",
              "       10.39, 24.83, 13.8 , 16.4 , 20.25, 25.65, 13.12, 13.57, 28.49,\n",
              "       15.81,  7.51,  8.  , 24.89, 12.68, 19.69, 30.89, 17.74, 23.26,\n",
              "       20.31, 17.43, 16.77, 15.57, 13.16, 25.09])"
            ]
          },
          "metadata": {
            "tags": []
          },
          "execution_count": 12
        }
      ]
    },
    {
      "cell_type": "code",
      "metadata": {
        "id": "-sPUaCwRM5JB",
        "colab_type": "code",
        "colab": {
          "base_uri": "https://localhost:8080/",
          "height": 312
        },
        "outputId": "98793242-147a-4472-bd93-ac0e08053730"
      },
      "source": [
        "fig = data1.int_rate.hist(bins=30)\n",
        "fig.set_title('Interest Rate')\n",
        "fig.set_xlabel('Interest Rate')\n",
        "fig.set_ylabel('Number of Loans')"
      ],
      "execution_count": 13,
      "outputs": [
        {
          "output_type": "execute_result",
          "data": {
            "text/plain": [
              "Text(0, 0.5, 'Number of Loans')"
            ]
          },
          "metadata": {
            "tags": []
          },
          "execution_count": 13
        },
        {
          "output_type": "display_data",
          "data": {
            "image/png": "[encoded data removed]",
            "text/plain": [
              "<Figure size 432x288 with 1 Axes>"
            ]
          },
          "metadata": {
            "tags": []
          }
        }
      ]
    },
    {
      "cell_type": "code",
      "metadata": {
        "id": "uLU3S6eFM8Ck",
        "colab_type": "code",
        "colab": {
          "base_uri": "https://localhost:8080/",
          "height": 312
        },
        "outputId": "ce8d88e9-44a4-4cd3-9b61-f4b01db214ca"
      },
      "source": [
        "fig = data1.annual_inc.hist(bins=100)\n",
        "fig.set_xlim(0, 400000)\n",
        "fig.set_title(\"Customer's Annual Income\")\n",
        "fig.set_xlabel('Annual Income')\n",
        "fig.set_ylabel('Number of Customers')"
      ],
      "execution_count": 14,
      "outputs": [
        {
          "output_type": "execute_result",
          "data": {
            "text/plain": [
              "Text(0, 0.5, 'Number of Customers')"
            ]
          },
          "metadata": {
            "tags": []
          },
          "execution_count": 14
        },
        {
          "output_type": "display_data",
          "data": {
            "image/png": "[encoded data removed]",
            "text/plain": [
              "<Figure size 432x288 with 1 Axes>"
            ]
          },
          "metadata": {
            "tags": []
          }
        }
      ]
    },
    {
      "cell_type": "code",
      "metadata": {
        "id": "rb2Bh3H4M_jb",
        "colab_type": "code",
        "colab": {
          "base_uri": "https://localhost:8080/",
          "height": 84
        },
        "outputId": "5565687d-ab01-45cd-ac6b-362055890020"
      },
      "source": [
        "# Discrete Variable\n",
        "data1.open_acc.dropna().unique()"
      ],
      "execution_count": 15,
      "outputs": [
        {
          "output_type": "execute_result",
          "data": {
            "text/plain": [
              "array([10.,  9., 27., 12.,  5., 19., 11., 14.,  8., 24., 15.,  7., 26.,\n",
              "       22., 18., 21., 16., 17., 25., 23.,  4.,  6., 30.,  3., 31., 13.,\n",
              "       28., 20., 29., 37.,  1., 35., 36., 44.,  2., 34., 39., 33., 32.,\n",
              "       38., 40., 47., 46., 48., 43.,  0., 56., 42.])"
            ]
          },
          "metadata": {
            "tags": []
          },
          "execution_count": 15
        }
      ]
    },
    {
      "cell_type": "markdown",
      "metadata": {
        "id": "wUMIqZ1ldeiF",
        "colab_type": "text"
      },
      "source": [
        "_This is, the total number of credit items (for example, credit cards, car loans, mortgages, etc) that is known for that borrower. By definition it is a discrete variable, because a borrower can have 1 credit card, but not 3.5 credit cards._"
      ]
    },
    {
      "cell_type": "code",
      "metadata": {
        "id": "t-h3IHJoNBn9",
        "colab_type": "code",
        "colab": {
          "base_uri": "https://localhost:8080/",
          "height": 312
        },
        "outputId": "14c2bfc5-4b3d-42df-8562-9ace042d4a4c"
      },
      "source": [
        "fig = data1.open_acc.hist(bins=100)\n",
        "fig.set_xlim(0, 30)\n",
        "fig.set_title('Number of open accounts')\n",
        "fig.set_xlabel('Number of open accounts')\n",
        "fig.set_ylabel('Number of Customers')"
      ],
      "execution_count": 16,
      "outputs": [
        {
          "output_type": "execute_result",
          "data": {
            "text/plain": [
              "Text(0, 0.5, 'Number of Customers')"
            ]
          },
          "metadata": {
            "tags": []
          },
          "execution_count": 16
        },
        {
          "output_type": "display_data",
          "data": {
            "image/png": "[encoded data removed]",
            "text/plain": [
              "<Figure size 432x288 with 1 Axes>"
            ]
          },
          "metadata": {
            "tags": []
          }
        }
      ]
    },
    {
      "cell_type": "code",
      "metadata": {
        "id": "cr3u1CEiNEOy",
        "colab_type": "code",
        "colab": {
          "base_uri": "https://localhost:8080/",
          "height": 34
        },
        "outputId": "d1c7f2b9-cae3-4da2-9d03-4bea2f48c3b9"
      },
      "source": [
        "data1.open_il_12m.unique()"
      ],
      "execution_count": 17,
      "outputs": [
        {
          "output_type": "execute_result",
          "data": {
            "text/plain": [
              "array([ 2.,  0., nan,  1.,  3.,  5.,  4.,  6.,  7.])"
            ]
          },
          "metadata": {
            "tags": []
          },
          "execution_count": 17
        }
      ]
    },
    {
      "cell_type": "code",
      "metadata": {
        "id": "fOubaONrNGQE",
        "colab_type": "code",
        "colab": {
          "base_uri": "https://localhost:8080/",
          "height": 312
        },
        "outputId": "9cc2f153-e40a-41e0-9460-01de068cc6df"
      },
      "source": [
        "fig = data1.open_il_12m.hist(bins=50)\n",
        "fig.set_title('Number of installment accounts opened in past 12 months')\n",
        "fig.set_xlabel('Number of installment accounts opened in past 12 months')\n",
        "fig.set_ylabel('Number of Borrowers')"
      ],
      "execution_count": 18,
      "outputs": [
        {
          "output_type": "execute_result",
          "data": {
            "text/plain": [
              "Text(0, 0.5, 'Number of Borrowers')"
            ]
          },
          "metadata": {
            "tags": []
          },
          "execution_count": 18
        },
        {
          "output_type": "display_data",
          "data": {
            "image/png": "[encoded data removed]",
            "text/plain": [
              "<Figure size 432x288 with 1 Axes>"
            ]
          },
          "metadata": {
            "tags": []
          }
        }
      ]
    },
    {
      "cell_type": "markdown",
      "metadata": {
        "id": "_JLPvmEtdnpk",
        "colab_type": "text"
      },
      "source": [
        "_Histograms of discrete variables have this typical broken shape, as not all the values within the variable range are present in the variable._"
      ]
    },
    {
      "cell_type": "code",
      "metadata": {
        "id": "7FB_coQ1NRO9",
        "colab_type": "code",
        "colab": {
          "base_uri": "https://localhost:8080/",
          "height": 101
        },
        "outputId": "2794c2b3-bfa7-449d-ca6b-9cf60667e07b"
      },
      "source": [
        "# Discrete Variable: Binary Value\n",
        "data.loan_status.unique()"
      ],
      "execution_count": 19,
      "outputs": [
        {
          "output_type": "execute_result",
          "data": {
            "text/plain": [
              "array(['Current', 'Fully Paid', 'Late (31-120 days)', 'In Grace Period',\n",
              "       'Charged Off', 'Late (16-30 days)', 'Default',\n",
              "       'Does not meet the credit policy. Status:Fully Paid',\n",
              "       'Does not meet the credit policy. Status:Charged Off'],\n",
              "      dtype=object)"
            ]
          },
          "metadata": {
            "tags": []
          },
          "execution_count": 19
        }
      ]
    },
    {
      "cell_type": "markdown",
      "metadata": {
        "id": "hamWU4NSdyc5",
        "colab_type": "text"
      },
      "source": [
        "_Binary variables, are discrete variables, that can take only 2 values, therefore binary._\n",
        "\n",
        "_In the next cells we will create an additional variable, called defaulted, to capture the number of loans that have defaulted. A defaulted loan is a loan that a customer has failed to re-pay and the money is lost._\n",
        "\n",
        "_The variable takes the values 0 where the loans are ok and being re-paid regularly, or 1, when the borrower has confirmed that will not be able to re-pay the borrowed amount._"
      ]
    },
    {
      "cell_type": "code",
      "metadata": {
        "id": "WGeb55CdNYHc",
        "colab_type": "code",
        "colab": {
          "base_uri": "https://localhost:8080/",
          "height": 34
        },
        "outputId": "537e0885-d74c-4222-b3e2-17fdeeb057a3"
      },
      "source": [
        "data['defaulted'] = np.where(data.loan_status.isin(['Default']), 1, 0)\n",
        "data.defaulted.mean()"
      ],
      "execution_count": 20,
      "outputs": [
        {
          "output_type": "execute_result",
          "data": {
            "text/plain": [
              "1.3712761006923617e-05"
            ]
          },
          "metadata": {
            "tags": []
          },
          "execution_count": 20
        }
      ]
    },
    {
      "cell_type": "code",
      "metadata": {
        "id": "mB8A5eN8NeSX",
        "colab_type": "code",
        "colab": {
          "base_uri": "https://localhost:8080/",
          "height": 201
        },
        "outputId": "ab5e7558-f9cb-414e-9568-4436729f6c73"
      },
      "source": [
        "data[data.loan_status.isin(['Default'])].head()"
      ],
      "execution_count": 21,
      "outputs": [
        {
          "output_type": "execute_result",
          "data": {
            "text/html": [
              "<div>\n",
              "<style scoped>\n",
              "    .dataframe tbody tr th:only-of-type {\n",
              "        vertical-align: middle;\n",
              "    }\n",
              "\n",
              "    .dataframe tbody tr th {\n",
              "        vertical-align: top;\n",
              "    }\n",
              "\n",
              "    .dataframe thead th {\n",
              "        text-align: right;\n",
              "    }\n",
              "</style>\n",
              "<table border=\"1\" class=\"dataframe\">\n",
              "  <thead>\n",
              "    <tr style=\"text-align: right;\">\n",
              "      <th></th>\n",
              "      <th>id</th>\n",
              "      <th>loan_amnt</th>\n",
              "      <th>int_rate</th>\n",
              "      <th>grade</th>\n",
              "      <th>home_ownership</th>\n",
              "      <th>annual_inc</th>\n",
              "      <th>issue_d</th>\n",
              "      <th>loan_status</th>\n",
              "      <th>purpose</th>\n",
              "      <th>open_acc</th>\n",
              "      <th>last_pymnt_d</th>\n",
              "      <th>open_il_12m</th>\n",
              "      <th>defaulted</th>\n",
              "    </tr>\n",
              "  </thead>\n",
              "  <tbody>\n",
              "    <tr>\n",
              "      <th>220496</th>\n",
              "      <td>NaN</td>\n",
              "      <td>7500</td>\n",
              "      <td>12.73</td>\n",
              "      <td>B</td>\n",
              "      <td>MORTGAGE</td>\n",
              "      <td>50000.0</td>\n",
              "      <td>Jul-2018</td>\n",
              "      <td>Default</td>\n",
              "      <td>medical</td>\n",
              "      <td>4.0</td>\n",
              "      <td>Oct-2018</td>\n",
              "      <td>1.0</td>\n",
              "      <td>1</td>\n",
              "    </tr>\n",
              "    <tr>\n",
              "      <th>220980</th>\n",
              "      <td>NaN</td>\n",
              "      <td>30000</td>\n",
              "      <td>20.89</td>\n",
              "      <td>D</td>\n",
              "      <td>MORTGAGE</td>\n",
              "      <td>109000.0</td>\n",
              "      <td>Jul-2018</td>\n",
              "      <td>Default</td>\n",
              "      <td>debt_consolidation</td>\n",
              "      <td>12.0</td>\n",
              "      <td>Feb-2019</td>\n",
              "      <td>1.0</td>\n",
              "      <td>1</td>\n",
              "    </tr>\n",
              "    <tr>\n",
              "      <th>260870</th>\n",
              "      <td>NaN</td>\n",
              "      <td>1000</td>\n",
              "      <td>17.47</td>\n",
              "      <td>D</td>\n",
              "      <td>MORTGAGE</td>\n",
              "      <td>56160.0</td>\n",
              "      <td>Jun-2018</td>\n",
              "      <td>Default</td>\n",
              "      <td>other</td>\n",
              "      <td>4.0</td>\n",
              "      <td>NaN</td>\n",
              "      <td>0.0</td>\n",
              "      <td>1</td>\n",
              "    </tr>\n",
              "    <tr>\n",
              "      <th>338482</th>\n",
              "      <td>NaN</td>\n",
              "      <td>35000</td>\n",
              "      <td>10.90</td>\n",
              "      <td>B</td>\n",
              "      <td>OWN</td>\n",
              "      <td>30000.0</td>\n",
              "      <td>May-2018</td>\n",
              "      <td>Default</td>\n",
              "      <td>debt_consolidation</td>\n",
              "      <td>3.0</td>\n",
              "      <td>Feb-2019</td>\n",
              "      <td>0.0</td>\n",
              "      <td>1</td>\n",
              "    </tr>\n",
              "    <tr>\n",
              "      <th>347594</th>\n",
              "      <td>NaN</td>\n",
              "      <td>22000</td>\n",
              "      <td>24.84</td>\n",
              "      <td>E</td>\n",
              "      <td>RENT</td>\n",
              "      <td>62000.0</td>\n",
              "      <td>Apr-2018</td>\n",
              "      <td>Default</td>\n",
              "      <td>other</td>\n",
              "      <td>16.0</td>\n",
              "      <td>Feb-2019</td>\n",
              "      <td>2.0</td>\n",
              "      <td>1</td>\n",
              "    </tr>\n",
              "  </tbody>\n",
              "</table>\n",
              "</div>"
            ],
            "text/plain": [
              "        id  loan_amnt  int_rate grade home_ownership  annual_inc   issue_d  \\\n",
              "220496 NaN       7500     12.73     B       MORTGAGE     50000.0  Jul-2018   \n",
              "220980 NaN      30000     20.89     D       MORTGAGE    109000.0  Jul-2018   \n",
              "260870 NaN       1000     17.47     D       MORTGAGE     56160.0  Jun-2018   \n",
              "338482 NaN      35000     10.90     B            OWN     30000.0  May-2018   \n",
              "347594 NaN      22000     24.84     E           RENT     62000.0  Apr-2018   \n",
              "\n",
              "       loan_status             purpose  open_acc last_pymnt_d  open_il_12m  \\\n",
              "220496     Default             medical       4.0     Oct-2018          1.0   \n",
              "220980     Default  debt_consolidation      12.0     Feb-2019          1.0   \n",
              "260870     Default               other       4.0          NaN          0.0   \n",
              "338482     Default  debt_consolidation       3.0     Feb-2019          0.0   \n",
              "347594     Default               other      16.0     Feb-2019          2.0   \n",
              "\n",
              "        defaulted  \n",
              "220496          1  \n",
              "220980          1  \n",
              "260870          1  \n",
              "338482          1  \n",
              "347594          1  "
            ]
          },
          "metadata": {
            "tags": []
          },
          "execution_count": 21
        }
      ]
    },
    {
      "cell_type": "code",
      "metadata": {
        "id": "Nx4sAOrzNgKa",
        "colab_type": "code",
        "colab": {
          "base_uri": "https://localhost:8080/",
          "height": 34
        },
        "outputId": "bca80616-662d-4303-fc05-e1df790b7183"
      },
      "source": [
        "data.defaulted.unique()"
      ],
      "execution_count": 22,
      "outputs": [
        {
          "output_type": "execute_result",
          "data": {
            "text/plain": [
              "array([0, 1])"
            ]
          },
          "metadata": {
            "tags": []
          },
          "execution_count": 22
        }
      ]
    },
    {
      "cell_type": "code",
      "metadata": {
        "id": "O6BST9QUNiPS",
        "colab_type": "code",
        "colab": {
          "base_uri": "https://localhost:8080/",
          "height": 312
        },
        "outputId": "7af9897c-ae00-4235-d125-e5734dc5260f"
      },
      "source": [
        "fig = data.defaulted.hist()\n",
        "fig.set_xlim(0, 2)\n",
        "fig.set_title('Defaulted accounts')\n",
        "fig.set_xlabel('Defaulted')\n",
        "fig.set_ylabel('Number of Loans')"
      ],
      "execution_count": 23,
      "outputs": [
        {
          "output_type": "execute_result",
          "data": {
            "text/plain": [
              "Text(0, 0.5, 'Number of Loans')"
            ]
          },
          "metadata": {
            "tags": []
          },
          "execution_count": 23
        },
        {
          "output_type": "display_data",
          "data": {
            "image/png": "[encoded data removed]",
            "text/plain": [
              "<Figure size 432x288 with 1 Axes>"
            ]
          },
          "metadata": {
            "tags": []
          }
        }
      ]
    },
    {
      "cell_type": "markdown",
      "metadata": {
        "id": "mpdNRc7nNp16",
        "colab_type": "text"
      },
      "source": [
        "### Categorical Variables\n",
        "\n",
        "_The values of a categorical variable are selected from a group of categories, also called labels. Examples are gender (male or female) and marital status (never married, married, divorced or widowed). Other examples of categorical variables include:_\n",
        "\n",
        "1. _Intended use of loan (debt-consolidation, car purchase, wedding expenses, ...)_\n",
        "2. _Mobile network provider (Vodafone, Orange, ...)_\n",
        "3. _Postcode_\n",
        "4. _Categorical variables can be further categorised into ordinal and nominal variables._\n"
      ]
    },
    {
      "cell_type": "markdown",
      "metadata": {
        "id": "9pWZNCcwOAvg",
        "colab_type": "text"
      },
      "source": [
        "#### _Ordinal Categorical Variable_\n",
        "_Categorical variable in which categories can be meaningfully ordered are called ordinal. For example:_\n",
        "\n",
        "1. _Student's grade in an exam (A, B, C or Fail)._\n",
        "2. _Days of the week can be ordinal with Monday = 1 and Sunday = 7._\n",
        "3. _Educational level, with the categories Elementary school, High school, College graduate and PhD ranked from 1 to 4._"
      ]
    },
    {
      "cell_type": "markdown",
      "metadata": {
        "id": "y9RzFDAZOKG5",
        "colab_type": "text"
      },
      "source": [
        "#### _Nominal Categorical Variable_\n",
        "_There isn't an intrinsic order of the labels. For example, country of birth (Argentina, England, Germany) is nominal. Other examples of nominal variables include:_\n",
        "\n",
        "1. _Postcode_\n",
        "2. _Vehicle make (Citroen, Peugeot, ...)_\n",
        "3. _There is nothing that indicates an intrinsic order of the labels, and in principle, they are all equal._"
      ]
    },
    {
      "cell_type": "code",
      "metadata": {
        "id": "vyLRIsYyPe6n",
        "colab_type": "code",
        "colab": {
          "base_uri": "https://localhost:8080/",
          "height": 34
        },
        "outputId": "75c17559-c7c4-4dc3-db03-8fa32f7e9850"
      },
      "source": [
        "data1.home_ownership.unique()"
      ],
      "execution_count": 24,
      "outputs": [
        {
          "output_type": "execute_result",
          "data": {
            "text/plain": [
              "array(['MORTGAGE', 'RENT', 'OWN', 'ANY', 'OTHER'], dtype=object)"
            ]
          },
          "metadata": {
            "tags": []
          },
          "execution_count": 24
        }
      ]
    },
    {
      "cell_type": "code",
      "metadata": {
        "id": "C3wV9zU2Pgo0",
        "colab_type": "code",
        "colab": {
          "base_uri": "https://localhost:8080/",
          "height": 345
        },
        "outputId": "485a02cb-1ecd-48a1-907d-573a79df9cd3"
      },
      "source": [
        "fig = data1['home_ownership'].value_counts().plot.bar()\n",
        "fig.set_title('Home Ownership')\n",
        "fig.set_ylabel('Number of customers')"
      ],
      "execution_count": 25,
      "outputs": [
        {
          "output_type": "execute_result",
          "data": {
            "text/plain": [
              "Text(0, 0.5, 'Number of customers')"
            ]
          },
          "metadata": {
            "tags": []
          },
          "execution_count": 25
        },
        {
          "output_type": "display_data",
          "data": {
            "image/png": "[encoded data removed]",
            "text/plain": [
              "<Figure size 432x288 with 1 Axes>"
            ]
          },
          "metadata": {
            "tags": []
          }
        }
      ]
    },
    {
      "cell_type": "code",
      "metadata": {
        "id": "OC3xZgc-PkE4",
        "colab_type": "code",
        "colab": {
          "base_uri": "https://localhost:8080/",
          "height": 118
        },
        "outputId": "55199e38-853d-4533-d485-c37dd4cdb1c8"
      },
      "source": [
        "data1['home_ownership'].value_counts()"
      ],
      "execution_count": 26,
      "outputs": [
        {
          "output_type": "execute_result",
          "data": {
            "text/plain": [
              "MORTGAGE    4937\n",
              "RENT        3980\n",
              "OWN         1075\n",
              "ANY            6\n",
              "OTHER          2\n",
              "Name: home_ownership, dtype: int64"
            ]
          },
          "metadata": {
            "tags": []
          },
          "execution_count": 26
        }
      ]
    },
    {
      "cell_type": "code",
      "metadata": {
        "id": "dJ4kkfcnPm7r",
        "colab_type": "code",
        "colab": {
          "base_uri": "https://localhost:8080/",
          "height": 84
        },
        "outputId": "ae1fe087-72b5-4036-9599-df01414aec87"
      },
      "source": [
        "data1.purpose.unique()"
      ],
      "execution_count": 27,
      "outputs": [
        {
          "output_type": "execute_result",
          "data": {
            "text/plain": [
              "array(['other', 'debt_consolidation', 'home_improvement', 'credit_card',\n",
              "       'moving', 'medical', 'car', 'major_purchase', 'house',\n",
              "       'small_business', 'vacation', 'renewable_energy', 'wedding'],\n",
              "      dtype=object)"
            ]
          },
          "metadata": {
            "tags": []
          },
          "execution_count": 27
        }
      ]
    },
    {
      "cell_type": "code",
      "metadata": {
        "id": "Vu-7HrUPPoXG",
        "colab_type": "code",
        "colab": {
          "base_uri": "https://localhost:8080/",
          "height": 388
        },
        "outputId": "aa26b23a-2354-4e77-92ee-be1a0c90ecb0"
      },
      "source": [
        "fig = data1['purpose'].value_counts().plot.bar()\n",
        "fig.set_title('Loan Purpose')\n",
        "fig.set_ylabel('Number of customers')"
      ],
      "execution_count": 28,
      "outputs": [
        {
          "output_type": "execute_result",
          "data": {
            "text/plain": [
              "Text(0, 0.5, 'Number of customers')"
            ]
          },
          "metadata": {
            "tags": []
          },
          "execution_count": 28
        },
        {
          "output_type": "display_data",
          "data": {
            "image/png": "[encoded data removed]",
            "text/plain": [
              "<Figure size 432x288 with 1 Axes>"
            ]
          },
          "metadata": {
            "tags": []
          }
        }
      ]
    },
    {
      "cell_type": "code",
      "metadata": {
        "id": "jqJ2apY9PsZ_",
        "colab_type": "code",
        "colab": {
          "base_uri": "https://localhost:8080/",
          "height": 101
        },
        "outputId": "48874535-321b-476b-df1e-03c1667c6f50"
      },
      "source": [
        "data1.loan_status.unique()"
      ],
      "execution_count": 29,
      "outputs": [
        {
          "output_type": "execute_result",
          "data": {
            "text/plain": [
              "array(['Current', 'Charged Off', 'Fully Paid',\n",
              "       'Does not meet the credit policy. Status:Fully Paid',\n",
              "       'Late (16-30 days)', 'Late (31-120 days)', 'In Grace Period',\n",
              "       'Does not meet the credit policy. Status:Charged Off'],\n",
              "      dtype=object)"
            ]
          },
          "metadata": {
            "tags": []
          },
          "execution_count": 29
        }
      ]
    },
    {
      "cell_type": "code",
      "metadata": {
        "id": "jEQF5G9lPuE8",
        "colab_type": "code",
        "colab": {
          "base_uri": "https://localhost:8080/",
          "height": 548
        },
        "outputId": "a3362069-673b-481f-c3c4-8d5c6731cf55"
      },
      "source": [
        "fig = data1['loan_status'].value_counts().plot.bar()\n",
        "fig.set_title('Status of the Loan')\n",
        "fig.set_ylabel('Number of customers')"
      ],
      "execution_count": 30,
      "outputs": [
        {
          "output_type": "execute_result",
          "data": {
            "text/plain": [
              "Text(0, 0.5, 'Number of customers')"
            ]
          },
          "metadata": {
            "tags": []
          },
          "execution_count": 30
        },
        {
          "output_type": "display_data",
          "data": {
            "image/png": "[encoded data removed]",
            "text/plain": [
              "<Figure size 432x288 with 1 Axes>"
            ]
          },
          "metadata": {
            "tags": []
          }
        }
      ]
    },
    {
      "cell_type": "markdown",
      "metadata": {
        "id": "Xe_Sbp58P904",
        "colab_type": "text"
      },
      "source": [
        "### Date & Time\n",
        "\n",
        "_A special type of categorical variable are those that instead of taking traditional labels, like color (blue, red), or city (London, Manchester), take dates as values. For example, date of birth ('29-08-1987', '12-01-2012'), or time of application ('2016-Dec', '2013-March')._\n",
        "\n",
        "_Datetime variables can contain dates only, or time only, or date and time._\n",
        "\n",
        "_Typically, we would never work with a date variable as a categorical variable, for a variety of reasons:_\n",
        "\n",
        "1. _Date variables usually contain a huge number of individual categories, which will expand the feature space dramatically_\n",
        "2. _Date variables allow us to capture much more information from the dataset if preprocessed in the right way_"
      ]
    },
    {
      "cell_type": "code",
      "metadata": {
        "id": "sD4rEECDQ_aw",
        "colab_type": "code",
        "colab": {
          "base_uri": "https://localhost:8080/",
          "height": 236
        },
        "outputId": "56947b74-0496-4a5b-e588-e3e575c7d84a"
      },
      "source": [
        "data1.dtypes"
      ],
      "execution_count": 31,
      "outputs": [
        {
          "output_type": "execute_result",
          "data": {
            "text/plain": [
              "id                float64\n",
              "loan_amnt           int64\n",
              "int_rate          float64\n",
              "grade              object\n",
              "home_ownership     object\n",
              "annual_inc        float64\n",
              "issue_d            object\n",
              "loan_status        object\n",
              "purpose            object\n",
              "open_acc          float64\n",
              "last_pymnt_d       object\n",
              "open_il_12m       float64\n",
              "dtype: object"
            ]
          },
          "metadata": {
            "tags": []
          },
          "execution_count": 31
        }
      ]
    },
    {
      "cell_type": "code",
      "metadata": {
        "id": "wlwzkwr7Q9Zd",
        "colab_type": "code",
        "colab": {
          "base_uri": "https://localhost:8080/",
          "height": 201
        },
        "outputId": "12afce55-b243-4a93-cc1c-0a149ae0879a"
      },
      "source": [
        "data1['issue_dt'] = pd.to_datetime(data1.issue_d)\n",
        "data1['last_pymnt_dt'] = pd.to_datetime(data1.last_pymnt_d)\n",
        "\n",
        "data1[['issue_d', 'issue_dt', 'last_pymnt_d', 'last_pymnt_dt']].head()"
      ],
      "execution_count": 32,
      "outputs": [
        {
          "output_type": "execute_result",
          "data": {
            "text/html": [
              "<div>\n",
              "<style scoped>\n",
              "    .dataframe tbody tr th:only-of-type {\n",
              "        vertical-align: middle;\n",
              "    }\n",
              "\n",
              "    .dataframe tbody tr th {\n",
              "        vertical-align: top;\n",
              "    }\n",
              "\n",
              "    .dataframe thead th {\n",
              "        text-align: right;\n",
              "    }\n",
              "</style>\n",
              "<table border=\"1\" class=\"dataframe\">\n",
              "  <thead>\n",
              "    <tr style=\"text-align: right;\">\n",
              "      <th></th>\n",
              "      <th>issue_d</th>\n",
              "      <th>issue_dt</th>\n",
              "      <th>last_pymnt_d</th>\n",
              "      <th>last_pymnt_dt</th>\n",
              "    </tr>\n",
              "  </thead>\n",
              "  <tbody>\n",
              "    <tr>\n",
              "      <th>70642</th>\n",
              "      <td>Nov-2018</td>\n",
              "      <td>2018-11-01</td>\n",
              "      <td>Feb-2019</td>\n",
              "      <td>2019-02-01</td>\n",
              "    </tr>\n",
              "    <tr>\n",
              "      <th>490788</th>\n",
              "      <td>Jan-2018</td>\n",
              "      <td>2018-01-01</td>\n",
              "      <td>Feb-2019</td>\n",
              "      <td>2019-02-01</td>\n",
              "    </tr>\n",
              "    <tr>\n",
              "      <th>2081591</th>\n",
              "      <td>Feb-2014</td>\n",
              "      <td>2014-02-01</td>\n",
              "      <td>Feb-2017</td>\n",
              "      <td>2017-02-01</td>\n",
              "    </tr>\n",
              "    <tr>\n",
              "      <th>900431</th>\n",
              "      <td>Oct-2016</td>\n",
              "      <td>2016-10-01</td>\n",
              "      <td>Jan-2019</td>\n",
              "      <td>2019-01-01</td>\n",
              "    </tr>\n",
              "    <tr>\n",
              "      <th>781582</th>\n",
              "      <td>Feb-2016</td>\n",
              "      <td>2016-02-01</td>\n",
              "      <td>Jun-2018</td>\n",
              "      <td>2018-06-01</td>\n",
              "    </tr>\n",
              "  </tbody>\n",
              "</table>\n",
              "</div>"
            ],
            "text/plain": [
              "          issue_d   issue_dt last_pymnt_d last_pymnt_dt\n",
              "70642    Nov-2018 2018-11-01     Feb-2019    2019-02-01\n",
              "490788   Jan-2018 2018-01-01     Feb-2019    2019-02-01\n",
              "2081591  Feb-2014 2014-02-01     Feb-2017    2017-02-01\n",
              "900431   Oct-2016 2016-10-01     Jan-2019    2019-01-01\n",
              "781582   Feb-2016 2016-02-01     Jun-2018    2018-06-01"
            ]
          },
          "metadata": {
            "tags": []
          },
          "execution_count": 32
        }
      ]
    },
    {
      "cell_type": "code",
      "metadata": {
        "id": "bD0lANC9RDL_",
        "colab_type": "code",
        "colab": {
          "base_uri": "https://localhost:8080/",
          "height": 499
        },
        "outputId": "8ccde278-281e-499a-d652-70b56368f903"
      },
      "source": [
        "fig = data1.groupby(['issue_dt', 'grade'])['loan_amnt'].sum().unstack().plot(figsize=(14, 8), linewidth=2)\n",
        "\n",
        "fig.set_title('Disbursed amount in time')\n",
        "fig.set_ylabel('Disbursed Amount (US Dollars)')"
      ],
      "execution_count": 33,
      "outputs": [
        {
          "output_type": "execute_result",
          "data": {
            "text/plain": [
              "Text(0, 0.5, 'Disbursed Amount (US Dollars)')"
            ]
          },
          "metadata": {
            "tags": []
          },
          "execution_count": 33
        },
        {
          "output_type": "display_data",
          "data": {
            "image/png": "[encoded data removed]",
            "text/plain": [
              "<Figure size 1008x576 with 1 Axes>"
            ]
          },
          "metadata": {
            "tags": []
          }
        }
      ]
    },
    {
      "cell_type": "markdown",
      "metadata": {
        "id": "MAvLDwozReJ8",
        "colab_type": "text"
      },
      "source": [
        "### Mixed Variables"
      ]
    },
    {
      "cell_type": "markdown",
      "metadata": {
        "id": "KcC1Y-L7hpOb",
        "colab_type": "text"
      },
      "source": [
        "_Mixed variables are those which values contain both numbers and labels._\n",
        "\n",
        "_Variables can be mixed for a variety of reasons. For example, when credit agencies gather and store financial information of users, usually, the values of the variables they store are numbers. However, in some cases the credit agencies cannot retrieve information for a certain user for different reasons. What Credit Agencies do in these situations is to code each different reason due to which they failed to retrieve information with a different code or 'label'. Like this, they generate mixed type variables. These variables contain numbers when the value could be retrieved, or labels otherwise._\n",
        "\n",
        "_As an example, think of the variable 'number_of_open_accounts'. It can take any number, representing the number of different financial accounts of the borrower. Sometimes, information may not be available for a certain borrower, for a variety of reasons. Each reason will be coded by a different letter, for example: 'A': couldn't identify the person, 'B': no relevant data, 'C': person seems not to have any open account._\n",
        "\n",
        "_Another example of mixed type variables, is for example the variable missed_payment_status. This variable indicates, whether a borrower has missed a (any) payment in their financial item. For example, if the borrower has a credit card, this variable indicates whether they missed a monthly payment on it. Therefore, this variable can take values of 0, 1, 2, 3 meaning that the customer has missed 0-3 payments in their account. And it can also take the value D, if the customer defaulted on that account._\n",
        "\n",
        "_Typically, once the customer has missed 3 payments, the lender declares the item defaulted (D), that is why this variable takes numerical values 0-3 and then D._"
      ]
    }
  ]
}