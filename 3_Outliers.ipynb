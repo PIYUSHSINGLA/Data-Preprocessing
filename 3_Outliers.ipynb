{
  "nbformat": 4,
  "nbformat_minor": 0,
  "metadata": {
    "colab": {
      "name": "3. Outliers.ipynb",
      "provenance": [],
      "collapsed_sections": []
    },
    "kernelspec": {
      "name": "python3",
      "display_name": "Python 3"
    }
  },
  "cells": [
    {
      "cell_type": "markdown",
      "metadata": {
        "id": "3Wmcq5jhwBND",
        "colab_type": "text"
      },
      "source": [
        "## ___OUTLIERS___\n",
        "\n",
        "An Outlier is an observation point that is distant from other observations. Outliers are values that are unusually high or unusually low respect to the rest of the observations of the variable.\n",
        "\n",
        "Outliers arise due to changes in system behavior, fraudulent behavior, human error, instrument error, or simply through natural deviations in populations. A sample may have been contaminated with elements from outside the population being examined."
      ]
    },
    {
      "cell_type": "markdown",
      "metadata": {
        "id": "SqYp56ziyhd8",
        "colab_type": "text"
      },
      "source": [
        "### ___Which machine learning models are sensitive to outliers?___\n",
        "\n",
        "Some machine learning models are more sensitive to outliers than others. For instance, AdaBoost may treat outliers as \"hard\" cases and put tremendous weights on outliers, therefore producing a model with bad generalisation.\n",
        "\n",
        "Decision trees tend to ignore the presence of outliers when creating the branches of their trees. Typically, trees make decisions by asking if variable x >= value t, and therefore the outlier will fall on each end of the branch, but it will be treated equally than the remaining values, regardless of its magnitude.\n",
        "\n",
        "Linear models, in particular Linear Regression, can be sensitive to outliers.\n",
        "\n",
        "A recent research article suggests that Neural Networks could also be sensitive to outliers, provided the number of outliers is high and the deviation is also high. I would argue that if the number of outliers is high (>15% as suggested in the article), then they are no longer outliers, and rather a fair representation of that variable."
      ]
    },
    {
      "cell_type": "markdown",
      "metadata": {
        "id": "M5tUzvkwyxvF",
        "colab_type": "text"
      },
      "source": [
        "### ___How can outliers be identified?___\n",
        "\n",
        "Outlier analysis and anomaly detection are a huge field of research devoted to optimise methods and create new algorithms to reliably identify outliers. There are a huge number of ways optimised to detect outliers in different situations. \n",
        "\n",
        "1. ___UNIVARIATE OUTLIERS ANALYSIS___\n",
        "2. ___MULTIVARIATE OUTLIERS ANALYSIS___\n"
      ]
    },
    {
      "cell_type": "code",
      "metadata": {
        "id": "-7o9-X_k08H0",
        "colab_type": "code",
        "colab": {}
      },
      "source": [
        "import pandas as pd\n",
        "import numpy as np\n",
        "\n",
        "import matplotlib.pyplot as plt\n",
        "%matplotlib inline\n",
        "\n",
        "import seaborn as sns\n",
        "\n",
        "plt.style.use('seaborn-pastel')\n",
        "\n",
        "# to display the total number columns present in the dataset\n",
        "pd.set_option('display.max_columns', None)"
      ],
      "execution_count": 0,
      "outputs": []
    },
    {
      "cell_type": "code",
      "metadata": {
        "id": "2GX8u_3X1hdm",
        "colab_type": "code",
        "outputId": "3559c642-588a-4628-b59e-ea9907c72fe3",
        "colab": {
          "base_uri": "https://localhost:8080/",
          "height": 202
        }
      },
      "source": [
        "!pip install kaggle\n",
        "\n",
        "!mkdir .kaggle\n",
        "\n",
        "import json\n",
        "token = {\"username\":\"piyushsingla\",\"key\":\"94939b9ecb5fcbd1eb64911f57ee6087\"}\n",
        "with open('/content/.kaggle/kaggle.json', 'w') as file:\n",
        "    json.dump(token, file)"
      ],
      "execution_count": 2,
      "outputs": [
        {
          "output_type": "stream",
          "text": [
            "Requirement already satisfied: kaggle in /usr/local/lib/python3.6/dist-packages (1.5.6)\n",
            "Requirement already satisfied: python-dateutil in /usr/local/lib/python3.6/dist-packages (from kaggle) (2.8.1)\n",
            "Requirement already satisfied: tqdm in /usr/local/lib/python3.6/dist-packages (from kaggle) (4.28.1)\n",
            "Requirement already satisfied: six>=1.10 in /usr/local/lib/python3.6/dist-packages (from kaggle) (1.12.0)\n",
            "Requirement already satisfied: certifi in /usr/local/lib/python3.6/dist-packages (from kaggle) (2019.11.28)\n",
            "Requirement already satisfied: requests in /usr/local/lib/python3.6/dist-packages (from kaggle) (2.21.0)\n",
            "Requirement already satisfied: urllib3<1.25,>=1.21.1 in /usr/local/lib/python3.6/dist-packages (from kaggle) (1.24.3)\n",
            "Requirement already satisfied: python-slugify in /usr/local/lib/python3.6/dist-packages (from kaggle) (4.0.0)\n",
            "Requirement already satisfied: idna<2.9,>=2.5 in /usr/local/lib/python3.6/dist-packages (from requests->kaggle) (2.8)\n",
            "Requirement already satisfied: chardet<3.1.0,>=3.0.2 in /usr/local/lib/python3.6/dist-packages (from requests->kaggle) (3.0.4)\n",
            "Requirement already satisfied: text-unidecode>=1.3 in /usr/local/lib/python3.6/dist-packages (from python-slugify->kaggle) (1.3)\n"
          ],
          "name": "stdout"
        }
      ]
    },
    {
      "cell_type": "code",
      "metadata": {
        "id": "g4mp5b6L1j-W",
        "colab_type": "code",
        "colab": {}
      },
      "source": [
        "!chmod 600 /content/.kaggle/kaggle.json"
      ],
      "execution_count": 0,
      "outputs": []
    },
    {
      "cell_type": "code",
      "metadata": {
        "id": "epZ2cirJ1l51",
        "colab_type": "code",
        "colab": {}
      },
      "source": [
        "!cp /content/.kaggle/kaggle.json ~/.kaggle/kaggle.json"
      ],
      "execution_count": 0,
      "outputs": []
    },
    {
      "cell_type": "code",
      "metadata": {
        "id": "Il8F50eX1qEE",
        "colab_type": "code",
        "outputId": "753988c9-6f9b-4c40-ac86-b6eef72e9e56",
        "colab": {
          "base_uri": "https://localhost:8080/",
          "height": 202
        }
      },
      "source": [
        "!kaggle config set -n path -v{/content}\n",
        "\n",
        "!kaggle competitions download -c titanic -p /content"
      ],
      "execution_count": 11,
      "outputs": [
        {
          "output_type": "stream",
          "text": [
            "- path is now set to: {/content}\n",
            "Warning: Looks like you're using an outdated API Version, please consider updating (server 1.5.6 / client 1.5.4)\n",
            "Downloading gender_submission.csv to /content\n",
            "  0% 0.00/3.18k [00:00<?, ?B/s]\n",
            "100% 3.18k/3.18k [00:00<00:00, 6.66MB/s]\n",
            "Downloading test.csv to /content\n",
            "  0% 0.00/28.0k [00:00<?, ?B/s]\n",
            "100% 28.0k/28.0k [00:00<00:00, 28.0MB/s]\n",
            "Downloading train.csv to /content\n",
            "  0% 0.00/59.8k [00:00<?, ?B/s]\n",
            "100% 59.8k/59.8k [00:00<00:00, 61.7MB/s]\n"
          ],
          "name": "stdout"
        }
      ]
    },
    {
      "cell_type": "code",
      "metadata": {
        "id": "DKL7ia2l1r7c",
        "colab_type": "code",
        "outputId": "dc4f0e5b-d0c5-4238-f104-e4391b8067a0",
        "colab": {
          "base_uri": "https://localhost:8080/",
          "height": 201
        }
      },
      "source": [
        "# let's load the titanic dataset\n",
        "\n",
        "data = pd.read_csv('/content/train.csv')\n",
        "data.head()"
      ],
      "execution_count": 66,
      "outputs": [
        {
          "output_type": "execute_result",
          "data": {
            "text/html": [
              "<div>\n",
              "<style scoped>\n",
              "    .dataframe tbody tr th:only-of-type {\n",
              "        vertical-align: middle;\n",
              "    }\n",
              "\n",
              "    .dataframe tbody tr th {\n",
              "        vertical-align: top;\n",
              "    }\n",
              "\n",
              "    .dataframe thead th {\n",
              "        text-align: right;\n",
              "    }\n",
              "</style>\n",
              "<table border=\"1\" class=\"dataframe\">\n",
              "  <thead>\n",
              "    <tr style=\"text-align: right;\">\n",
              "      <th></th>\n",
              "      <th>PassengerId</th>\n",
              "      <th>Survived</th>\n",
              "      <th>Pclass</th>\n",
              "      <th>Name</th>\n",
              "      <th>Sex</th>\n",
              "      <th>Age</th>\n",
              "      <th>SibSp</th>\n",
              "      <th>Parch</th>\n",
              "      <th>Ticket</th>\n",
              "      <th>Fare</th>\n",
              "      <th>Cabin</th>\n",
              "      <th>Embarked</th>\n",
              "    </tr>\n",
              "  </thead>\n",
              "  <tbody>\n",
              "    <tr>\n",
              "      <th>0</th>\n",
              "      <td>1</td>\n",
              "      <td>0</td>\n",
              "      <td>3</td>\n",
              "      <td>Braund, Mr. Owen Harris</td>\n",
              "      <td>male</td>\n",
              "      <td>22.0</td>\n",
              "      <td>1</td>\n",
              "      <td>0</td>\n",
              "      <td>A/5 21171</td>\n",
              "      <td>7.2500</td>\n",
              "      <td>NaN</td>\n",
              "      <td>S</td>\n",
              "    </tr>\n",
              "    <tr>\n",
              "      <th>1</th>\n",
              "      <td>2</td>\n",
              "      <td>1</td>\n",
              "      <td>1</td>\n",
              "      <td>Cumings, Mrs. John Bradley (Florence Briggs Th...</td>\n",
              "      <td>female</td>\n",
              "      <td>38.0</td>\n",
              "      <td>1</td>\n",
              "      <td>0</td>\n",
              "      <td>PC 17599</td>\n",
              "      <td>71.2833</td>\n",
              "      <td>C85</td>\n",
              "      <td>C</td>\n",
              "    </tr>\n",
              "    <tr>\n",
              "      <th>2</th>\n",
              "      <td>3</td>\n",
              "      <td>1</td>\n",
              "      <td>3</td>\n",
              "      <td>Heikkinen, Miss. Laina</td>\n",
              "      <td>female</td>\n",
              "      <td>26.0</td>\n",
              "      <td>0</td>\n",
              "      <td>0</td>\n",
              "      <td>STON/O2. 3101282</td>\n",
              "      <td>7.9250</td>\n",
              "      <td>NaN</td>\n",
              "      <td>S</td>\n",
              "    </tr>\n",
              "    <tr>\n",
              "      <th>3</th>\n",
              "      <td>4</td>\n",
              "      <td>1</td>\n",
              "      <td>1</td>\n",
              "      <td>Futrelle, Mrs. Jacques Heath (Lily May Peel)</td>\n",
              "      <td>female</td>\n",
              "      <td>35.0</td>\n",
              "      <td>1</td>\n",
              "      <td>0</td>\n",
              "      <td>113803</td>\n",
              "      <td>53.1000</td>\n",
              "      <td>C123</td>\n",
              "      <td>S</td>\n",
              "    </tr>\n",
              "    <tr>\n",
              "      <th>4</th>\n",
              "      <td>5</td>\n",
              "      <td>0</td>\n",
              "      <td>3</td>\n",
              "      <td>Allen, Mr. William Henry</td>\n",
              "      <td>male</td>\n",
              "      <td>35.0</td>\n",
              "      <td>0</td>\n",
              "      <td>0</td>\n",
              "      <td>373450</td>\n",
              "      <td>8.0500</td>\n",
              "      <td>NaN</td>\n",
              "      <td>S</td>\n",
              "    </tr>\n",
              "  </tbody>\n",
              "</table>\n",
              "</div>"
            ],
            "text/plain": [
              "   PassengerId  Survived  Pclass  \\\n",
              "0            1         0       3   \n",
              "1            2         1       1   \n",
              "2            3         1       3   \n",
              "3            4         1       1   \n",
              "4            5         0       3   \n",
              "\n",
              "                                                Name     Sex   Age  SibSp  \\\n",
              "0                            Braund, Mr. Owen Harris    male  22.0      1   \n",
              "1  Cumings, Mrs. John Bradley (Florence Briggs Th...  female  38.0      1   \n",
              "2                             Heikkinen, Miss. Laina  female  26.0      0   \n",
              "3       Futrelle, Mrs. Jacques Heath (Lily May Peel)  female  35.0      1   \n",
              "4                           Allen, Mr. William Henry    male  35.0      0   \n",
              "\n",
              "   Parch            Ticket     Fare Cabin Embarked  \n",
              "0      0         A/5 21171   7.2500   NaN        S  \n",
              "1      0          PC 17599  71.2833   C85        C  \n",
              "2      0  STON/O2. 3101282   7.9250   NaN        S  \n",
              "3      0            113803  53.1000  C123        S  \n",
              "4      0            373450   8.0500   NaN        S  "
            ]
          },
          "metadata": {
            "tags": []
          },
          "execution_count": 66
        }
      ]
    },
    {
      "cell_type": "code",
      "metadata": {
        "id": "foQiHAXl1-vg",
        "colab_type": "code",
        "outputId": "d8407916-67a2-4381-d77f-ec0febd5b147",
        "colab": {
          "base_uri": "https://localhost:8080/",
          "height": 304
        }
      },
      "source": [
        "data.info()"
      ],
      "execution_count": 13,
      "outputs": [
        {
          "output_type": "stream",
          "text": [
            "<class 'pandas.core.frame.DataFrame'>\n",
            "RangeIndex: 891 entries, 0 to 890\n",
            "Data columns (total 12 columns):\n",
            "PassengerId    891 non-null int64\n",
            "Survived       891 non-null int64\n",
            "Pclass         891 non-null int64\n",
            "Name           891 non-null object\n",
            "Sex            891 non-null object\n",
            "Age            714 non-null float64\n",
            "SibSp          891 non-null int64\n",
            "Parch          891 non-null int64\n",
            "Ticket         891 non-null object\n",
            "Fare           891 non-null float64\n",
            "Cabin          204 non-null object\n",
            "Embarked       889 non-null object\n",
            "dtypes: float64(2), int64(5), object(5)\n",
            "memory usage: 83.7+ KB\n"
          ],
          "name": "stdout"
        }
      ]
    },
    {
      "cell_type": "code",
      "metadata": {
        "id": "2KGxMmpl2AxX",
        "colab_type": "code",
        "outputId": "f5895baa-c10d-4b2a-b2de-913a272a9eff",
        "colab": {
          "base_uri": "https://localhost:8080/",
          "height": 293
        }
      },
      "source": [
        "data.describe()"
      ],
      "execution_count": 14,
      "outputs": [
        {
          "output_type": "execute_result",
          "data": {
            "text/html": [
              "<div>\n",
              "<style scoped>\n",
              "    .dataframe tbody tr th:only-of-type {\n",
              "        vertical-align: middle;\n",
              "    }\n",
              "\n",
              "    .dataframe tbody tr th {\n",
              "        vertical-align: top;\n",
              "    }\n",
              "\n",
              "    .dataframe thead th {\n",
              "        text-align: right;\n",
              "    }\n",
              "</style>\n",
              "<table border=\"1\" class=\"dataframe\">\n",
              "  <thead>\n",
              "    <tr style=\"text-align: right;\">\n",
              "      <th></th>\n",
              "      <th>PassengerId</th>\n",
              "      <th>Survived</th>\n",
              "      <th>Pclass</th>\n",
              "      <th>Age</th>\n",
              "      <th>SibSp</th>\n",
              "      <th>Parch</th>\n",
              "      <th>Fare</th>\n",
              "    </tr>\n",
              "  </thead>\n",
              "  <tbody>\n",
              "    <tr>\n",
              "      <th>count</th>\n",
              "      <td>891.000000</td>\n",
              "      <td>891.000000</td>\n",
              "      <td>891.000000</td>\n",
              "      <td>714.000000</td>\n",
              "      <td>891.000000</td>\n",
              "      <td>891.000000</td>\n",
              "      <td>891.000000</td>\n",
              "    </tr>\n",
              "    <tr>\n",
              "      <th>mean</th>\n",
              "      <td>446.000000</td>\n",
              "      <td>0.383838</td>\n",
              "      <td>2.308642</td>\n",
              "      <td>29.699118</td>\n",
              "      <td>0.523008</td>\n",
              "      <td>0.381594</td>\n",
              "      <td>32.204208</td>\n",
              "    </tr>\n",
              "    <tr>\n",
              "      <th>std</th>\n",
              "      <td>257.353842</td>\n",
              "      <td>0.486592</td>\n",
              "      <td>0.836071</td>\n",
              "      <td>14.526497</td>\n",
              "      <td>1.102743</td>\n",
              "      <td>0.806057</td>\n",
              "      <td>49.693429</td>\n",
              "    </tr>\n",
              "    <tr>\n",
              "      <th>min</th>\n",
              "      <td>1.000000</td>\n",
              "      <td>0.000000</td>\n",
              "      <td>1.000000</td>\n",
              "      <td>0.420000</td>\n",
              "      <td>0.000000</td>\n",
              "      <td>0.000000</td>\n",
              "      <td>0.000000</td>\n",
              "    </tr>\n",
              "    <tr>\n",
              "      <th>25%</th>\n",
              "      <td>223.500000</td>\n",
              "      <td>0.000000</td>\n",
              "      <td>2.000000</td>\n",
              "      <td>20.125000</td>\n",
              "      <td>0.000000</td>\n",
              "      <td>0.000000</td>\n",
              "      <td>7.910400</td>\n",
              "    </tr>\n",
              "    <tr>\n",
              "      <th>50%</th>\n",
              "      <td>446.000000</td>\n",
              "      <td>0.000000</td>\n",
              "      <td>3.000000</td>\n",
              "      <td>28.000000</td>\n",
              "      <td>0.000000</td>\n",
              "      <td>0.000000</td>\n",
              "      <td>14.454200</td>\n",
              "    </tr>\n",
              "    <tr>\n",
              "      <th>75%</th>\n",
              "      <td>668.500000</td>\n",
              "      <td>1.000000</td>\n",
              "      <td>3.000000</td>\n",
              "      <td>38.000000</td>\n",
              "      <td>1.000000</td>\n",
              "      <td>0.000000</td>\n",
              "      <td>31.000000</td>\n",
              "    </tr>\n",
              "    <tr>\n",
              "      <th>max</th>\n",
              "      <td>891.000000</td>\n",
              "      <td>1.000000</td>\n",
              "      <td>3.000000</td>\n",
              "      <td>80.000000</td>\n",
              "      <td>8.000000</td>\n",
              "      <td>6.000000</td>\n",
              "      <td>512.329200</td>\n",
              "    </tr>\n",
              "  </tbody>\n",
              "</table>\n",
              "</div>"
            ],
            "text/plain": [
              "       PassengerId    Survived      Pclass         Age       SibSp  \\\n",
              "count   891.000000  891.000000  891.000000  714.000000  891.000000   \n",
              "mean    446.000000    0.383838    2.308642   29.699118    0.523008   \n",
              "std     257.353842    0.486592    0.836071   14.526497    1.102743   \n",
              "min       1.000000    0.000000    1.000000    0.420000    0.000000   \n",
              "25%     223.500000    0.000000    2.000000   20.125000    0.000000   \n",
              "50%     446.000000    0.000000    3.000000   28.000000    0.000000   \n",
              "75%     668.500000    1.000000    3.000000   38.000000    1.000000   \n",
              "max     891.000000    1.000000    3.000000   80.000000    8.000000   \n",
              "\n",
              "            Parch        Fare  \n",
              "count  891.000000  891.000000  \n",
              "mean     0.381594   32.204208  \n",
              "std      0.806057   49.693429  \n",
              "min      0.000000    0.000000  \n",
              "25%      0.000000    7.910400  \n",
              "50%      0.000000   14.454200  \n",
              "75%      0.000000   31.000000  \n",
              "max      6.000000  512.329200  "
            ]
          },
          "metadata": {
            "tags": []
          },
          "execution_count": 14
        }
      ]
    },
    {
      "cell_type": "markdown",
      "metadata": {
        "id": "ypFa1k-g0FWG",
        "colab_type": "text"
      },
      "source": [
        "#### ___UNIVARIATE OUTLIERS DETECTION - PARAMETRIC___"
      ]
    },
    {
      "cell_type": "markdown",
      "metadata": {
        "id": "X2MlUP890FQC",
        "colab_type": "text"
      },
      "source": [
        "##### _**BOX PLOT**_\n",
        "\n",
        "The quickest and easiest way to identify outliers is by visualizing them using plots. In descriptive statistics, a box plot is a method for graphically depicting groups of numerical data through their quartiles. Box plots may also have lines extending vertically from the boxes (whiskers) indicating variability outside the upper and lower quartiles, hence the terms box-and-whisker plot and box-and-whisker diagram. Outliers may be plotted as individual points."
      ]
    },
    {
      "cell_type": "code",
      "metadata": {
        "id": "5Lsimfqf2QZL",
        "colab_type": "code",
        "outputId": "cf7a9c9e-1a1c-45a5-9c08-ef7c63525c71",
        "colab": {
          "base_uri": "https://localhost:8080/",
          "height": 407
        }
      },
      "source": [
        "plt.figure(figsize=(15,6))\n",
        "plt.subplot(1, 2, 1)\n",
        "fig = data.boxplot(column='Age')\n",
        "fig.set_title('Box Plot of Age')\n",
        "fig.set_ylabel('Age')\n",
        "\n",
        "plt.subplot(1, 2, 2)\n",
        "fig = data.boxplot(column='Fare')\n",
        "fig.set_title('Box Plot of Fare')\n",
        "fig.set_ylabel('Fare')"
      ],
      "execution_count": 15,
      "outputs": [
        {
          "output_type": "execute_result",
          "data": {
            "text/plain": [
              "Text(0, 0.5, 'Fare')"
            ]
          },
          "metadata": {
            "tags": []
          },
          "execution_count": 15
        },
        {
          "output_type": "display_data",
          "data": {
            "image/png": "[encoded data removed]",
            "text/plain": [
              "<Figure size 1080x432 with 2 Axes>"
            ]
          },
          "metadata": {
            "tags": []
          }
        }
      ]
    },
    {
      "cell_type": "markdown",
      "metadata": {
        "id": "Bnsgietj0Nih",
        "colab_type": "text"
      },
      "source": [
        "##### ___SCATTER PLOT___\n",
        "\n",
        "A scatter plot , is a type of plot or mathematical diagram using Cartesian coordinates to display values for typically two variables for a set of data. The data are displayed as a collection of points, each having the value of one variable determining the position on the horizontal axis and the value of the other variable determining the position on the vertical axis."
      ]
    },
    {
      "cell_type": "code",
      "metadata": {
        "id": "NZAVH-f-3_ao",
        "colab_type": "code",
        "outputId": "47eb787a-30c2-43ad-d6f6-9acf065c2851",
        "colab": {
          "base_uri": "https://localhost:8080/",
          "height": 458
        }
      },
      "source": [
        "sns.jointplot('Fare','Age', data)"
      ],
      "execution_count": 16,
      "outputs": [
        {
          "output_type": "execute_result",
          "data": {
            "text/plain": [
              "<seaborn.axisgrid.JointGrid at 0x7feb8e553ac8>"
            ]
          },
          "metadata": {
            "tags": []
          },
          "execution_count": 16
        },
        {
          "output_type": "display_data",
          "data": {
            "image/png": "[encoded data removed]",
            "text/plain": [
              "<Figure size 432x432 with 3 Axes>"
            ]
          },
          "metadata": {
            "tags": []
          }
        }
      ]
    },
    {
      "cell_type": "code",
      "metadata": {
        "id": "TJHv9i0T2Vvj",
        "colab_type": "code",
        "outputId": "1722133d-ecae-490c-c780-982daac014db",
        "colab": {
          "base_uri": "https://localhost:8080/",
          "height": 225
        }
      },
      "source": [
        "g = sns.FacetGrid(data, hue=\"Survived\", col=\"Pclass\", margin_titles=True)\n",
        "g=g.map(plt.scatter, \"Fare\", \"Age\").add_legend();"
      ],
      "execution_count": 17,
      "outputs": [
        {
          "output_type": "display_data",
          "data": {
            "image/png": "[encoded data removed]",
            "text/plain": [
              "<Figure size 699.875x216 with 3 Axes>"
            ]
          },
          "metadata": {
            "tags": []
          }
        }
      ]
    },
    {
      "cell_type": "markdown",
      "metadata": {
        "id": "7r31OpL_0Uno",
        "colab_type": "text"
      },
      "source": [
        "##### ___Z-SCORE ANALYSIS___\n",
        "This method assumes that the variable has a Gaussian distribution. The Z-score is the signed number of standard deviations by which the value of an observation or data point is above the mean value of what is being observed or measured.\n",
        "\n",
        "Here, we normally define outliers as points whose modulus of z-score is greater than a threshold value. This threshold value is usually greater than 2 (3 is a common value)."
      ]
    },
    {
      "cell_type": "code",
      "metadata": {
        "id": "uMGInn1E3cZA",
        "colab_type": "code",
        "outputId": "295050a2-660e-4347-af0f-cdcaba013314",
        "colab": {
          "base_uri": "https://localhost:8080/",
          "height": 405
        }
      },
      "source": [
        "# first we plot the distributions to find out if they are Gaussian or skewed.\n",
        "# Depending on the distribution, we will use the normal assumption or the interquantile range to find outliers\n",
        "\n",
        "plt.figure(figsize=(15,6))\n",
        "plt.subplot(1, 2, 1)\n",
        "fig = data.Age.hist(bins=20)\n",
        "fig.set_ylabel('Number of passengers')\n",
        "fig.set_xlabel('Age')\n",
        "\n",
        "plt.subplot(1, 2, 2)\n",
        "fig = data.Fare.hist(bins=20)\n",
        "fig.set_ylabel('Number of passengers')\n",
        "fig.set_xlabel('Fare')"
      ],
      "execution_count": 18,
      "outputs": [
        {
          "output_type": "execute_result",
          "data": {
            "text/plain": [
              "Text(0.5, 0, 'Fare')"
            ]
          },
          "metadata": {
            "tags": []
          },
          "execution_count": 18
        },
        {
          "output_type": "display_data",
          "data": {
            "image/png": "[encoded data removed]",
            "text/plain": [
              "<Figure size 1080x432 with 2 Axes>"
            ]
          },
          "metadata": {
            "tags": []
          }
        }
      ]
    },
    {
      "cell_type": "code",
      "metadata": {
        "id": "GWyaJZri4qQ9",
        "colab_type": "code",
        "colab": {}
      },
      "source": [
        "def outlier_zscore(data):\n",
        "  threshold = 3\n",
        "  mean_data = np.mean(data)\n",
        "  print('Mean:', mean_data)\n",
        "  std_data = np.std(data)\n",
        "  print('Standard Dev:', std_data)\n",
        "   \n",
        "  z_scores = [(x-mean_data)/std_data for x in data]\n",
        "  return np.where(np.abs(z_scores) > threshold)"
      ],
      "execution_count": 0,
      "outputs": []
    },
    {
      "cell_type": "code",
      "metadata": {
        "id": "Wh0UDeBR5g_M",
        "colab_type": "code",
        "outputId": "9bbb0781-6fd0-4813-fb41-e076ba1c21a1",
        "colab": {
          "base_uri": "https://localhost:8080/",
          "height": 84
        }
      },
      "source": [
        "outlier_zscore(data['Fare'])"
      ],
      "execution_count": 20,
      "outputs": [
        {
          "output_type": "stream",
          "text": [
            "Mean: 32.2042079685746\n",
            "Standard Dev: 49.66553444477411\n"
          ],
          "name": "stdout"
        },
        {
          "output_type": "execute_result",
          "data": {
            "text/plain": [
              "(array([ 27,  88, 118, 258, 299, 311, 341, 377, 380, 438, 527, 557, 679,\n",
              "        689, 700, 716, 730, 737, 742, 779]),)"
            ]
          },
          "metadata": {
            "tags": []
          },
          "execution_count": 20
        }
      ]
    },
    {
      "cell_type": "markdown",
      "metadata": {
        "id": "pJdwt3A17hzP",
        "colab_type": "text"
      },
      "source": [
        "--or--"
      ]
    },
    {
      "cell_type": "code",
      "metadata": {
        "id": "lKO8dhAP5Vs7",
        "colab_type": "code",
        "outputId": "e81b95a8-b125-475e-a62e-737a4d05a811",
        "colab": {
          "base_uri": "https://localhost:8080/",
          "height": 50
        }
      },
      "source": [
        "from scipy import stats\n",
        "np.where(stats.zscore(data['Fare'])>3)"
      ],
      "execution_count": 21,
      "outputs": [
        {
          "output_type": "execute_result",
          "data": {
            "text/plain": [
              "(array([ 27,  88, 118, 258, 299, 311, 341, 377, 380, 438, 527, 557, 679,\n",
              "        689, 700, 716, 730, 737, 742, 779]),)"
            ]
          },
          "metadata": {
            "tags": []
          },
          "execution_count": 21
        }
      ]
    },
    {
      "cell_type": "markdown",
      "metadata": {
        "id": "DCNSJGuxzrFq",
        "colab_type": "text"
      },
      "source": [
        "##### _**IQR ANALYSIS**_\n",
        "\n",
        "If the variable is not normally distributed, a general approach is to calculate the quantiles, and then the interquantile range (IQR), as follows:\n",
        "\n",
        "`IQR = 75th quantile - 25th quantile`\n",
        "\n",
        "An outlier will sit outside the following upper and lower boundaries:\n",
        "\n",
        "```\n",
        "Upper boundary = 75th quantile + (IQR * 1.5)\n",
        "\n",
        "Lower boundary = 25th quantile - (IQR * 1.5)\n",
        "```\n",
        "\n",
        "or for extreme cases:\n",
        "\n",
        "```\n",
        "Upper boundary = 75th quantile + (IQR * 3)\n",
        "\n",
        "Lower boundary = 25th quantile - (IQR * 3)\n",
        "```"
      ]
    },
    {
      "cell_type": "code",
      "metadata": {
        "id": "yEMa2QES7lzQ",
        "colab_type": "code",
        "colab": {}
      },
      "source": [
        "def outlier_IQR(data):\n",
        "  Q1, Q3 = np.percentile(data,[25,75])\n",
        "  IQR = Q3-Q1\n",
        "  LowerBound = Q1 - (1.5*IQR)\n",
        "  UpperBound = Q3 + (1.5*IQR)\n",
        "  return np.where((data>UpperBound) | (data<LowerBound))"
      ],
      "execution_count": 0,
      "outputs": []
    },
    {
      "cell_type": "code",
      "metadata": {
        "id": "m10fUHCc8RCY",
        "colab_type": "code",
        "outputId": "cf8ebfc2-7868-40a3-c5db-1f7a1e4f827c",
        "colab": {
          "base_uri": "https://localhost:8080/",
          "height": 169
        }
      },
      "source": [
        "outlier_IQR(data['Fare'])"
      ],
      "execution_count": 23,
      "outputs": [
        {
          "output_type": "execute_result",
          "data": {
            "text/plain": [
              "(array([  1,  27,  31,  34,  52,  61,  62,  72,  88, 102, 118, 120, 124,\n",
              "        139, 151, 159, 180, 195, 201, 215, 218, 224, 230, 245, 256, 257,\n",
              "        258, 262, 268, 269, 275, 290, 291, 297, 299, 305, 306, 307, 310,\n",
              "        311, 318, 319, 324, 325, 332, 334, 336, 337, 341, 366, 369, 373,\n",
              "        375, 377, 380, 385, 390, 393, 412, 435, 438, 445, 453, 484, 486,\n",
              "        496, 498, 504, 505, 520, 527, 537, 540, 544, 550, 557, 558, 581,\n",
              "        585, 587, 591, 609, 627, 641, 645, 655, 659, 660, 665, 679, 681,\n",
              "        689, 698, 700, 708, 716, 730, 737, 741, 742, 745, 759, 763, 765,\n",
              "        779, 789, 792, 802, 820, 829, 835, 846, 849, 856, 863, 879]),)"
            ]
          },
          "metadata": {
            "tags": []
          },
          "execution_count": 23
        }
      ]
    },
    {
      "cell_type": "code",
      "metadata": {
        "id": "P5LX3Hbb8ify",
        "colab_type": "code",
        "colab": {}
      },
      "source": [
        "def outlier_IQR_extreme(data):\n",
        "  Q1, Q3 = np.percentile(data,[25,75])\n",
        "  IQR = Q3-Q1\n",
        "  LowerBound = Q1 - (3*IQR)\n",
        "  UpperBound = Q3 + (3*IQR)\n",
        "  return np.where((data>UpperBound) | (data<LowerBound))"
      ],
      "execution_count": 0,
      "outputs": []
    },
    {
      "cell_type": "code",
      "metadata": {
        "id": "STauuhGU8miL",
        "colab_type": "code",
        "outputId": "a50bcea0-01e0-4140-f1ce-62981187a98a",
        "colab": {
          "base_uri": "https://localhost:8080/",
          "height": 101
        }
      },
      "source": [
        "outlier_IQR_extreme(data['Fare'])"
      ],
      "execution_count": 25,
      "outputs": [
        {
          "output_type": "execute_result",
          "data": {
            "text/plain": [
              "(array([ 27,  31,  88, 118, 195, 215, 258, 268, 269, 297, 299, 305, 306,\n",
              "        307, 311, 318, 319, 325, 332, 334, 337, 341, 373, 377, 380, 390,\n",
              "        393, 435, 438, 498, 505, 527, 537, 544, 550, 557, 581, 609, 659,\n",
              "        660, 679, 689, 698, 700, 708, 716, 730, 737, 742, 763, 779, 802,\n",
              "        856]),)"
            ]
          },
          "metadata": {
            "tags": []
          },
          "execution_count": 25
        }
      ]
    },
    {
      "cell_type": "markdown",
      "metadata": {
        "id": "MDxXB_XgBFf0",
        "colab_type": "text"
      },
      "source": [
        "#### ___UNIVARIATE OUTLIER DETECTION - NON-PARAMETRIC___"
      ]
    },
    {
      "cell_type": "markdown",
      "metadata": {
        "id": "qAOpv3V8BNQ3",
        "colab_type": "text"
      },
      "source": [
        "##### ___ISOLATION TREES___\n",
        "\n",
        "Return the anomaly score of each sample using the IsolationForest algorithm\n",
        "\n",
        "The IsolationForest ‘isolates’ observations by randomly selecting a feature and then randomly selecting a split value between the maximum and minimum values of the selected feature.\n",
        "\n",
        "Since recursive partitioning can be represented by a tree structure, the number of splittings required to isolate a sample is equivalent to the path length from the root node to the terminating node.\n",
        "\n",
        "This path length, averaged over a forest of such random trees, is a measure of normality and our decision function.\n",
        "\n",
        "Random partitioning produces noticeably shorter paths for anomalies. Hence, when a forest of random trees collectively produce shorter path lengths for particular samples, they are highly likely to be anomalies."
      ]
    },
    {
      "cell_type": "markdown",
      "metadata": {
        "id": "Tq0uKL37Gf0i",
        "colab_type": "text"
      },
      "source": [
        "___Novelties___: Many times we’re dealing with novelties (Novelty detection is a statistical method used to determine new or unknown data and determining if these new data are within the norm (inlier) or outside of it (outlier). A novel in this case means unusual, data that are new and doe not occur regularly or are simply different from the others), and the problem is often called supervised anomaly detection (Isolation Trees) and OneClassSVM for Unsupervised detection. In this case, the goal is not to remove outliers or reduce their impact, but we are interested in detecting anomalies in new observations."
      ]
    },
    {
      "cell_type": "code",
      "metadata": {
        "id": "u6AMa1VKF4sF",
        "colab_type": "code",
        "outputId": "b096298e-3b0d-4c14-ce86-237b8be7eb54",
        "colab": {
          "base_uri": "https://localhost:8080/",
          "height": 513
        }
      },
      "source": [
        "from sklearn.ensemble import IsolationForest\n",
        "\n",
        "x = np.concatenate((np.random.normal(loc=-2, scale=.5,size=500), \n",
        "                    np.random.normal(loc=2, scale=.5, size=500)))\n",
        "plt.hist(x)\n",
        "plt.xlim([-5, 5])\n",
        "plt.show()\n",
        "\n",
        "isolation_forest = IsolationForest(n_estimators=100)\n",
        "isolation_forest.fit(x.reshape(-1, 1))\n",
        "\n",
        "# New Points\n",
        "xx = np.linspace(-6, 6, 100).reshape(-1,1)\n",
        "\n",
        "anomaly_score = isolation_forest.decision_function(xx)\n",
        "#print(anomaly_score)\n",
        "\n",
        "outlier = isolation_forest.predict(xx)\n",
        "#print(outlier) # -1 are outliers\n",
        "\n",
        "plt.plot(xx, anomaly_score, label='anomaly score')\n",
        "plt.plot(xx,outlier)\n",
        "\n",
        "plt.show()"
      ],
      "execution_count": 26,
      "outputs": [
        {
          "output_type": "display_data",
          "data": {
            "image/png": "[encoded data removed]",
            "text/plain": [
              "<Figure size 432x288 with 1 Axes>"
            ]
          },
          "metadata": {
            "tags": []
          }
        },
        {
          "output_type": "display_data",
          "data": {
            "image/png": "[encoded data removed]",
            "text/plain": [
              "<Figure size 432x288 with 1 Axes>"
            ]
          },
          "metadata": {
            "tags": []
          }
        }
      ]
    },
    {
      "cell_type": "markdown",
      "metadata": {
        "id": "Y--QtwZk0mbz",
        "colab_type": "text"
      },
      "source": [
        "#### ___MULTIVARIATE OUTLIER DETECTION - PARAMETRIC___"
      ]
    },
    {
      "cell_type": "markdown",
      "metadata": {
        "id": "6vSxJheQMoUN",
        "colab_type": "text"
      },
      "source": [
        "##### ___ELLIPTIC ENVELOPE___\n",
        "\n",
        "The Elliptic Envelope method fits a multivariate gaussian distribution to the dataset. Use the contamination hyperparameter to specify the percentage of observations the algorithm will assign as outliers."
      ]
    },
    {
      "cell_type": "markdown",
      "metadata": {
        "id": "-Mh5tDF1Rf-b",
        "colab_type": "text"
      },
      "source": [
        "#### ___MULTIVARIATE OUTLIER DETECTION - NON-PARAMETRIC___"
      ]
    },
    {
      "cell_type": "markdown",
      "metadata": {
        "id": "NjZYk-kcRlsH",
        "colab_type": "text"
      },
      "source": [
        "##### ___DBSCAN CLUSTERING___\n",
        "\n",
        "This is a clustering algorithm (an alternative to K-Means) that clusters points together and identifies any points not belonging to a cluster as outliers. It’s like K-means, except the number of clusters does not need to be specified in advance.\n",
        "\n",
        "The method, step-by-step:\n",
        "1. Randomly select a point not already assigned to a cluster or designated as an outlier. Determine if it’s a core point by seeing if there are at least min_samples points around it within epsilon distance.\n",
        "2. Create a cluster of this core point and all points within epsilon distance of it (all directly reachable points).\n",
        "3. Find all points that are within epsilon distance of each point in the cluster and add them to the cluster. Find all points that are within epsilon distance of all newly added points and add these to the cluster. Rinse and repeat. (i.e. perform “neighborhood jumps” to find all density-reachable points and add them to the cluster).\n",
        "\n",
        "Implementation Considerations:\n",
        "1. You may need to standardize / scale / normalize your data first.\n",
        "2. Be mindful of data type and the distance measure. I’ve read that the gower distance metric can be used for mixed data types. I’ve implemented Euclidean, here, which needs continuous variables, so I removed gender.\n",
        "3. You will want to optimize epsilon and min_samples."
      ]
    },
    {
      "cell_type": "markdown",
      "metadata": {
        "id": "IseBe66YRqCg",
        "colab_type": "text"
      },
      "source": [
        "##### ___LOCAL OUTLIER FACTOR___\n",
        "\n",
        "Unsupervised Outlier Detection using Local Outlier Factor (LOF)\n",
        "\n",
        "LOF uses density-based outlier detection to identify local outliers, points that are outliers with respect to their local neighborhood, rather than with respect to the global data distribution. The higher the LOF value for an observation, the more anomalous the observation.\n",
        "\n",
        "This is useful because not all methods will not identify a point that’s an outlier relative to a nearby cluster of points (a local outlier) if that whole region is not an outlying region in the global space of data points.\n",
        "\n",
        "A point is labeled as an outlier if the density around that point is significantly different from the density around its neighbors.\n",
        "\n",
        "The method, step-by-step:\n",
        "\n",
        "For each point P, do the following:\n",
        "\n",
        "1. Calculate distances between P and every other point (manhattan = |x1-x2| + |y1-y2|) = dist(p1,p2)\n",
        "2. Find the Kth closest point (Kth nearest neighbor’s distance=K-Dist(P))\n",
        "3. Find the K closest points (those whose distances are smaller than the Kth point), the K-distance neighborhood of P, Nk(P).\n",
        "4. Find its density (Local Reachability Density= LRDk(p) — a measure of how close its neighbors are to it), basically the inverse of the avg distance between point p and its neighbors. The lower the density, the farther p is from its neighbors.\n",
        "5. Find its local outlier factor, LOFk(p), as sum(reachability distances of neighbors to P) x sum(densities of neighbors). LOFk(P) is basically the sum of the distances between P and its neighboring points, weighted by the sum those points’ densities (how far they are from their k neighboring points).\n",
        "\n",
        "Scenarios affecting LOF values:\n",
        "Higher LOF values indicate a greater anomaly level and that\n",
        "\n",
        "LOFk(p) = sum(reachability distances of its neighbors to P) x sum(neighbor densities)\n",
        "\n",
        "The LOF for a point P will have a:\n",
        "* High value if → P is far from its neighbors and its neighbors have high densities (are close to their neighbors) (LOF = (high distance sum) x (high density sum) = High value)\n",
        "* Less high value if -> P is far from its neighbors, but its neighbors have low densities (LOF = (high sum) x (low sum) = middle value)\n",
        "* Less high value if -> P is close to its neighbors and its neighbors have low densities (LOF = (low sum) x (low sum) = low value )\n",
        "\n",
        "Adjusting K:\n",
        "\n",
        "* Increase K too much and you’re just looking for outliers with respect to the entire dataset, so points far away from the highest density regions could be misclassified as outliers, even though they themselves reside in a cluster of points.\n",
        "* Reduce K too much and you’re looking for outliers with respect to very small local regions of points. This could also lead to the misclassification as outliers."
      ]
    },
    {
      "cell_type": "markdown",
      "metadata": {
        "id": "hwMww_ihTgSX",
        "colab_type": "text"
      },
      "source": [
        "___Source___: https://medium.com/learningdatascience/anomaly-detection-techniques-in-python-50f650c75aaf"
      ]
    },
    {
      "cell_type": "markdown",
      "metadata": {
        "id": "ae4fNh6jUAoi",
        "colab_type": "text"
      },
      "source": [
        "## ___TREATING AN OUTLIER___\n",
        "\n",
        "There are a few techniques for outlier handling:\n",
        "\n",
        "1. Outlier removal\n",
        "2. Treating outliers as missing values\n",
        "3. Top / Bottom / Zero Coding / Winsorizing / Outlier Capping\n",
        "4. Discretisation / Binning\n",
        "5. Transformation (Log-Scale)\n",
        "6. Treating outliers as separate\n"
      ]
    },
    {
      "cell_type": "markdown",
      "metadata": {
        "id": "EafTOQsuOHv1",
        "colab_type": "text"
      },
      "source": [
        "##### ___Outlier Removal___\n",
        "\n",
        "Outlier removal refers to removing outlier observations from the dataset. Outliers, by nature are not abundant, so this procedure should not distort the dataset dramatically. But if there are outliers across multiple variables, we may end up removing a big portion of the dataset."
      ]
    },
    {
      "cell_type": "markdown",
      "metadata": {
        "id": "21R8Cp2aOnTP",
        "colab_type": "text"
      },
      "source": [
        "#### ___Treating Outliers as Missing Values___\n",
        "\n",
        "We can treat outliers as missing information, and carry on any of the imputation methods described.\n",
        "\n",
        "1. Complete Case Analysis\n",
        "2. Mean / Median / Mode Imputation\n",
        "3. Random Sample Imputation\n",
        "4. Replacement by Arbitrary Value\n",
        "5. End of Distribution Imputation\n",
        "6. Missing Value Indicator"
      ]
    },
    {
      "cell_type": "markdown",
      "metadata": {
        "id": "gws--b6kPcVr",
        "colab_type": "text"
      },
      "source": [
        "#### ___Top / Bottom / Zero Coding / Winsorizing / Outlier Capping___\n",
        "\n",
        "Top or bottom coding are also known as Winsorisation or outlier capping. The procedure involves capping the maximum and minimum values at a predefined value. This predefined value can be arbitrary, or it can be derived from the variable distribution.\n",
        "\n",
        "If the variable is normally distributed we can cap the maximum and minimum values at the mean plus or minus 3 times the standard deviation. If the variable is skewed, we can use the inter-quantile range proximity rule or cap at the top and bottom percentiles."
      ]
    },
    {
      "cell_type": "code",
      "metadata": {
        "id": "ic4In53AZYe4",
        "colab_type": "code",
        "colab": {
          "base_uri": "https://localhost:8080/",
          "height": 169
        },
        "outputId": "2f11f76b-1595-4f6a-f100-83480fb064fe"
      },
      "source": [
        "data['Fare'].describe()"
      ],
      "execution_count": 32,
      "outputs": [
        {
          "output_type": "execute_result",
          "data": {
            "text/plain": [
              "count    891.000000\n",
              "mean      32.204208\n",
              "std       49.693429\n",
              "min        0.000000\n",
              "25%        7.910400\n",
              "50%       14.454200\n",
              "75%       31.000000\n",
              "max      512.329200\n",
              "Name: Fare, dtype: float64"
            ]
          },
          "metadata": {
            "tags": []
          },
          "execution_count": 32
        }
      ]
    },
    {
      "cell_type": "code",
      "metadata": {
        "id": "JlRpoB-6dJ4C",
        "colab_type": "code",
        "colab": {
          "base_uri": "https://localhost:8080/",
          "height": 34
        },
        "outputId": "24c155d3-8b73-4a32-a3f6-26b7815f9ee6"
      },
      "source": [
        "np.percentile(data['Fare'],[10,90]) # 10 Percentile is Bottom and 90 Percentile is Top"
      ],
      "execution_count": 41,
      "outputs": [
        {
          "output_type": "execute_result",
          "data": {
            "text/plain": [
              "array([ 7.55  , 77.9583])"
            ]
          },
          "metadata": {
            "tags": []
          },
          "execution_count": 41
        }
      ]
    },
    {
      "cell_type": "code",
      "metadata": {
        "id": "9affajX-chbk",
        "colab_type": "code",
        "colab": {
          "base_uri": "https://localhost:8080/",
          "height": 169
        },
        "outputId": "4635e423-8bcd-4128-dc85-8becbd77eddc"
      },
      "source": [
        "from scipy import stats\n",
        "\n",
        "data['NewFare'] = stats.mstats.winsorize(data['Fare'],limits = [0.1,0.1])\n",
        "data['NewFare'].describe()"
      ],
      "execution_count": 42,
      "outputs": [
        {
          "output_type": "execute_result",
          "data": {
            "text/plain": [
              "count    891.000000\n",
              "mean      25.649004\n",
              "std       23.383339\n",
              "min        7.550000\n",
              "25%        7.910400\n",
              "50%       14.454200\n",
              "75%       31.000000\n",
              "max       77.958300\n",
              "Name: NewFare, dtype: float64"
            ]
          },
          "metadata": {
            "tags": []
          },
          "execution_count": 42
        }
      ]
    },
    {
      "cell_type": "markdown",
      "metadata": {
        "id": "n21E8BGPQt3x",
        "colab_type": "text"
      },
      "source": [
        "#### ___Discretisation___\n",
        "\n",
        "Discretisation is the process of transforming continuous variables into discrete variables by creating a set of contiguous intervals that spans the range of the variable's values.\n",
        "\n",
        "Discretisation helps handle outliers and highly skewed variables.\n",
        "\n",
        "Discretisation helps handle outliers by placing these values into the lower or higher intervals together with the remaining inlier values of the distribution. Thus, these outlier observations no longer differ from the rest of the values at the tails of the distribution, as they are now all together in the same interval / bucket. In addition, by creating appropriate bins or intervals, discretisation can help spread the values of a skewed variable across a set of bins with equal number of observations.\n",
        "\n",
        "There are several approaches to transform continuous variables into discrete ones. This process is also known as binning, with each bin being each interval.\n",
        "\n",
        "Discretisation refers to sorting the values of the variable into bins or intervals, also called buckets. There are multiple ways to discretise variables:\n",
        "\n",
        "1. Equal width discretisation\n",
        "2. Equal Frequency discretisation\n",
        "\n",
        "```\n",
        "cut command creates equispaced bins but frequency of samples is unequal in each bin.\n",
        "qcut command creates unequal size bins but frequency of samples is equal in each bin\n",
        "```\n",
        "3. Domain knowledge discretisation\n",
        "4. Discretisation using decision trees\n"
      ]
    },
    {
      "cell_type": "markdown",
      "metadata": {
        "id": "6yCCZS9xwrXl",
        "colab_type": "text"
      },
      "source": [
        "##### ___Equal Width___\n",
        "\n",
        "Equal width binning divides the scope of possible values into N bins of the same width.The width is determined by the range of values in the variable and the number of bins we wish to use to divide the variable.\n",
        "\n",
        "width = (max value - min value) / N\n",
        "\n",
        "For example if the values of the variable vary between 0 and 100, we create 5 bins like this: width = (100-0) / 5 = 20. The bins thus are 0-20, 20-40, 40-60, 80-100. The first and final bins (0-20 and 80-100) can be expanded to accommodate outliers (that is, values under 0 or greater than 100 would be placed in those bins as well).\n",
        "\n",
        "There is no rule of thumb to define N. Typically, we would not want more than 10.\n",
        "\n"
      ]
    },
    {
      "cell_type": "code",
      "metadata": {
        "id": "oPqyuEKkwABH",
        "colab_type": "code",
        "colab": {
          "base_uri": "https://localhost:8080/",
          "height": 84
        },
        "outputId": "ec4bc93a-5aed-42ad-fb0c-9d0d78bfde28"
      },
      "source": [
        "x = np.array([24,  7,  2, 25, 22, 29])\n",
        "pd.cut(x, bins = 3, labels = [\"bad\", \"medium\", \"good\"]).value_counts() "
      ],
      "execution_count": 64,
      "outputs": [
        {
          "output_type": "execute_result",
          "data": {
            "text/plain": [
              "bad       2\n",
              "medium    0\n",
              "good      4\n",
              "dtype: int64"
            ]
          },
          "metadata": {
            "tags": []
          },
          "execution_count": 64
        }
      ]
    },
    {
      "cell_type": "markdown",
      "metadata": {
        "id": "EMdDPybIwlCo",
        "colab_type": "text"
      },
      "source": [
        "##### ___Equal Frequency___\n",
        "\n",
        "Equal frequency binning divides the scope of possible values of the variable into N bins, where each bin carries the same amount of observations. This is particularly useful for skewed variables as it spreads the observations over the different bins equally. Typically, we find the interval boundaries by determining the quantiles.\n",
        "\n",
        "Equal frequency discretisation using quantiles consists of dividing the continuous variable into N quantiles, N to be defined by the user. There is no rule of thumb to define N. However, if we think of the discrete variable as a categorical variable, where each bin is a category, we would like to keep N (the number of categories) low (typically no more than 10)."
      ]
    },
    {
      "cell_type": "code",
      "metadata": {
        "id": "kM6Dd6QDwcYm",
        "colab_type": "code",
        "colab": {
          "base_uri": "https://localhost:8080/",
          "height": 84
        },
        "outputId": "94342f64-f783-43a5-c883-e2c113047f6e"
      },
      "source": [
        "pd.qcut(x, q = 3, labels = [\"bad\", \"medium\", \"good\"]).value_counts()"
      ],
      "execution_count": 65,
      "outputs": [
        {
          "output_type": "execute_result",
          "data": {
            "text/plain": [
              "bad       2\n",
              "medium    2\n",
              "good      2\n",
              "dtype: int64"
            ]
          },
          "metadata": {
            "tags": []
          },
          "execution_count": 65
        }
      ]
    },
    {
      "cell_type": "markdown",
      "metadata": {
        "id": "P4XjEhCUw5kq",
        "colab_type": "text"
      },
      "source": [
        "##### ___Discretisation with Decision Trees___\n",
        "\n",
        "Discretisation with Decision Trees consists of using a decision tree to identify the optimal splitting points that would determine the bins or contiguous intervals:\n",
        "\n",
        "Step 1: First it trains a decision tree of limited depth (2, 3 or 4) using the variable we want to discretize to predict the target.\n",
        "\n",
        "Step 2: The original variable values are then replaced by the probability returned by the tree. The probability is the same for all the observations within a single bin, thus replacing by the probability is equivalent to grouping the observations within the cut-off decided by the decision tree.\n",
        "\n",
        "Advantages :\n",
        "\n",
        "The probabilistic predictions returned decision tree are monotonically related to the target.\n",
        "\n",
        "The new bins show decreased entropy, this is the observations within each bucket/bin are more similar to themselves than to those of other buckets/bins.\n",
        "\n",
        "The tree finds the bins automatically.\n",
        "\n",
        "Disadvantages :\n",
        "\n",
        "It may cause over-fitting\n",
        "\n",
        "More importantly, some tuning of tree parameters might need to be done to obtain the optimal splits (e.g., depth, the minimum number of samples in one partition, the maximum number of \n",
        "partitions, and a minimum information gain). This it can be time-consuming."
      ]
    },
    {
      "cell_type": "code",
      "metadata": {
        "id": "0JWYVEDtxv_9",
        "colab_type": "code",
        "colab": {
          "base_uri": "https://localhost:8080/",
          "height": 34
        },
        "outputId": "cdd4d3b8-84ea-4c36-abc3-61e72d02edee"
      },
      "source": [
        "from sklearn.model_selection import train_test_split\n",
        "from sklearn.tree import DecisionTreeClassifier\n",
        "\n",
        "data['Age'].fillna(80, inplace = True)\n",
        "\n",
        "X_train, X_test, y_train, y_test = train_test_split(data[['Age', 'Fare', 'Survived']],data.Survived , test_size = 0.3, random_state = 44)\n",
        "\n",
        "tree_model = DecisionTreeClassifier(max_depth=2)\n",
        "tree_model.fit(X_train.Age.to_frame(), X_train.Survived)\n",
        "X_train['Age_tree']=tree_model.predict_proba(X_train.Age.to_frame())[:,1] \n",
        "X_train.Age_tree.unique()"
      ],
      "execution_count": 89,
      "outputs": [
        {
          "output_type": "execute_result",
          "data": {
            "text/plain": [
              "array([0.3986637 , 0.27083333, 0.61538462, 1.        ])"
            ]
          },
          "metadata": {
            "tags": []
          },
          "execution_count": 89
        }
      ]
    },
    {
      "cell_type": "code",
      "metadata": {
        "id": "nmkADBFgyws3",
        "colab_type": "code",
        "colab": {
          "base_uri": "https://localhost:8080/",
          "height": 313
        },
        "outputId": "37603d7f-c7f4-4678-8a21-a05686f229f0"
      },
      "source": [
        "fig = plt.figure()\n",
        "fig = X_train.groupby(['Age_tree'])['Survived'].mean().plot()\n",
        "fig.set_title('Monotonic relationship between discretised Age and target')\n",
        "fig.set_ylabel('Survived')"
      ],
      "execution_count": 90,
      "outputs": [
        {
          "output_type": "execute_result",
          "data": {
            "text/plain": [
              "Text(0, 0.5, 'Survived')"
            ]
          },
          "metadata": {
            "tags": []
          },
          "execution_count": 90
        },
        {
          "output_type": "display_data",
          "data": {
            "image/png": "[encoded data removed]",
            "text/plain": [
              "<Figure size 432x288 with 1 Axes>"
            ]
          },
          "metadata": {
            "tags": []
          }
        }
      ]
    },
    {
      "cell_type": "code",
      "metadata": {
        "id": "-xbseV_2y261",
        "colab_type": "code",
        "colab": {
          "base_uri": "https://localhost:8080/",
          "height": 398
        },
        "outputId": "e283b38d-b55f-4ba1-c01a-42fb9610fc96"
      },
      "source": [
        "X_train.groupby(['Age_tree'])['Survived'].count().plot.bar()"
      ],
      "execution_count": 91,
      "outputs": [
        {
          "output_type": "execute_result",
          "data": {
            "text/plain": [
              "<matplotlib.axes._subplots.AxesSubplot at 0x7feb83b099b0>"
            ]
          },
          "metadata": {
            "tags": []
          },
          "execution_count": 91
        },
        {
          "output_type": "display_data",
          "data": {
            "image/png": "[encoded data removed]",
            "text/plain": [
              "<Figure size 432x288 with 1 Axes>"
            ]
          },
          "metadata": {
            "tags": []
          }
        }
      ]
    },
    {
      "cell_type": "code",
      "metadata": {
        "id": "g-4U79HAy7XP",
        "colab_type": "code",
        "colab": {
          "base_uri": "https://localhost:8080/",
          "height": 201
        },
        "outputId": "8197774e-4c3e-4c5f-9c96-88dde2a3ee61"
      },
      "source": [
        "pd.concat( [X_train.groupby(['Age_tree'])['Age'].min(),\n",
        "            X_train.groupby(['Age_tree'])['Age'].max()], axis=1)"
      ],
      "execution_count": 92,
      "outputs": [
        {
          "output_type": "execute_result",
          "data": {
            "text/html": [
              "<div>\n",
              "<style scoped>\n",
              "    .dataframe tbody tr th:only-of-type {\n",
              "        vertical-align: middle;\n",
              "    }\n",
              "\n",
              "    .dataframe tbody tr th {\n",
              "        vertical-align: top;\n",
              "    }\n",
              "\n",
              "    .dataframe thead th {\n",
              "        text-align: right;\n",
              "    }\n",
              "</style>\n",
              "<table border=\"1\" class=\"dataframe\">\n",
              "  <thead>\n",
              "    <tr style=\"text-align: right;\">\n",
              "      <th></th>\n",
              "      <th>Age</th>\n",
              "      <th>Age</th>\n",
              "    </tr>\n",
              "    <tr>\n",
              "      <th>Age_tree</th>\n",
              "      <th></th>\n",
              "      <th></th>\n",
              "    </tr>\n",
              "  </thead>\n",
              "  <tbody>\n",
              "    <tr>\n",
              "      <th>0.270833</th>\n",
              "      <td>61.00</td>\n",
              "      <td>80.00</td>\n",
              "    </tr>\n",
              "    <tr>\n",
              "      <th>0.398664</th>\n",
              "      <td>6.00</td>\n",
              "      <td>60.00</td>\n",
              "    </tr>\n",
              "    <tr>\n",
              "      <th>0.615385</th>\n",
              "      <td>1.00</td>\n",
              "      <td>5.00</td>\n",
              "    </tr>\n",
              "    <tr>\n",
              "      <th>1.000000</th>\n",
              "      <td>0.42</td>\n",
              "      <td>0.92</td>\n",
              "    </tr>\n",
              "  </tbody>\n",
              "</table>\n",
              "</div>"
            ],
            "text/plain": [
              "            Age    Age\n",
              "Age_tree              \n",
              "0.270833  61.00  80.00\n",
              "0.398664   6.00  60.00\n",
              "0.615385   1.00   5.00\n",
              "1.000000   0.42   0.92"
            ]
          },
          "metadata": {
            "tags": []
          },
          "execution_count": 92
        }
      ]
    },
    {
      "cell_type": "code",
      "metadata": {
        "id": "llBtgqHhzDEl",
        "colab_type": "code",
        "colab": {
          "base_uri": "https://localhost:8080/",
          "height": 101
        },
        "outputId": "b9a73284-5b90-4bf2-c442-67483ffaf61a"
      },
      "source": [
        "# finding the best number of Bins\n",
        "from sklearn.model_selection import cross_val_score\n",
        "\n",
        "score_ls = []     # here I will store the roc auc\n",
        "score_std_ls = [] # here I will store the standard deviation of the roc_auc\n",
        "for tree_depth in [1,2,3,4]:\n",
        "    tree_model = DecisionTreeClassifier(max_depth=tree_depth)\n",
        "    \n",
        "    scores = cross_val_score(tree_model, X_train.Age.to_frame(), y_train, cv=3, scoring='roc_auc')   \n",
        "    \n",
        "    score_ls.append(np.mean(scores))\n",
        "    \n",
        "    score_std_ls.append(np.std(scores))\n",
        "    \n",
        "temp = pd.concat([pd.Series([1,2,3,4]), pd.Series(score_ls), pd.Series(score_std_ls)], axis=1)\n",
        "temp.columns = ['depth', 'roc_auc_mean', 'roc_auc_std']\n",
        "print(temp)"
      ],
      "execution_count": 94,
      "outputs": [
        {
          "output_type": "stream",
          "text": [
            "   depth  roc_auc_mean  roc_auc_std\n",
            "0      1      0.505994     0.004267\n",
            "1      2      0.549198     0.021338\n",
            "2      3      0.549512     0.023802\n",
            "3      4      0.557634     0.020226\n"
          ],
          "name": "stdout"
        }
      ]
    },
    {
      "cell_type": "markdown",
      "metadata": {
        "id": "eU5FuFZGSwzw",
        "colab_type": "text"
      },
      "source": [
        "#### ___Transformation (More Details in different notebook)___\n",
        "\n",
        "Transforming variables can also eliminate outliers. Natural log of a value reduces the variation caused by extreme values when the data is right skewed. Though, the Log transformation cannot be applied negative values.\n",
        "\n"
      ]
    },
    {
      "cell_type": "code",
      "metadata": {
        "id": "5TVOmnLMfb46",
        "colab_type": "code",
        "colab": {
          "base_uri": "https://localhost:8080/",
          "height": 297
        },
        "outputId": "b4b0407b-01b3-4030-8ad2-8f3f933a2887"
      },
      "source": [
        "sns.distplot(data['Fare'])"
      ],
      "execution_count": 61,
      "outputs": [
        {
          "output_type": "execute_result",
          "data": {
            "text/plain": [
              "<matplotlib.axes._subplots.AxesSubplot at 0x7feb843dca90>"
            ]
          },
          "metadata": {
            "tags": []
          },
          "execution_count": 61
        },
        {
          "output_type": "display_data",
          "data": {
            "image/png": "[encoded data removed]",
            "text/plain": [
              "<Figure size 432x288 with 1 Axes>"
            ]
          },
          "metadata": {
            "tags": []
          }
        }
      ]
    },
    {
      "cell_type": "code",
      "metadata": {
        "id": "LANqUxzHhrTy",
        "colab_type": "code",
        "colab": {
          "base_uri": "https://localhost:8080/",
          "height": 295
        },
        "outputId": "4f335d4f-c9a8-45f5-b0ca-6af7c6a81565"
      },
      "source": [
        "data['NewFare1'] = np.where(data['Fare']==0,1,data['Fare'])\n",
        "sns.distplot(np.log(data['NewFare1']))"
      ],
      "execution_count": 63,
      "outputs": [
        {
          "output_type": "execute_result",
          "data": {
            "text/plain": [
              "<matplotlib.axes._subplots.AxesSubplot at 0x7feb86858320>"
            ]
          },
          "metadata": {
            "tags": []
          },
          "execution_count": 63
        },
        {
          "output_type": "display_data",
          "data": {
            "image/png": "[encoded data removed]",
            "text/plain": [
              "<Figure size 432x288 with 1 Axes>"
            ]
          },
          "metadata": {
            "tags": []
          }
        }
      ]
    },
    {
      "cell_type": "markdown",
      "metadata": {
        "id": "-xHLmduuSXuq",
        "colab_type": "text"
      },
      "source": [
        "#### ___Treat Separately___\n",
        "\n",
        "If there are significant number of outliers, we should treat them separately in the statistical model. One of the approach is to treat both groups as two different groups and build individual model for both groups and then combine the output."
      ]
    }
  ]
}