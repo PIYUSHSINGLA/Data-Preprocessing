{
  "nbformat": 4,
  "nbformat_minor": 0,
  "metadata": {
    "kernelspec": {
      "display_name": "Python 3",
      "language": "python",
      "name": "python3"
    },
    "language_info": {
      "codemirror_mode": {
        "name": "ipython",
        "version": 3
      },
      "file_extension": ".py",
      "mimetype": "text/x-python",
      "name": "python",
      "nbconvert_exporter": "python",
      "pygments_lexer": "ipython3",
      "version": "3.5.6"
    },
    "toc": {
      "nav_menu": {},
      "number_sections": true,
      "sideBar": true,
      "skip_h1_title": false,
      "toc_cell": false,
      "toc_position": {},
      "toc_section_display": "block",
      "toc_window_display": true
    },
    "colab": {
      "name": "2. Missing Values.ipynb",
      "provenance": [],
      "toc_visible": true
    }
  },
  "cells": [
    {
      "cell_type": "markdown",
      "metadata": {
        "id": "BNiSlCFewfU9",
        "colab_type": "text"
      },
      "source": [
        "## ___Missing Values___\n",
        "\n",
        "Missing data, or Missing values, occur when __no data__ / __no value__ is stored for a certain observation within a variable. \n",
        "\n",
        "Missing data are a common occurrence both in data science competitions and in data in business settings, and can have a significant effect on the conclusions that can be drawn from the data. Incomplete data is an unavoidable problem in dealing with most data sources."
      ]
    },
    {
      "cell_type": "markdown",
      "metadata": {
        "id": "U6pXWI--wuyz",
        "colab_type": "text"
      },
      "source": [
        "### ___Why is Data Missing?___\n",
        "\n",
        "The source of missing data can be very different and here are just a few examples:\n",
        "\n",
        "- A value is missing because it was forgotten or lost or not stored properly\n",
        "- For a certain observation, the value of the variable does not exist\n",
        "- The value can't be known or identified\n",
        "\n",
        "Imagine for example that the data comes from a survey, and the data are entered manually into an online form. The data entry could easily forget to complete a field in the form, and therefore, that value for that form would be missing.\n",
        "\n",
        "The person being asked may not want to disclose the answer to one of the questions, for example, their income. That would be then a missing value for that person.\n",
        "\n",
        "Sometimes, a certain feature can't be calculated for a specific individual. For example, in the variable 'total debt as percentage of total income' if the person has no income, then the total percentage of 0 does not exist. Therefore it will be a missing value.\n",
        "\n",
        "Together with understanding the source of missing data, it is important to understand the mechanisms by which missing fields are introduced in a dataset. Depending on the mechanism, we may choose to process the missing values differently. In addition, by knowing the source of missing data, we may choose to take action to control that source, and decrease the number of missing data looking forward during data collection."
      ]
    },
    {
      "cell_type": "markdown",
      "metadata": {
        "id": "-Se-cy9Rw-RU",
        "colab_type": "text"
      },
      "source": [
        "### ___Missing Data Mechanisms___\n",
        "\n",
        "There are 3 mechanisms that lead to missing data, 2 of them involve missing data randomly or almost-randomly, and the third one involves a systematic loss of data."
      ]
    },
    {
      "cell_type": "markdown",
      "metadata": {
        "id": "c9X3_Ow0xDql",
        "colab_type": "text"
      },
      "source": [
        "#### 1. ___Missing Completely at Random (MCAR)___\n",
        "\n",
        "A variable is missing completely at random (MCAR) if the probability of being missing is the same for all the observations. \n",
        "When data is MCAR, there is absolutely no relationship between the data missing and any other values, observed or missing, within the dataset. In other words, those missing data points are a random subset of the data. There is nothing systematic going on that makes some data more likely to be missing than other.\n",
        "\n",
        "If values for observations are missing completely at random, then disregarding those cases would not bias the inferences made."
      ]
    },
    {
      "cell_type": "markdown",
      "metadata": {
        "id": "JKhPOSlTxGYp",
        "colab_type": "text"
      },
      "source": [
        "#### 2. ___Missing at Random (MAR)___ \n",
        "\n",
        "MAR occurs when there is a systematic relationship between the propensity of missing values and the observed data. In other words, the probability an observation being missing depends only on available information (other variables in the dataset). For example, if men are more likely to disclose their weight than women, weight is MAR. The weight information will be missing at random for those men and women that decided not to disclose their weight, but as men are more prone to disclose it, there will be more missing values for women than for men.\n",
        "\n",
        "In a situation like the above, if we decide to proceed with the variable with missing values (in this case weight), we might benefit from including gender to control the bias in weight for the missing observations."
      ]
    },
    {
      "cell_type": "markdown",
      "metadata": {
        "id": "Xr_672J8xIop",
        "colab_type": "text"
      },
      "source": [
        "#### 3. ___Missing Not at Random (MNAR)___\n",
        "\n",
        "Missing of values is not at random (MNAR) if their being missing depends on information not recorded in the dataset. In other words, there is a mechanism or a reason why missing values are introduced in the dataset.\n",
        "\n",
        "Examples:\n",
        "\n",
        "MNAR would occur if people failed to fill in a depression survey because of their level of depression. Here, the missing of data is related to the outcome, depression."
      ]
    },
    {
      "cell_type": "code",
      "metadata": {
        "id": "No59A4WzwfVA",
        "colab_type": "code",
        "colab": {}
      },
      "source": [
        "import pandas as pd\n",
        "import numpy as np\n",
        "\n",
        "import matplotlib.pyplot as plt\n",
        "%matplotlib inline\n",
        "\n",
        "import seaborn as sns\n",
        "\n",
        "# to display the total number columns present in the dataset\n",
        "pd.set_option('display.max_columns', None)"
      ],
      "execution_count": 0,
      "outputs": []
    },
    {
      "cell_type": "code",
      "metadata": {
        "id": "sd_Ou4HywfVD",
        "colab_type": "code",
        "colab": {
          "base_uri": "https://localhost:8080/",
          "height": 201
        },
        "outputId": "b167d1db-0950-40aa-ebc0-a76368c836c0"
      },
      "source": [
        "# let's load the titanic dataset\n",
        "\n",
        "data = sns.load_dataset('titanic')\n",
        "data.head()"
      ],
      "execution_count": 3,
      "outputs": [
        {
          "output_type": "execute_result",
          "data": {
            "text/html": [
              "<div>\n",
              "<style scoped>\n",
              "    .dataframe tbody tr th:only-of-type {\n",
              "        vertical-align: middle;\n",
              "    }\n",
              "\n",
              "    .dataframe tbody tr th {\n",
              "        vertical-align: top;\n",
              "    }\n",
              "\n",
              "    .dataframe thead th {\n",
              "        text-align: right;\n",
              "    }\n",
              "</style>\n",
              "<table border=\"1\" class=\"dataframe\">\n",
              "  <thead>\n",
              "    <tr style=\"text-align: right;\">\n",
              "      <th></th>\n",
              "      <th>survived</th>\n",
              "      <th>pclass</th>\n",
              "      <th>sex</th>\n",
              "      <th>age</th>\n",
              "      <th>sibsp</th>\n",
              "      <th>parch</th>\n",
              "      <th>fare</th>\n",
              "      <th>embarked</th>\n",
              "      <th>class</th>\n",
              "      <th>who</th>\n",
              "      <th>adult_male</th>\n",
              "      <th>deck</th>\n",
              "      <th>embark_town</th>\n",
              "      <th>alive</th>\n",
              "      <th>alone</th>\n",
              "    </tr>\n",
              "  </thead>\n",
              "  <tbody>\n",
              "    <tr>\n",
              "      <th>0</th>\n",
              "      <td>0</td>\n",
              "      <td>3</td>\n",
              "      <td>male</td>\n",
              "      <td>22.0</td>\n",
              "      <td>1</td>\n",
              "      <td>0</td>\n",
              "      <td>7.2500</td>\n",
              "      <td>S</td>\n",
              "      <td>Third</td>\n",
              "      <td>man</td>\n",
              "      <td>True</td>\n",
              "      <td>NaN</td>\n",
              "      <td>Southampton</td>\n",
              "      <td>no</td>\n",
              "      <td>False</td>\n",
              "    </tr>\n",
              "    <tr>\n",
              "      <th>1</th>\n",
              "      <td>1</td>\n",
              "      <td>1</td>\n",
              "      <td>female</td>\n",
              "      <td>38.0</td>\n",
              "      <td>1</td>\n",
              "      <td>0</td>\n",
              "      <td>71.2833</td>\n",
              "      <td>C</td>\n",
              "      <td>First</td>\n",
              "      <td>woman</td>\n",
              "      <td>False</td>\n",
              "      <td>C</td>\n",
              "      <td>Cherbourg</td>\n",
              "      <td>yes</td>\n",
              "      <td>False</td>\n",
              "    </tr>\n",
              "    <tr>\n",
              "      <th>2</th>\n",
              "      <td>1</td>\n",
              "      <td>3</td>\n",
              "      <td>female</td>\n",
              "      <td>26.0</td>\n",
              "      <td>0</td>\n",
              "      <td>0</td>\n",
              "      <td>7.9250</td>\n",
              "      <td>S</td>\n",
              "      <td>Third</td>\n",
              "      <td>woman</td>\n",
              "      <td>False</td>\n",
              "      <td>NaN</td>\n",
              "      <td>Southampton</td>\n",
              "      <td>yes</td>\n",
              "      <td>True</td>\n",
              "    </tr>\n",
              "    <tr>\n",
              "      <th>3</th>\n",
              "      <td>1</td>\n",
              "      <td>1</td>\n",
              "      <td>female</td>\n",
              "      <td>35.0</td>\n",
              "      <td>1</td>\n",
              "      <td>0</td>\n",
              "      <td>53.1000</td>\n",
              "      <td>S</td>\n",
              "      <td>First</td>\n",
              "      <td>woman</td>\n",
              "      <td>False</td>\n",
              "      <td>C</td>\n",
              "      <td>Southampton</td>\n",
              "      <td>yes</td>\n",
              "      <td>False</td>\n",
              "    </tr>\n",
              "    <tr>\n",
              "      <th>4</th>\n",
              "      <td>0</td>\n",
              "      <td>3</td>\n",
              "      <td>male</td>\n",
              "      <td>35.0</td>\n",
              "      <td>0</td>\n",
              "      <td>0</td>\n",
              "      <td>8.0500</td>\n",
              "      <td>S</td>\n",
              "      <td>Third</td>\n",
              "      <td>man</td>\n",
              "      <td>True</td>\n",
              "      <td>NaN</td>\n",
              "      <td>Southampton</td>\n",
              "      <td>no</td>\n",
              "      <td>True</td>\n",
              "    </tr>\n",
              "  </tbody>\n",
              "</table>\n",
              "</div>"
            ],
            "text/plain": [
              "   survived  pclass     sex   age  sibsp  parch     fare embarked  class  \\\n",
              "0         0       3    male  22.0      1      0   7.2500        S  Third   \n",
              "1         1       1  female  38.0      1      0  71.2833        C  First   \n",
              "2         1       3  female  26.0      0      0   7.9250        S  Third   \n",
              "3         1       1  female  35.0      1      0  53.1000        S  First   \n",
              "4         0       3    male  35.0      0      0   8.0500        S  Third   \n",
              "\n",
              "     who  adult_male deck  embark_town alive  alone  \n",
              "0    man        True  NaN  Southampton    no  False  \n",
              "1  woman       False    C    Cherbourg   yes  False  \n",
              "2  woman       False  NaN  Southampton   yes   True  \n",
              "3  woman       False    C  Southampton   yes  False  \n",
              "4    man        True  NaN  Southampton    no   True  "
            ]
          },
          "metadata": {
            "tags": []
          },
          "execution_count": 3
        }
      ]
    },
    {
      "cell_type": "markdown",
      "metadata": {
        "id": "35NJW5w6wfVH",
        "colab_type": "text"
      },
      "source": [
        "_In python, the missing values are stored as NaN, see for example the first row for the variable deck._"
      ]
    },
    {
      "cell_type": "code",
      "metadata": {
        "id": "LRZWE04qwfVI",
        "colab_type": "code",
        "colab": {
          "base_uri": "https://localhost:8080/",
          "height": 287
        },
        "outputId": "b4f528f0-3067-4cce-d8ab-afecf1eaafb5"
      },
      "source": [
        "# you can determine the total number of missing values using\n",
        "# the isnull method plus the sum method on the dataframe\n",
        "\n",
        "data.isnull().sum()"
      ],
      "execution_count": 4,
      "outputs": [
        {
          "output_type": "execute_result",
          "data": {
            "text/plain": [
              "survived         0\n",
              "pclass           0\n",
              "sex              0\n",
              "age            177\n",
              "sibsp            0\n",
              "parch            0\n",
              "fare             0\n",
              "embarked         2\n",
              "class            0\n",
              "who              0\n",
              "adult_male       0\n",
              "deck           688\n",
              "embark_town      2\n",
              "alive            0\n",
              "alone            0\n",
              "dtype: int64"
            ]
          },
          "metadata": {
            "tags": []
          },
          "execution_count": 4
        }
      ]
    },
    {
      "cell_type": "code",
      "metadata": {
        "id": "rxskyEKUwfVL",
        "colab_type": "code",
        "colab": {
          "base_uri": "https://localhost:8080/",
          "height": 287
        },
        "outputId": "5d4c6d50-1b6f-4317-92c1-cdc6b91b6e10"
      },
      "source": [
        "# alternatively, you can call the mean method after isnull\n",
        "# to visualise the percentage of the dataset that \n",
        "# contains missing values for each variable\n",
        "\n",
        "data.isnull().mean()"
      ],
      "execution_count": 5,
      "outputs": [
        {
          "output_type": "execute_result",
          "data": {
            "text/plain": [
              "survived       0.000000\n",
              "pclass         0.000000\n",
              "sex            0.000000\n",
              "age            0.198653\n",
              "sibsp          0.000000\n",
              "parch          0.000000\n",
              "fare           0.000000\n",
              "embarked       0.002245\n",
              "class          0.000000\n",
              "who            0.000000\n",
              "adult_male     0.000000\n",
              "deck           0.772166\n",
              "embark_town    0.002245\n",
              "alive          0.000000\n",
              "alone          0.000000\n",
              "dtype: float64"
            ]
          },
          "metadata": {
            "tags": []
          },
          "execution_count": 5
        }
      ]
    },
    {
      "cell_type": "markdown",
      "metadata": {
        "id": "wE6vbp1twfVO",
        "colab_type": "text"
      },
      "source": [
        "We can see that there are missing data in the variables Age, Deck (on which the passenger was travelling) and Embarked, which is the port from which the passenger got into the Titanic."
      ]
    },
    {
      "cell_type": "markdown",
      "metadata": {
        "id": "c2PTvwwywfVP",
        "colab_type": "text"
      },
      "source": [
        "### ___Missing Data Not At Random (MNAR): Systematic Missing Values___\n",
        "\n",
        "In this dataset, both the missing values of the variables Deck and Age, were introduced systematically. For many of the people who did not survive, the **age** they had or the **deck** they were staying in, could not be established. The people who survived could be asked for that information.\n",
        "\n",
        "Can we infer this by looking at the data?\n",
        "\n",
        "In a situation like this, we could expect a greater number of missing values for people who did not survive."
      ]
    },
    {
      "cell_type": "code",
      "metadata": {
        "id": "5tzsJSIgwfVP",
        "colab_type": "code",
        "colab": {
          "base_uri": "https://localhost:8080/",
          "height": 34
        },
        "outputId": "439b9775-b7fa-4bfe-a6d6-38406c3b5af2"
      },
      "source": [
        "# we create a dummy variable that indicates whether the value\n",
        "# of the variable deck is missing\n",
        "\n",
        "data['deck_null'] = np.where(data.deck.isnull(), 1, 0)\n",
        "\n",
        "# find percentage of null values\n",
        "data.deck_null.mean()"
      ],
      "execution_count": 6,
      "outputs": [
        {
          "output_type": "execute_result",
          "data": {
            "text/plain": [
              "0.7721661054994389"
            ]
          },
          "metadata": {
            "tags": []
          },
          "execution_count": 6
        }
      ]
    },
    {
      "cell_type": "markdown",
      "metadata": {
        "id": "xt7Q7MZSwfVT",
        "colab_type": "text"
      },
      "source": [
        "As expected, this value coincides with the one observed above when we called the .isnull().mean() method on the dataset."
      ]
    },
    {
      "cell_type": "code",
      "metadata": {
        "id": "1ZRLArCbwfVV",
        "colab_type": "code",
        "colab": {
          "base_uri": "https://localhost:8080/",
          "height": 84
        },
        "outputId": "b338c774-0348-4225-8039-75df75a780b7"
      },
      "source": [
        "# and then we evaluate the mean of the missing values in\n",
        "# cabin for the people who survived vs the non-survivors.\n",
        "\n",
        "# group data by Survived vs Non-Survived\n",
        "# and find nulls for cabin\n",
        "data.groupby(['survived'])['deck_null'].mean()"
      ],
      "execution_count": 8,
      "outputs": [
        {
          "output_type": "execute_result",
          "data": {
            "text/plain": [
              "survived\n",
              "0    0.877960\n",
              "1    0.602339\n",
              "Name: deck_null, dtype: float64"
            ]
          },
          "metadata": {
            "tags": []
          },
          "execution_count": 8
        }
      ]
    },
    {
      "cell_type": "markdown",
      "metadata": {
        "id": "WoN48P6IwfVX",
        "colab_type": "text"
      },
      "source": [
        "We observe that the percentage of missing values is higher for people who did not survive (0.87), respect to people that survived (0.60).\n",
        "This finding is aligned with our hypothesis that the data is missing because after the people died, the information could not be retrieved.\n",
        "\n",
        "Having said this, to truly underpin whether the data is missing not at random, we would need to get extremely familiar with the way data was collected. Analysing datasets, can only point us in the right direction or help us build assumptions."
      ]
    },
    {
      "cell_type": "code",
      "metadata": {
        "id": "4ItyWd6YwfVY",
        "colab_type": "code",
        "colab": {
          "base_uri": "https://localhost:8080/",
          "height": 84
        },
        "outputId": "ea545052-a34d-4e15-e71c-7a4d36323972"
      },
      "source": [
        "# we repeat the exercise for the variable age:\n",
        "# First we create a dummy variable that indicates\n",
        "# whether the value of the variable Age is missing\n",
        "\n",
        "data['age_null'] = np.where(data.age.isnull(), 1, 0)\n",
        "\n",
        "# and then look at the mean in the different survival groups:\n",
        "# there are more NaN for the people who did not survive\n",
        "data.groupby(['survived'])['age_null'].mean()"
      ],
      "execution_count": 10,
      "outputs": [
        {
          "output_type": "execute_result",
          "data": {
            "text/plain": [
              "survived\n",
              "0    0.227687\n",
              "1    0.152047\n",
              "Name: age_null, dtype: float64"
            ]
          },
          "metadata": {
            "tags": []
          },
          "execution_count": 10
        }
      ]
    },
    {
      "cell_type": "markdown",
      "metadata": {
        "id": "88FHoqUqwfVb",
        "colab_type": "text"
      },
      "source": [
        "Again, we observe an increase in missing data for the people who did not survive the tragedy. The analysis therefore suggests: \n",
        "\n",
        "**There is a systematic loss of data: people who did not survive tend to have more information missing. Presumably, the method chosen to gather the information, contributes to the generation of these missing data.**"
      ]
    },
    {
      "cell_type": "markdown",
      "metadata": {
        "id": "rxHEz58JwfVb",
        "colab_type": "text"
      },
      "source": [
        "### ___Missing Data Completely At Random (MCAR)___\n",
        "\n",
        "In the titanic dataset, there were also missing values for the variable Embarked, let's have a look."
      ]
    },
    {
      "cell_type": "code",
      "metadata": {
        "id": "Yb3QdG6owfVd",
        "colab_type": "code",
        "colab": {
          "base_uri": "https://localhost:8080/",
          "height": 109
        },
        "outputId": "af90f262-81da-4abb-cbcb-c4990312b52d"
      },
      "source": [
        "# slice the dataframe to show only those observations with missing value for Embarked\n",
        "\n",
        "data[data.embarked.isnull()]"
      ],
      "execution_count": 11,
      "outputs": [
        {
          "output_type": "execute_result",
          "data": {
            "text/html": [
              "<div>\n",
              "<style scoped>\n",
              "    .dataframe tbody tr th:only-of-type {\n",
              "        vertical-align: middle;\n",
              "    }\n",
              "\n",
              "    .dataframe tbody tr th {\n",
              "        vertical-align: top;\n",
              "    }\n",
              "\n",
              "    .dataframe thead th {\n",
              "        text-align: right;\n",
              "    }\n",
              "</style>\n",
              "<table border=\"1\" class=\"dataframe\">\n",
              "  <thead>\n",
              "    <tr style=\"text-align: right;\">\n",
              "      <th></th>\n",
              "      <th>survived</th>\n",
              "      <th>pclass</th>\n",
              "      <th>sex</th>\n",
              "      <th>age</th>\n",
              "      <th>sibsp</th>\n",
              "      <th>parch</th>\n",
              "      <th>fare</th>\n",
              "      <th>embarked</th>\n",
              "      <th>class</th>\n",
              "      <th>who</th>\n",
              "      <th>adult_male</th>\n",
              "      <th>deck</th>\n",
              "      <th>embark_town</th>\n",
              "      <th>alive</th>\n",
              "      <th>alone</th>\n",
              "      <th>deck_null</th>\n",
              "      <th>age_null</th>\n",
              "    </tr>\n",
              "  </thead>\n",
              "  <tbody>\n",
              "    <tr>\n",
              "      <th>61</th>\n",
              "      <td>1</td>\n",
              "      <td>1</td>\n",
              "      <td>female</td>\n",
              "      <td>38.0</td>\n",
              "      <td>0</td>\n",
              "      <td>0</td>\n",
              "      <td>80.0</td>\n",
              "      <td>NaN</td>\n",
              "      <td>First</td>\n",
              "      <td>woman</td>\n",
              "      <td>False</td>\n",
              "      <td>B</td>\n",
              "      <td>NaN</td>\n",
              "      <td>yes</td>\n",
              "      <td>True</td>\n",
              "      <td>0</td>\n",
              "      <td>0</td>\n",
              "    </tr>\n",
              "    <tr>\n",
              "      <th>829</th>\n",
              "      <td>1</td>\n",
              "      <td>1</td>\n",
              "      <td>female</td>\n",
              "      <td>62.0</td>\n",
              "      <td>0</td>\n",
              "      <td>0</td>\n",
              "      <td>80.0</td>\n",
              "      <td>NaN</td>\n",
              "      <td>First</td>\n",
              "      <td>woman</td>\n",
              "      <td>False</td>\n",
              "      <td>B</td>\n",
              "      <td>NaN</td>\n",
              "      <td>yes</td>\n",
              "      <td>True</td>\n",
              "      <td>0</td>\n",
              "      <td>0</td>\n",
              "    </tr>\n",
              "  </tbody>\n",
              "</table>\n",
              "</div>"
            ],
            "text/plain": [
              "     survived  pclass     sex   age  sibsp  parch  fare embarked  class  \\\n",
              "61          1       1  female  38.0      0      0  80.0      NaN  First   \n",
              "829         1       1  female  62.0      0      0  80.0      NaN  First   \n",
              "\n",
              "       who  adult_male deck embark_town alive  alone  deck_null  age_null  \n",
              "61   woman       False    B         NaN   yes   True          0         0  \n",
              "829  woman       False    B         NaN   yes   True          0         0  "
            ]
          },
          "metadata": {
            "tags": []
          },
          "execution_count": 11
        }
      ]
    },
    {
      "cell_type": "markdown",
      "metadata": {
        "id": "U88iui4JwfVg",
        "colab_type": "text"
      },
      "source": [
        "These 2 women were travelling together, Miss Icard was the maid of Mrs Stone.\n",
        "\n",
        "A priori, there does not seem to be an indication that the missing information in the variable Embarked is depending on any other variable, and the fact that these women survived, means that they could have been asked for this information.\n",
        "\n",
        "Very likely this missingness was generated at the time of building the dataset and therefore we could assume that it is completely random. We can assume that the probability of data being missing for these 2 women is the same as the probability for this variable to be missing for any other person. Of course this will be hard, if possible at all, to prove."
      ]
    },
    {
      "cell_type": "markdown",
      "metadata": {
        "id": "nGY69hRjwfVh",
        "colab_type": "text"
      },
      "source": [
        "### ___Missing Data At Random (MAR)___\n",
        "\n",
        "For this example, We will use the Lending Club loan book. we will look specifically at the variables employer name (emp_title) and years in employment (emp_length), declared by the borrowers at the time of applying for a loan. The former refers to the name of the company for which the borrower works, the second one to how many years the borrower has worked for named company.\n",
        "\n",
        "Here we will show an example, in which a data point missing in one variable (emp_title) depends on the value entered on the other variable (emp_length)."
      ]
    },
    {
      "cell_type": "code",
      "metadata": {
        "id": "xn2RHeTYwfVi",
        "colab_type": "code",
        "colab": {},
        "outputId": "44663886-e8dc-4e7a-e0b1-9a03e1cd4e12"
      },
      "source": [
        "# let's load the columns of interest from the Lending Club loan book dataset\n",
        "\n",
        "data=pd.read_csv('/content/loan.csv', usecols=['emp_title','emp_length'])\n",
        "data.head()"
      ],
      "execution_count": 0,
      "outputs": [
        {
          "output_type": "execute_result",
          "data": {
            "text/html": [
              "<div>\n",
              "<style>\n",
              "    .dataframe thead tr:only-child th {\n",
              "        text-align: right;\n",
              "    }\n",
              "\n",
              "    .dataframe thead th {\n",
              "        text-align: left;\n",
              "    }\n",
              "\n",
              "    .dataframe tbody tr th {\n",
              "        vertical-align: top;\n",
              "    }\n",
              "</style>\n",
              "<table border=\"1\" class=\"dataframe\">\n",
              "  <thead>\n",
              "    <tr style=\"text-align: right;\">\n",
              "      <th></th>\n",
              "      <th>emp_title</th>\n",
              "      <th>emp_length</th>\n",
              "    </tr>\n",
              "  </thead>\n",
              "  <tbody>\n",
              "    <tr>\n",
              "      <th>0</th>\n",
              "      <td>NaN</td>\n",
              "      <td>10+ years</td>\n",
              "    </tr>\n",
              "    <tr>\n",
              "      <th>1</th>\n",
              "      <td>Ryder</td>\n",
              "      <td>&lt; 1 year</td>\n",
              "    </tr>\n",
              "    <tr>\n",
              "      <th>2</th>\n",
              "      <td>NaN</td>\n",
              "      <td>10+ years</td>\n",
              "    </tr>\n",
              "    <tr>\n",
              "      <th>3</th>\n",
              "      <td>AIR RESOURCES BOARD</td>\n",
              "      <td>10+ years</td>\n",
              "    </tr>\n",
              "    <tr>\n",
              "      <th>4</th>\n",
              "      <td>University Medical Group</td>\n",
              "      <td>1 year</td>\n",
              "    </tr>\n",
              "  </tbody>\n",
              "</table>\n",
              "</div>"
            ],
            "text/plain": [
              "                  emp_title emp_length\n",
              "0                       NaN  10+ years\n",
              "1                     Ryder   < 1 year\n",
              "2                       NaN  10+ years\n",
              "3       AIR RESOURCES BOARD  10+ years\n",
              "4  University Medical Group     1 year"
            ]
          },
          "metadata": {
            "tags": []
          },
          "execution_count": 9
        }
      ]
    },
    {
      "cell_type": "code",
      "metadata": {
        "id": "Ve29gqgQwfVk",
        "colab_type": "code",
        "colab": {},
        "outputId": "c81f19e4-b1f6-4b93-9f92-9655fb5b1483"
      },
      "source": [
        "# let's check the amount of missing data\n",
        "data.isnull().mean()"
      ],
      "execution_count": 0,
      "outputs": [
        {
          "output_type": "execute_result",
          "data": {
            "text/plain": [
              "emp_title     0.057988\n",
              "emp_length    0.000000\n",
              "dtype: float64"
            ]
          },
          "metadata": {
            "tags": []
          },
          "execution_count": 10
        }
      ]
    },
    {
      "cell_type": "markdown",
      "metadata": {
        "id": "6p2oTSTNwfVn",
        "colab_type": "text"
      },
      "source": [
        "Around 6% of the observations contain missing data for employment title."
      ]
    },
    {
      "cell_type": "code",
      "metadata": {
        "id": "2_led7_lwfVn",
        "colab_type": "code",
        "colab": {},
        "outputId": "bf35c059-7d6d-4841-eaa3-6fb2a3a563b0"
      },
      "source": [
        "# let's peek at the different employer names\n",
        "\n",
        "print('Number of different employer names: {}'.format(len(data.emp_title.unique())))\n",
        "data.emp_title.unique()[0:20]"
      ],
      "execution_count": 0,
      "outputs": [
        {
          "output_type": "stream",
          "text": [
            "Number of different employer names: 299273\n"
          ],
          "name": "stdout"
        },
        {
          "output_type": "execute_result",
          "data": {
            "text/plain": [
              "array([nan, 'Ryder', 'AIR RESOURCES BOARD', 'University Medical Group',\n",
              "       'Veolia Transportaton', 'Southern Star Photography',\n",
              "       'MKC Accounting ', 'Starbucks', 'Southwest Rural metro', 'UCLA',\n",
              "       'Va. Dept of Conservation/Recreation', 'Target', 'SFMTA',\n",
              "       'Internal revenue Service', \"Chin's Restaurant\", 'Duracell',\n",
              "       'Connection Inspection', 'Network Interpreting Service',\n",
              "       'Archdiocese of Galveston Houston', 'Osram Sylvania'], dtype=object)"
            ]
          },
          "metadata": {
            "tags": []
          },
          "execution_count": 11
        }
      ]
    },
    {
      "cell_type": "code",
      "metadata": {
        "id": "6oJn2W3MwfVr",
        "colab_type": "code",
        "colab": {},
        "outputId": "a67feea1-c8c0-47dd-acfd-767127c17cc0"
      },
      "source": [
        "# let's inspect the variable emp_length\n",
        "data.emp_length.unique()"
      ],
      "execution_count": 0,
      "outputs": [
        {
          "output_type": "execute_result",
          "data": {
            "text/plain": [
              "array(['10+ years', '< 1 year', '1 year', '3 years', '8 years', '9 years',\n",
              "       '4 years', '5 years', '6 years', '2 years', '7 years', 'n/a'], dtype=object)"
            ]
          },
          "metadata": {
            "tags": []
          },
          "execution_count": 12
        }
      ]
    },
    {
      "cell_type": "code",
      "metadata": {
        "id": "Tea5K46TwfVx",
        "colab_type": "code",
        "colab": {},
        "outputId": "1ab76c7b-2875-4b65-9b12-3ce102baa89f"
      },
      "source": [
        "# let's look at the percentage of borrowers within\n",
        "# each label / category of the emp_length variable\n",
        "\n",
        "data.emp_length.value_counts() / len(data)"
      ],
      "execution_count": 0,
      "outputs": [
        {
          "output_type": "execute_result",
          "data": {
            "text/plain": [
              "10+ years    0.328573\n",
              "2 years      0.088880\n",
              "< 1 year     0.079566\n",
              "3 years      0.078913\n",
              "1 year       0.064341\n",
              "5 years      0.062774\n",
              "4 years      0.059196\n",
              "n/a          0.050514\n",
              "7 years      0.050254\n",
              "8 years      0.049534\n",
              "6 years      0.048401\n",
              "9 years      0.039055\n",
              "Name: emp_length, dtype: float64"
            ]
          },
          "metadata": {
            "tags": []
          },
          "execution_count": 13
        }
      ]
    },
    {
      "cell_type": "markdown",
      "metadata": {
        "id": "VmPI3Sa-wfV0",
        "colab_type": "text"
      },
      "source": [
        "The label 'n/a', which in virtue could be similar to NaN, represents also around 5% of the dataset. So there could be a relationship between missing values in emp_title and 'n/a' in emp_length. Let's have a look."
      ]
    },
    {
      "cell_type": "code",
      "metadata": {
        "id": "6Gt6vHnKwfV1",
        "colab_type": "code",
        "colab": {},
        "outputId": "c85d1831-a12d-4d28-986b-7aa980142abc"
      },
      "source": [
        "# the variable emp_length has many categories. I will summarise it\n",
        "# into 3 for simplicity:'0-10 years' or '10+ years' or 'n/a'\n",
        "\n",
        "# let's build a dictionary to re-map emp_length to just 3 categories:\n",
        "\n",
        "length_dict = {k:'0-10 years' for k in data.emp_length.unique()}\n",
        "length_dict['10+ years']='10+ years'\n",
        "length_dict['n/a']='n/a'\n",
        "\n",
        "# let's look at the dictionary\n",
        "length_dict"
      ],
      "execution_count": 0,
      "outputs": [
        {
          "output_type": "execute_result",
          "data": {
            "text/plain": [
              "{'1 year': '0-10 years',\n",
              " '10+ years': '10+ years',\n",
              " '2 years': '0-10 years',\n",
              " '3 years': '0-10 years',\n",
              " '4 years': '0-10 years',\n",
              " '5 years': '0-10 years',\n",
              " '6 years': '0-10 years',\n",
              " '7 years': '0-10 years',\n",
              " '8 years': '0-10 years',\n",
              " '9 years': '0-10 years',\n",
              " '< 1 year': '0-10 years',\n",
              " 'n/a': 'n/a'}"
            ]
          },
          "metadata": {
            "tags": []
          },
          "execution_count": 14
        }
      ]
    },
    {
      "cell_type": "code",
      "metadata": {
        "id": "EGFwqA7qwfV3",
        "colab_type": "code",
        "colab": {},
        "outputId": "ca5623cb-a87a-4d6b-aedb-9e03015b8206"
      },
      "source": [
        "# let's re-map the emp_length\n",
        "\n",
        "data['emp_length_redefined'] = data.emp_length.map(length_dict)\n",
        "data.emp_length_redefined.unique()"
      ],
      "execution_count": 0,
      "outputs": [
        {
          "output_type": "execute_result",
          "data": {
            "text/plain": [
              "array(['10+ years', '0-10 years', 'n/a'], dtype=object)"
            ]
          },
          "metadata": {
            "tags": []
          },
          "execution_count": 15
        }
      ]
    },
    {
      "cell_type": "code",
      "metadata": {
        "id": "68_FZ0tbwfV6",
        "colab_type": "code",
        "colab": {},
        "outputId": "467e3f1b-473c-43dd-a816-389afeda205d"
      },
      "source": [
        "# let's calculate the proportion of working years\n",
        "# with same employer for those who miss data on employer name\n",
        "\n",
        "# number of borrowers for whom employer name is missing\n",
        "value = len(data[data.emp_title.isnull()])\n",
        "\n",
        "# % of borrowers for whom employer name is missing \n",
        "# within each category of employment length\n",
        "data[data.emp_title.isnull()].groupby(['emp_length_redefined'])['emp_length'].count().sort_values() / value"
      ],
      "execution_count": 0,
      "outputs": [
        {
          "output_type": "execute_result",
          "data": {
            "text/plain": [
              "emp_length_redefined\n",
              "10+ years     0.054006\n",
              "0-10 years    0.082457\n",
              "n/a           0.863537\n",
              "Name: emp_length, dtype: float64"
            ]
          },
          "metadata": {
            "tags": []
          },
          "execution_count": 16
        }
      ]
    },
    {
      "cell_type": "markdown",
      "metadata": {
        "id": "3s_QI0AuwfV9",
        "colab_type": "text"
      },
      "source": [
        "The majority of the missing values in the job title (emp_title) supplied by the borrower coincides with the label n/a of employment length. This supports the idea that the 2 variables are related."
      ]
    },
    {
      "cell_type": "code",
      "metadata": {
        "id": "tKb4DzeXwfV_",
        "colab_type": "code",
        "colab": {},
        "outputId": "57cf4052-4d95-49ff-e34b-fa3113694511"
      },
      "source": [
        "# let's do the same for those bororwers who reported\n",
        "# the employer name\n",
        "\n",
        "# number of borrowers for whom employer name is present\n",
        "value = len(data.dropna(subset=['emp_title']))\n",
        "\n",
        "# % of borrowers within each category\n",
        "data.dropna(subset=['emp_title']).groupby(['emp_length_redefined'])['emp_length'].count().sort_values() / value"
      ],
      "execution_count": 0,
      "outputs": [
        {
          "output_type": "execute_result",
          "data": {
            "text/plain": [
              "emp_length_redefined\n",
              "n/a           0.000467\n",
              "10+ years     0.345475\n",
              "0-10 years    0.654059\n",
              "Name: emp_length, dtype: float64"
            ]
          },
          "metadata": {
            "tags": []
          },
          "execution_count": 17
        }
      ]
    },
    {
      "cell_type": "markdown",
      "metadata": {
        "id": "QXTb7CaAwfWC",
        "colab_type": "text"
      },
      "source": [
        "The number of borrowers who have reported an employer name and indicate n/a as employment length are minimal. Further supporting the idea that the missing values in employment length and employment length are related.\n",
        "\n",
        "'n/a' in 'employment length' could be supplied by people who are retired, or students, or self-employed. In all of those cases there would not be a number of years at employment to provide, therefore the customer would enter 'n/a' and leave empty the form at the side of 'employer_name'.\n",
        "\n",
        "In a scenario like this, a missing value in the variable emp_title depends on or is related to the 'n/a' label in the variable emp_length. And, this missing value nature is, in principle, independent of the variable we want to predict (in this case whether the borrower will repay their loan). How this will affect the predictions is unknown."
      ]
    }
  ]
}