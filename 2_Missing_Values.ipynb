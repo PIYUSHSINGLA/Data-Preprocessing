{
  "nbformat": 4,
  "nbformat_minor": 0,
  "metadata": {
    "kernelspec": {
      "display_name": "Python 3",
      "language": "python",
      "name": "python3"
    },
    "language_info": {
      "codemirror_mode": {
        "name": "ipython",
        "version": 3
      },
      "file_extension": ".py",
      "mimetype": "text/x-python",
      "name": "python",
      "nbconvert_exporter": "python",
      "pygments_lexer": "ipython3",
      "version": "3.5.6"
    },
    "toc": {
      "nav_menu": {},
      "number_sections": true,
      "sideBar": true,
      "skip_h1_title": false,
      "toc_cell": false,
      "toc_position": {},
      "toc_section_display": "block",
      "toc_window_display": true
    },
    "colab": {
      "name": "2. Missing Values.ipynb",
      "provenance": [],
      "collapsed_sections": [],
      "toc_visible": true
    }
  },
  "cells": [
    {
      "cell_type": "markdown",
      "metadata": {
        "id": "BNiSlCFewfU9",
        "colab_type": "text"
      },
      "source": [
        "## ___Missing Values___\n",
        "\n",
        "Missing data, or Missing values, occur when __no data__ / __no value__ is stored for a certain observation within a variable. \n",
        "\n",
        "Missing data are a common occurrence in data in business settings, and can have a significant effect on the conclusions that can be drawn from the data. Incomplete data is an unavoidable problem in dealing with most data sources."
      ]
    },
    {
      "cell_type": "markdown",
      "metadata": {
        "id": "U6pXWI--wuyz",
        "colab_type": "text"
      },
      "source": [
        "### ___Why is Data Missing?___\n",
        "\n",
        "The source of missing data can be very different and here are just a few examples:\n",
        "\n",
        "- A value is missing because it was forgotten or lost or not stored properly\n",
        "- For a certain observation, the value of the variable does not exist\n",
        "- The value can't be known or identified\n",
        "\n",
        "Example: __SURVEY__\n",
        "\n",
        "Imagine the data is entered manually into an online form. The data entry could easily forget to complete a field in the form, and therefore, that value for that form would be missing.\n",
        "\n",
        "The person being asked may not want to disclose the answer to one of the questions, for example, their income. That would be then a missing value for that person.\n",
        "\n",
        "Sometimes, a certain feature can't be calculated for a specific individual. For example, in the variable 'total debt as percentage of total income' if the person has no income, then the total percentage of 0 does not exist. Therefore it will be a missing value."
      ]
    },
    {
      "cell_type": "markdown",
      "metadata": {
        "id": "-Se-cy9Rw-RU",
        "colab_type": "text"
      },
      "source": [
        "### ___Missing Data Mechanisms___\n",
        "\n",
        "There are 3 mechanisms that lead to missing data, 2 of them involve missing data randomly or almost-randomly, and the third one involves a systematic loss of data."
      ]
    },
    {
      "cell_type": "code",
      "metadata": {
        "id": "No59A4WzwfVA",
        "colab_type": "code",
        "colab": {}
      },
      "source": [
        "import pandas as pd\n",
        "import numpy as np\n",
        "\n",
        "import matplotlib.pyplot as plt\n",
        "%matplotlib inline\n",
        "\n",
        "import seaborn as sns\n",
        "\n",
        "# to display the total number columns present in the dataset\n",
        "pd.set_option('display.max_columns', None)"
      ],
      "execution_count": 0,
      "outputs": []
    },
    {
      "cell_type": "code",
      "metadata": {
        "id": "MTdVgav8g0E2",
        "colab_type": "code",
        "colab": {
          "base_uri": "https://localhost:8080/",
          "height": 202
        },
        "outputId": "01bff314-3b18-4b8b-f4ae-60049498af71"
      },
      "source": [
        "!pip install kaggle\n",
        "\n",
        "!mkdir .kaggle\n",
        "\n",
        "import json\n",
        "token = {\"username\":\"piyushsingla\",\"key\":\"94939b9ecb5fcbd1eb64911f57ee6087\"}\n",
        "with open('/content/.kaggle/kaggle.json', 'w') as file:\n",
        "    json.dump(token, file)"
      ],
      "execution_count": 9,
      "outputs": [
        {
          "output_type": "stream",
          "text": [
            "Requirement already satisfied: kaggle in /usr/local/lib/python3.6/dist-packages (1.5.6)\n",
            "Requirement already satisfied: python-dateutil in /usr/local/lib/python3.6/dist-packages (from kaggle) (2.6.1)\n",
            "Requirement already satisfied: certifi in /usr/local/lib/python3.6/dist-packages (from kaggle) (2019.11.28)\n",
            "Requirement already satisfied: requests in /usr/local/lib/python3.6/dist-packages (from kaggle) (2.21.0)\n",
            "Requirement already satisfied: urllib3<1.25,>=1.21.1 in /usr/local/lib/python3.6/dist-packages (from kaggle) (1.24.3)\n",
            "Requirement already satisfied: six>=1.10 in /usr/local/lib/python3.6/dist-packages (from kaggle) (1.12.0)\n",
            "Requirement already satisfied: python-slugify in /usr/local/lib/python3.6/dist-packages (from kaggle) (4.0.0)\n",
            "Requirement already satisfied: tqdm in /usr/local/lib/python3.6/dist-packages (from kaggle) (4.28.1)\n",
            "Requirement already satisfied: idna<2.9,>=2.5 in /usr/local/lib/python3.6/dist-packages (from requests->kaggle) (2.8)\n",
            "Requirement already satisfied: chardet<3.1.0,>=3.0.2 in /usr/local/lib/python3.6/dist-packages (from requests->kaggle) (3.0.4)\n",
            "Requirement already satisfied: text-unidecode>=1.3 in /usr/local/lib/python3.6/dist-packages (from python-slugify->kaggle) (1.3)\n"
          ],
          "name": "stdout"
        }
      ]
    },
    {
      "cell_type": "code",
      "metadata": {
        "id": "3Ynd9kBN8__d",
        "colab_type": "code",
        "colab": {}
      },
      "source": [
        "!chmod 600 /content/.kaggle/kaggle.json"
      ],
      "execution_count": 0,
      "outputs": []
    },
    {
      "cell_type": "code",
      "metadata": {
        "id": "74geLHZ99Ewa",
        "colab_type": "code",
        "colab": {}
      },
      "source": [
        "# run after gap of 30-40 Secs\n",
        "!cp /content/.kaggle/kaggle.json ~/.kaggle/kaggle.json"
      ],
      "execution_count": 0,
      "outputs": []
    },
    {
      "cell_type": "code",
      "metadata": {
        "id": "_PxWo-fb9WiV",
        "colab_type": "code",
        "outputId": "a8357fd6-b447-498d-9310-7483172695c1",
        "colab": {
          "base_uri": "https://localhost:8080/",
          "height": 202
        }
      },
      "source": [
        "!kaggle config set -n path -v{/content}\n",
        "\n",
        "!kaggle competitions download -c titanic -p /content"
      ],
      "execution_count": 16,
      "outputs": [
        {
          "output_type": "stream",
          "text": [
            "- path is now set to: {/content}\n",
            "Warning: Looks like you're using an outdated API Version, please consider updating (server 1.5.6 / client 1.5.4)\n",
            "Downloading gender_submission.csv to /content\n",
            "  0% 0.00/3.18k [00:00<?, ?B/s]\n",
            "100% 3.18k/3.18k [00:00<00:00, 1.33MB/s]\n",
            "Downloading test.csv to /content\n",
            "  0% 0.00/28.0k [00:00<?, ?B/s]\n",
            "100% 28.0k/28.0k [00:00<00:00, 27.6MB/s]\n",
            "Downloading train.csv to /content\n",
            "  0% 0.00/59.8k [00:00<?, ?B/s]\n",
            "100% 59.8k/59.8k [00:00<00:00, 57.4MB/s]\n"
          ],
          "name": "stdout"
        }
      ]
    },
    {
      "cell_type": "code",
      "metadata": {
        "id": "sd_Ou4HywfVD",
        "colab_type": "code",
        "outputId": "bb9b0b1d-4b62-4830-85c4-ee795cd16e2e",
        "colab": {
          "base_uri": "https://localhost:8080/",
          "height": 201
        }
      },
      "source": [
        "# let's load the titanic dataset\n",
        "\n",
        "titanic = pd.read_csv('/content/train.csv')\n",
        "data = titanic.copy()\n",
        "data.head()"
      ],
      "execution_count": 49,
      "outputs": [
        {
          "output_type": "execute_result",
          "data": {
            "text/html": [
              "<div>\n",
              "<style scoped>\n",
              "    .dataframe tbody tr th:only-of-type {\n",
              "        vertical-align: middle;\n",
              "    }\n",
              "\n",
              "    .dataframe tbody tr th {\n",
              "        vertical-align: top;\n",
              "    }\n",
              "\n",
              "    .dataframe thead th {\n",
              "        text-align: right;\n",
              "    }\n",
              "</style>\n",
              "<table border=\"1\" class=\"dataframe\">\n",
              "  <thead>\n",
              "    <tr style=\"text-align: right;\">\n",
              "      <th></th>\n",
              "      <th>PassengerId</th>\n",
              "      <th>Survived</th>\n",
              "      <th>Pclass</th>\n",
              "      <th>Name</th>\n",
              "      <th>Sex</th>\n",
              "      <th>Age</th>\n",
              "      <th>SibSp</th>\n",
              "      <th>Parch</th>\n",
              "      <th>Ticket</th>\n",
              "      <th>Fare</th>\n",
              "      <th>Cabin</th>\n",
              "      <th>Embarked</th>\n",
              "    </tr>\n",
              "  </thead>\n",
              "  <tbody>\n",
              "    <tr>\n",
              "      <th>0</th>\n",
              "      <td>1</td>\n",
              "      <td>0</td>\n",
              "      <td>3</td>\n",
              "      <td>Braund, Mr. Owen Harris</td>\n",
              "      <td>male</td>\n",
              "      <td>22.0</td>\n",
              "      <td>1</td>\n",
              "      <td>0</td>\n",
              "      <td>A/5 21171</td>\n",
              "      <td>7.2500</td>\n",
              "      <td>NaN</td>\n",
              "      <td>S</td>\n",
              "    </tr>\n",
              "    <tr>\n",
              "      <th>1</th>\n",
              "      <td>2</td>\n",
              "      <td>1</td>\n",
              "      <td>1</td>\n",
              "      <td>Cumings, Mrs. John Bradley (Florence Briggs Th...</td>\n",
              "      <td>female</td>\n",
              "      <td>38.0</td>\n",
              "      <td>1</td>\n",
              "      <td>0</td>\n",
              "      <td>PC 17599</td>\n",
              "      <td>71.2833</td>\n",
              "      <td>C85</td>\n",
              "      <td>C</td>\n",
              "    </tr>\n",
              "    <tr>\n",
              "      <th>2</th>\n",
              "      <td>3</td>\n",
              "      <td>1</td>\n",
              "      <td>3</td>\n",
              "      <td>Heikkinen, Miss. Laina</td>\n",
              "      <td>female</td>\n",
              "      <td>26.0</td>\n",
              "      <td>0</td>\n",
              "      <td>0</td>\n",
              "      <td>STON/O2. 3101282</td>\n",
              "      <td>7.9250</td>\n",
              "      <td>NaN</td>\n",
              "      <td>S</td>\n",
              "    </tr>\n",
              "    <tr>\n",
              "      <th>3</th>\n",
              "      <td>4</td>\n",
              "      <td>1</td>\n",
              "      <td>1</td>\n",
              "      <td>Futrelle, Mrs. Jacques Heath (Lily May Peel)</td>\n",
              "      <td>female</td>\n",
              "      <td>35.0</td>\n",
              "      <td>1</td>\n",
              "      <td>0</td>\n",
              "      <td>113803</td>\n",
              "      <td>53.1000</td>\n",
              "      <td>C123</td>\n",
              "      <td>S</td>\n",
              "    </tr>\n",
              "    <tr>\n",
              "      <th>4</th>\n",
              "      <td>5</td>\n",
              "      <td>0</td>\n",
              "      <td>3</td>\n",
              "      <td>Allen, Mr. William Henry</td>\n",
              "      <td>male</td>\n",
              "      <td>35.0</td>\n",
              "      <td>0</td>\n",
              "      <td>0</td>\n",
              "      <td>373450</td>\n",
              "      <td>8.0500</td>\n",
              "      <td>NaN</td>\n",
              "      <td>S</td>\n",
              "    </tr>\n",
              "  </tbody>\n",
              "</table>\n",
              "</div>"
            ],
            "text/plain": [
              "   PassengerId  Survived  Pclass  \\\n",
              "0            1         0       3   \n",
              "1            2         1       1   \n",
              "2            3         1       3   \n",
              "3            4         1       1   \n",
              "4            5         0       3   \n",
              "\n",
              "                                                Name     Sex   Age  SibSp  \\\n",
              "0                            Braund, Mr. Owen Harris    male  22.0      1   \n",
              "1  Cumings, Mrs. John Bradley (Florence Briggs Th...  female  38.0      1   \n",
              "2                             Heikkinen, Miss. Laina  female  26.0      0   \n",
              "3       Futrelle, Mrs. Jacques Heath (Lily May Peel)  female  35.0      1   \n",
              "4                           Allen, Mr. William Henry    male  35.0      0   \n",
              "\n",
              "   Parch            Ticket     Fare Cabin Embarked  \n",
              "0      0         A/5 21171   7.2500   NaN        S  \n",
              "1      0          PC 17599  71.2833   C85        C  \n",
              "2      0  STON/O2. 3101282   7.9250   NaN        S  \n",
              "3      0            113803  53.1000  C123        S  \n",
              "4      0            373450   8.0500   NaN        S  "
            ]
          },
          "metadata": {
            "tags": []
          },
          "execution_count": 49
        }
      ]
    },
    {
      "cell_type": "markdown",
      "metadata": {
        "id": "35NJW5w6wfVH",
        "colab_type": "text"
      },
      "source": [
        "_In python, the missing values are stored as NaN, see for example the first row for the variable deck._"
      ]
    },
    {
      "cell_type": "markdown",
      "metadata": {
        "id": "c9X3_Ow0xDql",
        "colab_type": "text"
      },
      "source": [
        "#### 1. ___Missing Completely at Random (MCAR)___\n",
        "\n",
        "A variable is missing completely at random (MCAR) if the probability of being missing is the same for all the observations. \n",
        "When data is MCAR, there is absolutely no relationship between the data missing and any other values, observed or missing, within the dataset. In other words, those missing data points are a random subset of the data. There is nothing systematic going on that makes some data more likely to be missing than other.\n",
        "\n",
        "If values for observations are missing completely at random, then disregarding those cases would not bias the inferences made."
      ]
    },
    {
      "cell_type": "code",
      "metadata": {
        "id": "Yb3QdG6owfVd",
        "colab_type": "code",
        "outputId": "e984855f-618a-4e96-a487-64034dc0051c",
        "colab": {
          "base_uri": "https://localhost:8080/",
          "height": 109
        }
      },
      "source": [
        "# slice the dataframe to show only those observations with missing value for Embarked\n",
        "\n",
        "data[data.Embarked.isnull()]"
      ],
      "execution_count": 19,
      "outputs": [
        {
          "output_type": "execute_result",
          "data": {
            "text/html": [
              "<div>\n",
              "<style scoped>\n",
              "    .dataframe tbody tr th:only-of-type {\n",
              "        vertical-align: middle;\n",
              "    }\n",
              "\n",
              "    .dataframe tbody tr th {\n",
              "        vertical-align: top;\n",
              "    }\n",
              "\n",
              "    .dataframe thead th {\n",
              "        text-align: right;\n",
              "    }\n",
              "</style>\n",
              "<table border=\"1\" class=\"dataframe\">\n",
              "  <thead>\n",
              "    <tr style=\"text-align: right;\">\n",
              "      <th></th>\n",
              "      <th>PassengerId</th>\n",
              "      <th>Survived</th>\n",
              "      <th>Pclass</th>\n",
              "      <th>Name</th>\n",
              "      <th>Sex</th>\n",
              "      <th>Age</th>\n",
              "      <th>SibSp</th>\n",
              "      <th>Parch</th>\n",
              "      <th>Ticket</th>\n",
              "      <th>Fare</th>\n",
              "      <th>Cabin</th>\n",
              "      <th>Embarked</th>\n",
              "    </tr>\n",
              "  </thead>\n",
              "  <tbody>\n",
              "    <tr>\n",
              "      <th>61</th>\n",
              "      <td>62</td>\n",
              "      <td>1</td>\n",
              "      <td>1</td>\n",
              "      <td>Icard, Miss. Amelie</td>\n",
              "      <td>female</td>\n",
              "      <td>38.0</td>\n",
              "      <td>0</td>\n",
              "      <td>0</td>\n",
              "      <td>113572</td>\n",
              "      <td>80.0</td>\n",
              "      <td>B28</td>\n",
              "      <td>NaN</td>\n",
              "    </tr>\n",
              "    <tr>\n",
              "      <th>829</th>\n",
              "      <td>830</td>\n",
              "      <td>1</td>\n",
              "      <td>1</td>\n",
              "      <td>Stone, Mrs. George Nelson (Martha Evelyn)</td>\n",
              "      <td>female</td>\n",
              "      <td>62.0</td>\n",
              "      <td>0</td>\n",
              "      <td>0</td>\n",
              "      <td>113572</td>\n",
              "      <td>80.0</td>\n",
              "      <td>B28</td>\n",
              "      <td>NaN</td>\n",
              "    </tr>\n",
              "  </tbody>\n",
              "</table>\n",
              "</div>"
            ],
            "text/plain": [
              "     PassengerId  Survived  Pclass                                       Name  \\\n",
              "61            62         1       1                        Icard, Miss. Amelie   \n",
              "829          830         1       1  Stone, Mrs. George Nelson (Martha Evelyn)   \n",
              "\n",
              "        Sex   Age  SibSp  Parch  Ticket  Fare Cabin Embarked  \n",
              "61   female  38.0      0      0  113572  80.0   B28      NaN  \n",
              "829  female  62.0      0      0  113572  80.0   B28      NaN  "
            ]
          },
          "metadata": {
            "tags": []
          },
          "execution_count": 19
        }
      ]
    },
    {
      "cell_type": "markdown",
      "metadata": {
        "id": "U88iui4JwfVg",
        "colab_type": "text"
      },
      "source": [
        "These 2 women were travelling together, Miss Icard was the maid of Mrs Stone.\n",
        "\n",
        "A priori, there does not seem to be an indication that the missing information in the variable Embarked is depending on any other variable, and the fact that these women survived, means that they could have been asked for this information.\n",
        "\n",
        "Very likely this missingness was generated at the time of building the dataset and therefore we could assume that it is completely random. We can assume that the probability of data being missing for these 2 women is the same as the probability for this variable to be missing for any other person. Of course this will be hard, if possible at all, to prove."
      ]
    },
    {
      "cell_type": "markdown",
      "metadata": {
        "id": "JKhPOSlTxGYp",
        "colab_type": "text"
      },
      "source": [
        "#### 2. ___Missing at Random (MAR)___ \n",
        "\n",
        "MAR occurs when there is a systematic relationship between the propensity of missing values and the observed data. In other words, the probability an observation being missing depends only on available information (other variables in the dataset). For example, if men are more likely to disclose their weight than women, weight is MAR. The weight information will be missing at random for those men and women that decided not to disclose their weight, but as men are more prone to disclose it, there will be more missing values for women than for men.\n",
        "\n",
        "In a situation like the above, if we decide to proceed with the variable with missing values (in this case weight), we might benefit from including gender to control the bias in weight for the missing observations."
      ]
    },
    {
      "cell_type": "markdown",
      "metadata": {
        "id": "nGY69hRjwfVh",
        "colab_type": "text"
      },
      "source": [
        "For this example, We will use the Lending Club loan book. we will look specifically at the variables employer name (emp_title) and years in employment (emp_length), declared by the borrowers at the time of applying for a loan. The former refers to the name of the company for which the borrower works, the second one to how many years the borrower has worked for named company.\n",
        "\n",
        "Here we will show an example, in which a data point missing in one variable (emp_title) depends on the value entered on the other variable (emp_length)."
      ]
    },
    {
      "cell_type": "code",
      "metadata": {
        "id": "VxzDh89Wheym",
        "colab_type": "code",
        "colab": {
          "base_uri": "https://localhost:8080/",
          "height": 135
        },
        "outputId": "be0ffff3-b2a7-4cd5-a7d7-5295f5cf5911"
      },
      "source": [
        "!kaggle datasets download -d wendykan/lending-club-loan-data -p /content\n",
        "\n",
        "!unzip \\*.zip"
      ],
      "execution_count": 20,
      "outputs": [
        {
          "output_type": "stream",
          "text": [
            "Downloading lending-club-loan-data.zip to /content\n",
            " 99% 711M/720M [00:06<00:00, 101MB/s]\n",
            "100% 720M/720M [00:07<00:00, 107MB/s]\n",
            "Archive:  lending-club-loan-data.zip\n",
            "  inflating: LCDataDictionary.xlsx   \n",
            "  inflating: database.sqlite         \n",
            "  inflating: loan.csv                \n"
          ],
          "name": "stdout"
        }
      ]
    },
    {
      "cell_type": "code",
      "metadata": {
        "id": "xn2RHeTYwfVi",
        "colab_type": "code",
        "outputId": "eee58b70-50dc-47ce-a87e-e8972ee27edc",
        "colab": {
          "base_uri": "https://localhost:8080/",
          "height": 201
        }
      },
      "source": [
        "# let's load the columns of interest from the Lending Club loan book dataset\n",
        "\n",
        "data1=pd.read_csv('/content/loan.csv', usecols=['emp_title','emp_length'])\n",
        "data1.head()"
      ],
      "execution_count": 21,
      "outputs": [
        {
          "output_type": "execute_result",
          "data": {
            "text/html": [
              "<div>\n",
              "<style scoped>\n",
              "    .dataframe tbody tr th:only-of-type {\n",
              "        vertical-align: middle;\n",
              "    }\n",
              "\n",
              "    .dataframe tbody tr th {\n",
              "        vertical-align: top;\n",
              "    }\n",
              "\n",
              "    .dataframe thead th {\n",
              "        text-align: right;\n",
              "    }\n",
              "</style>\n",
              "<table border=\"1\" class=\"dataframe\">\n",
              "  <thead>\n",
              "    <tr style=\"text-align: right;\">\n",
              "      <th></th>\n",
              "      <th>emp_title</th>\n",
              "      <th>emp_length</th>\n",
              "    </tr>\n",
              "  </thead>\n",
              "  <tbody>\n",
              "    <tr>\n",
              "      <th>0</th>\n",
              "      <td>Chef</td>\n",
              "      <td>10+ years</td>\n",
              "    </tr>\n",
              "    <tr>\n",
              "      <th>1</th>\n",
              "      <td>Postmaster</td>\n",
              "      <td>10+ years</td>\n",
              "    </tr>\n",
              "    <tr>\n",
              "      <th>2</th>\n",
              "      <td>Administrative</td>\n",
              "      <td>6 years</td>\n",
              "    </tr>\n",
              "    <tr>\n",
              "      <th>3</th>\n",
              "      <td>IT Supervisor</td>\n",
              "      <td>10+ years</td>\n",
              "    </tr>\n",
              "    <tr>\n",
              "      <th>4</th>\n",
              "      <td>Mechanic</td>\n",
              "      <td>10+ years</td>\n",
              "    </tr>\n",
              "  </tbody>\n",
              "</table>\n",
              "</div>"
            ],
            "text/plain": [
              "        emp_title emp_length\n",
              "0            Chef  10+ years\n",
              "1     Postmaster   10+ years\n",
              "2  Administrative    6 years\n",
              "3   IT Supervisor  10+ years\n",
              "4        Mechanic  10+ years"
            ]
          },
          "metadata": {
            "tags": []
          },
          "execution_count": 21
        }
      ]
    },
    {
      "cell_type": "code",
      "metadata": {
        "id": "Ve29gqgQwfVk",
        "colab_type": "code",
        "outputId": "e8136077-3ead-49eb-df23-120b256305c2",
        "colab": {
          "base_uri": "https://localhost:8080/",
          "height": 67
        }
      },
      "source": [
        "# let's check the amount of missing data\n",
        "data1.isnull().mean()"
      ],
      "execution_count": 22,
      "outputs": [
        {
          "output_type": "execute_result",
          "data": {
            "text/plain": [
              "emp_title     0.073858\n",
              "emp_length    0.064984\n",
              "dtype: float64"
            ]
          },
          "metadata": {
            "tags": []
          },
          "execution_count": 22
        }
      ]
    },
    {
      "cell_type": "markdown",
      "metadata": {
        "id": "6p2oTSTNwfVn",
        "colab_type": "text"
      },
      "source": [
        "Around 6% of the observations contain missing data for employment title."
      ]
    },
    {
      "cell_type": "code",
      "metadata": {
        "id": "2_led7_lwfVn",
        "colab_type": "code",
        "outputId": "d16890df-1eb2-465d-d864-cbfca30f4fb6",
        "colab": {
          "base_uri": "https://localhost:8080/",
          "height": 152
        }
      },
      "source": [
        "# let's peek at the different employer names\n",
        "\n",
        "print('Number of different employer names: {}'.format(len(data1.emp_title.unique())))\n",
        "data1.emp_title.unique()[0:20]"
      ],
      "execution_count": 23,
      "outputs": [
        {
          "output_type": "stream",
          "text": [
            "Number of different employer names: 512695\n"
          ],
          "name": "stdout"
        },
        {
          "output_type": "execute_result",
          "data": {
            "text/plain": [
              "array(['Chef', 'Postmaster ', 'Administrative', 'IT Supervisor',\n",
              "       'Mechanic', 'Director COE', 'Account Manager',\n",
              "       'Assistant Director', 'Legal Assistant III', nan, 'Consultant',\n",
              "       'Job Coach Supervisor', 'Quality Field Engineer', 'Teller ',\n",
              "       'respritory therapist', 'Worship Director', 'Processor ',\n",
              "       'Neonatal Nurse Practitioner', 'Stationary Engineer',\n",
              "       'Exhibits director'], dtype=object)"
            ]
          },
          "metadata": {
            "tags": []
          },
          "execution_count": 23
        }
      ]
    },
    {
      "cell_type": "code",
      "metadata": {
        "id": "6oJn2W3MwfVr",
        "colab_type": "code",
        "outputId": "fa3d70fb-e807-4032-e4e3-45bc8f06a7ef",
        "colab": {
          "base_uri": "https://localhost:8080/",
          "height": 34
        }
      },
      "source": [
        "# let's inspect the variable emp_length\n",
        "data1.emp_length.isnull().sum()/len(data1)"
      ],
      "execution_count": 30,
      "outputs": [
        {
          "output_type": "execute_result",
          "data": {
            "text/plain": [
              "0.0649838897175525"
            ]
          },
          "metadata": {
            "tags": []
          },
          "execution_count": 30
        }
      ]
    },
    {
      "cell_type": "code",
      "metadata": {
        "id": "quj4Fk5jjPQM",
        "colab_type": "code",
        "colab": {}
      },
      "source": [
        "data1.emp_length = np.where(data1.emp_length.isnull(),'',data1.emp_length)"
      ],
      "execution_count": 0,
      "outputs": []
    },
    {
      "cell_type": "code",
      "metadata": {
        "id": "6Gt6vHnKwfV1",
        "colab_type": "code",
        "outputId": "93a4c0a7-dcf3-4d86-b1b6-5e1a2ec19363",
        "colab": {
          "base_uri": "https://localhost:8080/",
          "height": 219
        }
      },
      "source": [
        "# the variable emp_length has many categories. I will summarise it\n",
        "# into 3 for simplicity:'0-10 years' or '10+ years' or 'n/a'\n",
        "\n",
        "# let's build a dictionary to re-map emp_length to just 3 categories:\n",
        "\n",
        "length_dict = {k:'0-10 years' for k in data1.emp_length.unique()}\n",
        "length_dict['10+ years']='10+ years'\n",
        "length_dict['']='Empty'\n",
        "\n",
        "# let's look at the dictionary\n",
        "length_dict"
      ],
      "execution_count": 36,
      "outputs": [
        {
          "output_type": "execute_result",
          "data": {
            "text/plain": [
              "{'': 'Empty',\n",
              " '1 year': '0-10 years',\n",
              " '10+ years': '10+ years',\n",
              " '2 years': '0-10 years',\n",
              " '3 years': '0-10 years',\n",
              " '4 years': '0-10 years',\n",
              " '5 years': '0-10 years',\n",
              " '6 years': '0-10 years',\n",
              " '7 years': '0-10 years',\n",
              " '8 years': '0-10 years',\n",
              " '9 years': '0-10 years',\n",
              " '< 1 year': '0-10 years'}"
            ]
          },
          "metadata": {
            "tags": []
          },
          "execution_count": 36
        }
      ]
    },
    {
      "cell_type": "code",
      "metadata": {
        "id": "EGFwqA7qwfV3",
        "colab_type": "code",
        "outputId": "b29b2167-6e7c-462a-e5b3-8afe892bef84",
        "colab": {
          "base_uri": "https://localhost:8080/",
          "height": 34
        }
      },
      "source": [
        "# let's re-map the emp_length\n",
        "\n",
        "data1['emp_length_redefined'] = data1.emp_length.map(length_dict)\n",
        "data1.emp_length_redefined.unique()"
      ],
      "execution_count": 38,
      "outputs": [
        {
          "output_type": "execute_result",
          "data": {
            "text/plain": [
              "array(['10+ years', '0-10 years', 'Empty'], dtype=object)"
            ]
          },
          "metadata": {
            "tags": []
          },
          "execution_count": 38
        }
      ]
    },
    {
      "cell_type": "code",
      "metadata": {
        "id": "68_FZ0tbwfV6",
        "colab_type": "code",
        "outputId": "76a2fb4c-b525-4ce3-f5c7-a109131e3532",
        "colab": {
          "base_uri": "https://localhost:8080/",
          "height": 101
        }
      },
      "source": [
        "# let's calculate the proportion of working years\n",
        "# with same employer for those who miss data on employer name\n",
        "\n",
        "# number of borrowers for whom employer name is missing\n",
        "value = len(data1[data1.emp_title.isnull()])\n",
        "\n",
        "# % of borrowers for whom employer name is missing \n",
        "# within each category of employment length\n",
        "data1[data1.emp_title.isnull()].groupby(['emp_length_redefined'])['emp_length'].count().sort_values() / value"
      ],
      "execution_count": 39,
      "outputs": [
        {
          "output_type": "execute_result",
          "data": {
            "text/plain": [
              "emp_length_redefined\n",
              "10+ years     0.021124\n",
              "0-10 years    0.103810\n",
              "Empty         0.875067\n",
              "Name: emp_length, dtype: float64"
            ]
          },
          "metadata": {
            "tags": []
          },
          "execution_count": 39
        }
      ]
    },
    {
      "cell_type": "markdown",
      "metadata": {
        "id": "3s_QI0AuwfV9",
        "colab_type": "text"
      },
      "source": [
        "The majority of the missing values in the job title (emp_title) supplied by the borrower coincides with the label n/a of employment length. This supports the idea that the 2 variables are related."
      ]
    },
    {
      "cell_type": "code",
      "metadata": {
        "id": "tKb4DzeXwfV_",
        "colab_type": "code",
        "outputId": "e1c52a76-95cf-4e63-b4cb-2ce30e4212b9",
        "colab": {
          "base_uri": "https://localhost:8080/",
          "height": 101
        }
      },
      "source": [
        "# let's do the same for those bororwers who reported\n",
        "# the employer name\n",
        "\n",
        "# number of borrowers for whom employer name is present\n",
        "value = len(data1.dropna(subset=['emp_title']))\n",
        "\n",
        "# % of borrowers within each category\n",
        "data1.dropna(subset=['emp_title']).groupby(['emp_length_redefined'])['emp_length'].count().sort_values() / value"
      ],
      "execution_count": 40,
      "outputs": [
        {
          "output_type": "execute_result",
          "data": {
            "text/plain": [
              "emp_length_redefined\n",
              "Empty         0.000381\n",
              "10+ years     0.355580\n",
              "0-10 years    0.644039\n",
              "Name: emp_length, dtype: float64"
            ]
          },
          "metadata": {
            "tags": []
          },
          "execution_count": 40
        }
      ]
    },
    {
      "cell_type": "markdown",
      "metadata": {
        "id": "QXTb7CaAwfWC",
        "colab_type": "text"
      },
      "source": [
        "The number of borrowers who have reported an employer name and indicate n/a as employment length are minimal. Further supporting the idea that the missing values in employment length and employment length are related.\n",
        "\n",
        "'n/a' in 'employment length' could be supplied by people who are retired, or students, or self-employed. In all of those cases there would not be a number of years at employment to provide, therefore the customer would enter 'n/a' and leave empty the form at the side of 'employer_name'.\n",
        "\n",
        "In a scenario like this, a missing value in the variable emp_title depends on or is related to the 'n/a' label in the variable emp_length. And, this missing value nature is, in principle, independent of the variable we want to predict (in this case whether the borrower will repay their loan). How this will affect the predictions is unknown."
      ]
    },
    {
      "cell_type": "markdown",
      "metadata": {
        "id": "Xr_672J8xIop",
        "colab_type": "text"
      },
      "source": [
        "#### 3. ___Missing Not at Random (MNAR)___\n",
        "\n",
        "Missing of values is not at random (MNAR) if their being missing depends on information not recorded in the dataset. In other words, there is a mechanism or a reason why missing values are introduced in the dataset.\n",
        "\n",
        "Examples:\n",
        "\n",
        "MNAR would occur if people failed to fill in a depression survey because of their level of depression. Here, the missing of data is related to the outcome, depression."
      ]
    },
    {
      "cell_type": "code",
      "metadata": {
        "id": "LRZWE04qwfVI",
        "colab_type": "code",
        "outputId": "4714b0c4-81f3-4dbf-e8cb-3356f70f4870",
        "colab": {
          "base_uri": "https://localhost:8080/",
          "height": 236
        }
      },
      "source": [
        "# you can determine the total number of missing values using\n",
        "# the isnull method plus the sum method on the dataframe\n",
        "\n",
        "data.isnull().sum()"
      ],
      "execution_count": 41,
      "outputs": [
        {
          "output_type": "execute_result",
          "data": {
            "text/plain": [
              "PassengerId      0\n",
              "Survived         0\n",
              "Pclass           0\n",
              "Name             0\n",
              "Sex              0\n",
              "Age            177\n",
              "SibSp            0\n",
              "Parch            0\n",
              "Ticket           0\n",
              "Fare             0\n",
              "Cabin          687\n",
              "Embarked         2\n",
              "dtype: int64"
            ]
          },
          "metadata": {
            "tags": []
          },
          "execution_count": 41
        }
      ]
    },
    {
      "cell_type": "code",
      "metadata": {
        "id": "rxskyEKUwfVL",
        "colab_type": "code",
        "outputId": "687f8c72-88e4-4248-e5d3-d40616c02773",
        "colab": {
          "base_uri": "https://localhost:8080/",
          "height": 236
        }
      },
      "source": [
        "# alternatively, you can call the mean method after isnull\n",
        "# to visualise the percentage of the dataset that \n",
        "# contains missing values for each variable\n",
        "\n",
        "data.isnull().mean()"
      ],
      "execution_count": 42,
      "outputs": [
        {
          "output_type": "execute_result",
          "data": {
            "text/plain": [
              "PassengerId    0.000000\n",
              "Survived       0.000000\n",
              "Pclass         0.000000\n",
              "Name           0.000000\n",
              "Sex            0.000000\n",
              "Age            0.198653\n",
              "SibSp          0.000000\n",
              "Parch          0.000000\n",
              "Ticket         0.000000\n",
              "Fare           0.000000\n",
              "Cabin          0.771044\n",
              "Embarked       0.002245\n",
              "dtype: float64"
            ]
          },
          "metadata": {
            "tags": []
          },
          "execution_count": 42
        }
      ]
    },
    {
      "cell_type": "markdown",
      "metadata": {
        "id": "wE6vbp1twfVO",
        "colab_type": "text"
      },
      "source": [
        "We can see that there are missing data in the variables Age, Deck (on which the passenger was travelling) and Embarked, which is the port from which the passenger got into the Titanic."
      ]
    },
    {
      "cell_type": "markdown",
      "metadata": {
        "id": "c2PTvwwywfVP",
        "colab_type": "text"
      },
      "source": [
        "In this dataset, both the missing values of the variables Deck and Age, were introduced systematically. For many of the people who did not survive, the **age** they had or the **deck** they were staying in, could not be established. The people who survived could be asked for that information.\n",
        "\n",
        "Can we infer this by looking at the data?\n",
        "\n",
        "In a situation like this, we could expect a greater number of missing values for people who did not survive."
      ]
    },
    {
      "cell_type": "code",
      "metadata": {
        "id": "5tzsJSIgwfVP",
        "colab_type": "code",
        "outputId": "58e8766b-b798-422e-d95a-2828ef248df8",
        "colab": {
          "base_uri": "https://localhost:8080/",
          "height": 34
        }
      },
      "source": [
        "# we create a dummy variable that indicates whether the value\n",
        "# of the variable deck is missing\n",
        "\n",
        "data['Cabin'] = np.where(data.Cabin.isnull(), 1, 0)\n",
        "\n",
        "# find percentage of null values\n",
        "data.Cabin.mean()"
      ],
      "execution_count": 44,
      "outputs": [
        {
          "output_type": "execute_result",
          "data": {
            "text/plain": [
              "0.7710437710437711"
            ]
          },
          "metadata": {
            "tags": []
          },
          "execution_count": 44
        }
      ]
    },
    {
      "cell_type": "markdown",
      "metadata": {
        "id": "xt7Q7MZSwfVT",
        "colab_type": "text"
      },
      "source": [
        "As expected, this value coincides with the one observed above when we called the .isnull().mean() method on the dataset."
      ]
    },
    {
      "cell_type": "code",
      "metadata": {
        "id": "1ZRLArCbwfVV",
        "colab_type": "code",
        "outputId": "76412f3c-2eeb-41ca-9cc9-28ffd79b0ab4",
        "colab": {
          "base_uri": "https://localhost:8080/",
          "height": 84
        }
      },
      "source": [
        "# and then we evaluate the mean of the missing values in\n",
        "# cabin for the people who survived vs the non-survivors.\n",
        "\n",
        "# group data by Survived vs Non-Survived\n",
        "# and find nulls for cabin\n",
        "data.groupby(['Survived'])['Cabin'].mean()"
      ],
      "execution_count": 45,
      "outputs": [
        {
          "output_type": "execute_result",
          "data": {
            "text/plain": [
              "Survived\n",
              "0    0.876138\n",
              "1    0.602339\n",
              "Name: Cabin, dtype: float64"
            ]
          },
          "metadata": {
            "tags": []
          },
          "execution_count": 45
        }
      ]
    },
    {
      "cell_type": "markdown",
      "metadata": {
        "id": "WoN48P6IwfVX",
        "colab_type": "text"
      },
      "source": [
        "We observe that the percentage of missing values is higher for people who did not survive (0.87), respect to people that survived (0.60).\n",
        "This finding is aligned with our hypothesis that the data is missing because after the people died, the information could not be retrieved.\n",
        "\n",
        "Having said this, to truly underpin whether the data is missing not at random, we would need to get extremely familiar with the way data was collected. Analysing datasets, can only point us in the right direction or help us build assumptions."
      ]
    },
    {
      "cell_type": "code",
      "metadata": {
        "id": "4ItyWd6YwfVY",
        "colab_type": "code",
        "outputId": "a763dd7d-2378-4dbb-f9da-01a3a5a411a5",
        "colab": {
          "base_uri": "https://localhost:8080/",
          "height": 84
        }
      },
      "source": [
        "# we repeat the exercise for the variable age:\n",
        "# First we create a dummy variable that indicates\n",
        "# whether the value of the variable Age is missing\n",
        "\n",
        "data['Age_null'] = np.where(data.Age.isnull(), 1, 0)\n",
        "\n",
        "# and then look at the mean in the different survival groups:\n",
        "# there are more NaN for the people who did not survive\n",
        "data.groupby(['Survived'])['Age_null'].mean()"
      ],
      "execution_count": 46,
      "outputs": [
        {
          "output_type": "execute_result",
          "data": {
            "text/plain": [
              "Survived\n",
              "0    0.227687\n",
              "1    0.152047\n",
              "Name: Age_null, dtype: float64"
            ]
          },
          "metadata": {
            "tags": []
          },
          "execution_count": 46
        }
      ]
    },
    {
      "cell_type": "markdown",
      "metadata": {
        "id": "88FHoqUqwfVb",
        "colab_type": "text"
      },
      "source": [
        "Again, we observe an increase in missing data for the people who did not survive the tragedy. The analysis therefore suggests: \n",
        "\n",
        "**There is a systematic loss of data: people who did not survive tend to have more information missing. Presumably, the method chosen to gather the information, contributes to the generation of these missing data.**"
      ]
    },
    {
      "cell_type": "markdown",
      "metadata": {
        "id": "S4u_gCQ9X3CR",
        "colab_type": "text"
      },
      "source": [
        "## ___Handling Missing Values___"
      ]
    },
    {
      "cell_type": "markdown",
      "metadata": {
        "id": "7o75aEQJY3z0",
        "colab_type": "text"
      },
      "source": [
        "It is very important to handle missing values in the dataset while developing a solution. There are various ways to do so:\n",
        "\n",
        "1. ___REMOVING VALUES___\n",
        "\n",
        "This method commonly used to handle the null values. Here, we either delete a particular row if it has a null value for a particular feature and a particular column if it has more than 70-75% of missing values. This method is advised only when there are enough samples in the data set. One has to make sure that after we have deleted the data, there is no addition of bias. Removing the data will lead to loss of information which will not give the expected results while predicting the output.\n",
        "\n",
        "2. ___IMPUTATION___\n",
        "\n",
        "Imputation is the act of replacing missing data with statistical estimates of the missing values. The goal of any imputation technique is to produce a complete dataset that can be used to train machine learning models.\n",
        "\n",
        "3. ___BUILDING A PREDICTION MODEL___\n",
        "\n",
        "Using the features which do not have missing values, we can predict the nulls with the help of a machine learning algorithm. This method may result in better accuracy, unless a missing value is expected to have a very high variance. "
      ]
    },
    {
      "cell_type": "markdown",
      "metadata": {
        "id": "Ilyo6zbHcorN",
        "colab_type": "text"
      },
      "source": [
        "There are multiple techniques for missing data:\n",
        "1. Complete Case Analysis\n",
        "2. Mean / Median / Mode Imputation\n",
        "3. Random Sample Imputation\n",
        "4. Replacement by Arbitrary Value\n",
        "5. End of Distribution Imputation\n",
        "6. Missing Value Indicator"
      ]
    },
    {
      "cell_type": "markdown",
      "metadata": {
        "id": "_-x2lbt0cgLc",
        "colab_type": "text"
      },
      "source": [
        "#### ___Complete Case Analysis___\n",
        "\n",
        "Complete case analysis implies analysing only those observations in the dataset that contain values in all the variables. In other words, in complete case analysis we remove all observations with missing values. This procedure is suitable when there are few observations with missing data in the dataset. But, if the dataset contains missing data across multiple variables, or some variables contain a high proportion of missing observations, we can easily remove a big chunk of the dataset, and this is undesired. "
      ]
    },
    {
      "cell_type": "code",
      "metadata": {
        "id": "bpyZ9gswlEQJ",
        "colab_type": "code",
        "colab": {}
      },
      "source": [
        "data = titanic.copy()"
      ],
      "execution_count": 0,
      "outputs": []
    },
    {
      "cell_type": "code",
      "metadata": {
        "id": "wpAlOf6Jknsn",
        "colab_type": "code",
        "colab": {
          "base_uri": "https://localhost:8080/",
          "height": 304
        },
        "outputId": "cf13c980-0651-4335-b80a-8cfd14bfe8cf"
      },
      "source": [
        "data.info()"
      ],
      "execution_count": 51,
      "outputs": [
        {
          "output_type": "stream",
          "text": [
            "<class 'pandas.core.frame.DataFrame'>\n",
            "RangeIndex: 891 entries, 0 to 890\n",
            "Data columns (total 12 columns):\n",
            "PassengerId    891 non-null int64\n",
            "Survived       891 non-null int64\n",
            "Pclass         891 non-null int64\n",
            "Name           891 non-null object\n",
            "Sex            891 non-null object\n",
            "Age            714 non-null float64\n",
            "SibSp          891 non-null int64\n",
            "Parch          891 non-null int64\n",
            "Ticket         891 non-null object\n",
            "Fare           891 non-null float64\n",
            "Cabin          204 non-null object\n",
            "Embarked       889 non-null object\n",
            "dtypes: float64(2), int64(5), object(5)\n",
            "memory usage: 83.7+ KB\n"
          ],
          "name": "stdout"
        }
      ]
    },
    {
      "cell_type": "code",
      "metadata": {
        "id": "hRay58kZj_MO",
        "colab_type": "code",
        "colab": {
          "base_uri": "https://localhost:8080/",
          "height": 67
        },
        "outputId": "084ad832-b5e7-4285-8958-6e3f23c78041"
      },
      "source": [
        "print('Total passengers with values in all variables: ', data.dropna().shape[0])\n",
        "print('Total passengers in the Titanic: ', data.shape[0])\n",
        "print('Percentage of data without missing values: ', data.dropna().shape[0]/ np.float(data.shape[0]))"
      ],
      "execution_count": 52,
      "outputs": [
        {
          "output_type": "stream",
          "text": [
            "Total passengers with values in all variables:  183\n",
            "Total passengers in the Titanic:  891\n",
            "Percentage of data without missing values:  0.2053872053872054\n"
          ],
          "name": "stdout"
        }
      ]
    },
    {
      "cell_type": "markdown",
      "metadata": {
        "id": "o_fpweYflNJw",
        "colab_type": "text"
      },
      "source": [
        "So, we have complete information for only 20% of our observations in the Titanic dataset. Thus, CCA would not be an option for this dataset."
      ]
    },
    {
      "cell_type": "markdown",
      "metadata": {
        "id": "tHsJOZ56dp49",
        "colab_type": "text"
      },
      "source": [
        "#### ___Mean / Median / Mode Imputation___\n",
        "\n",
        "We can replace missing values with the mean, the median or the mode of the variable. Mean (if the variable has a Gaussian distribution)/ median (if the variable has a Skewed distribution)/ mode imputation is widely adopted in organisations and data competitions. Although in practice this technique is used in almost every situation, the procedure is suitable if data is missing at random and in small proportions. If there are a lot of missing observations, however, we will distort the distribution of the variable, as well as its relationship with other variables in the dataset. Distortion in the variable distribution may affect the performance of linear models.\n",
        "\n",
        "For categorical variables, replacement by the mode, is also known as replacement by the most frequent category."
      ]
    },
    {
      "cell_type": "code",
      "metadata": {
        "id": "JeqMVzQolYRr",
        "colab_type": "code",
        "colab": {
          "base_uri": "https://localhost:8080/",
          "height": 236
        },
        "outputId": "07980671-1fef-4626-d956-3fe3836dd0b7"
      },
      "source": [
        "data.isnull().mean()"
      ],
      "execution_count": 53,
      "outputs": [
        {
          "output_type": "execute_result",
          "data": {
            "text/plain": [
              "PassengerId    0.000000\n",
              "Survived       0.000000\n",
              "Pclass         0.000000\n",
              "Name           0.000000\n",
              "Sex            0.000000\n",
              "Age            0.198653\n",
              "SibSp          0.000000\n",
              "Parch          0.000000\n",
              "Ticket         0.000000\n",
              "Fare           0.000000\n",
              "Cabin          0.771044\n",
              "Embarked       0.002245\n",
              "dtype: float64"
            ]
          },
          "metadata": {
            "tags": []
          },
          "execution_count": 53
        }
      ]
    },
    {
      "cell_type": "code",
      "metadata": {
        "id": "BMt_mDp5tiqo",
        "colab_type": "code",
        "colab": {
          "base_uri": "https://localhost:8080/",
          "height": 34
        },
        "outputId": "49ccd588-036d-42fb-ff95-f817f9f16838"
      },
      "source": [
        "data.Age.isnull().sum()"
      ],
      "execution_count": 123,
      "outputs": [
        {
          "output_type": "execute_result",
          "data": {
            "text/plain": [
              "177"
            ]
          },
          "metadata": {
            "tags": []
          },
          "execution_count": 123
        }
      ]
    },
    {
      "cell_type": "code",
      "metadata": {
        "id": "gSDnklK4tnCD",
        "colab_type": "code",
        "colab": {
          "base_uri": "https://localhost:8080/",
          "height": 34
        },
        "outputId": "3e1b4f2b-ff80-450b-e23f-5af7bc0baf28"
      },
      "source": [
        "data.Cabin.isnull().sum()"
      ],
      "execution_count": 124,
      "outputs": [
        {
          "output_type": "execute_result",
          "data": {
            "text/plain": [
              "687"
            ]
          },
          "metadata": {
            "tags": []
          },
          "execution_count": 124
        }
      ]
    },
    {
      "cell_type": "code",
      "metadata": {
        "id": "7gBP6jFjtsxm",
        "colab_type": "code",
        "colab": {
          "base_uri": "https://localhost:8080/",
          "height": 34
        },
        "outputId": "e025227d-6a71-4feb-96e7-2f46ab97426b"
      },
      "source": [
        "data.Embarked.isnull().sum()"
      ],
      "execution_count": 125,
      "outputs": [
        {
          "output_type": "execute_result",
          "data": {
            "text/plain": [
              "2"
            ]
          },
          "metadata": {
            "tags": []
          },
          "execution_count": 125
        }
      ]
    },
    {
      "cell_type": "markdown",
      "metadata": {
        "id": "orpLZB0UlWvc",
        "colab_type": "text"
      },
      "source": [
        "Imputation should be done over the training set, and then propagated to the test set. This means that the mean/median to be used to fill missing values both in train and test set, should be extracted from the train set only. And this is to avoid overfitting.\n",
        "\n",
        "In the titanic dataset, we can see that Age contains 19.8653%, Cabin contains 77.10% and Embarked contains 0.22% of missing values."
      ]
    },
    {
      "cell_type": "code",
      "metadata": {
        "id": "OJHRWSSslQG5",
        "colab_type": "code",
        "colab": {
          "base_uri": "https://localhost:8080/",
          "height": 295
        },
        "outputId": "2e02dba7-170b-439d-d41e-bcb7bc5ce2ce"
      },
      "source": [
        "# plot the distribution of age to find out if they are Gaussian or skewed.\n",
        "\n",
        "plt.figure(figsize=(6,4))\n",
        "fig = data.Age.hist(bins=10)\n",
        "fig.set_ylabel('Number of passengers')\n",
        "fig.set_xlabel('Age')"
      ],
      "execution_count": 56,
      "outputs": [
        {
          "output_type": "execute_result",
          "data": {
            "text/plain": [
              "Text(0.5, 0, 'Age')"
            ]
          },
          "metadata": {
            "tags": []
          },
          "execution_count": 56
        },
        {
          "output_type": "display_data",
          "data": {
            "image/png": "[encoded data removed]",
            "text/plain": [
              "<Figure size 432x288 with 1 Axes>"
            ]
          },
          "metadata": {
            "tags": []
          }
        }
      ]
    },
    {
      "cell_type": "markdown",
      "metadata": {
        "id": "msU5TK30lr8c",
        "colab_type": "text"
      },
      "source": [
        "We can see that the age distribution is skewed. So, we will use the median imputation."
      ]
    },
    {
      "cell_type": "code",
      "metadata": {
        "id": "hTSs32julqpf",
        "colab_type": "code",
        "colab": {
          "base_uri": "https://localhost:8080/",
          "height": 34
        },
        "outputId": "0902c991-2f59-48eb-ce07-b7dad78b558c"
      },
      "source": [
        "# separate dataset into training and testing set\n",
        "from sklearn.model_selection import train_test_split\n",
        "\n",
        "X_train, X_test, y_train, y_test = train_test_split(data, data.Survived, test_size=0.3, random_state=0)\n",
        "X_train.shape, X_test.shape"
      ],
      "execution_count": 91,
      "outputs": [
        {
          "output_type": "execute_result",
          "data": {
            "text/plain": [
              "((623, 12), (268, 12))"
            ]
          },
          "metadata": {
            "tags": []
          },
          "execution_count": 91
        }
      ]
    },
    {
      "cell_type": "code",
      "metadata": {
        "id": "gph20x1FmFGI",
        "colab_type": "code",
        "colab": {
          "base_uri": "https://localhost:8080/",
          "height": 34
        },
        "outputId": "6f498c73-f6dc-49ef-b9a2-0f3f2fd84a38"
      },
      "source": [
        "median = X_train.Age.median()\n",
        "median"
      ],
      "execution_count": 61,
      "outputs": [
        {
          "output_type": "execute_result",
          "data": {
            "text/plain": [
              "29.0"
            ]
          },
          "metadata": {
            "tags": []
          },
          "execution_count": 61
        }
      ]
    },
    {
      "cell_type": "code",
      "metadata": {
        "id": "MdU87kPJmNic",
        "colab_type": "code",
        "colab": {
          "base_uri": "https://localhost:8080/",
          "height": 101
        },
        "outputId": "87076b9f-7ec2-41c9-e98f-e10f43298792"
      },
      "source": [
        "# impute missing values in age in train and test set\n",
        "\n",
        "for df in [X_train, X_test]:\n",
        "    df['Age'].fillna(median, inplace=True)"
      ],
      "execution_count": 62,
      "outputs": [
        {
          "output_type": "stream",
          "text": [
            "/usr/local/lib/python3.6/dist-packages/pandas/core/generic.py:6287: SettingWithCopyWarning: \n",
            "A value is trying to be set on a copy of a slice from a DataFrame\n",
            "\n",
            "See the caveats in the documentation: http://pandas.pydata.org/pandas-docs/stable/user_guide/indexing.html#returning-a-view-versus-a-copy\n",
            "  self._update_inplace(new_data)\n"
          ],
          "name": "stderr"
        }
      ]
    },
    {
      "cell_type": "code",
      "metadata": {
        "colab_type": "code",
        "outputId": "7e5b5a32-9059-45db-a390-3869cc334f73",
        "id": "LwJKln3lrB7P",
        "colab": {
          "base_uri": "https://localhost:8080/",
          "height": 34
        }
      },
      "source": [
        "# Stats Mode Calculation \n",
        "\n",
        "from scipy import stats \n",
        "stats.mode(data['Cabin'])"
      ],
      "execution_count": 0,
      "outputs": [
        {
          "output_type": "execute_result",
          "data": {
            "text/plain": [
              "ModeResult(mode=array(['C23 C25 C27'], dtype=object), count=array([4]))"
            ]
          },
          "metadata": {
            "tags": []
          },
          "execution_count": 96
        }
      ]
    },
    {
      "cell_type": "code",
      "metadata": {
        "id": "1_fRqKanrHZh",
        "colab_type": "code",
        "colab": {
          "base_uri": "https://localhost:8080/",
          "height": 34
        },
        "outputId": "b5d4e30d-4bd4-40a8-a4d1-d6e330b73988"
      },
      "source": [
        "# imputer Method from SKLEARN\n",
        "\n",
        "from sklearn.impute import SimpleImputer\n",
        "imp = SimpleImputer(missing_values= np.nan, strategy='most_frequent') #mean/median\n",
        "X = pd.DataFrame(imp.fit_transform(data,'Embarked'),columns = data.columns)\n",
        "X.Embarked.isnull().sum()"
      ],
      "execution_count": 126,
      "outputs": [
        {
          "output_type": "execute_result",
          "data": {
            "text/plain": [
              "0"
            ]
          },
          "metadata": {
            "tags": []
          },
          "execution_count": 126
        }
      ]
    },
    {
      "cell_type": "markdown",
      "metadata": {
        "id": "7_rPrVSRd19r",
        "colab_type": "text"
      },
      "source": [
        "#### ___Random Sample Imputation___\n",
        "\n",
        "Random sample imputation refers to randomly selecting values from the variable to replace the missing data. This technique preserves the variable distribution, and is well suited for data missing at random. But, we need to account for randomness by adequately setting a seed. Otherwise, the same missing observation could be replaced by different values in different code runs, and therefore lead to a different model predictions. This is not desired when using our models within an organisation."
      ]
    },
    {
      "cell_type": "markdown",
      "metadata": {
        "id": "gcu7vtNPw-Zq",
        "colab_type": "text"
      },
      "source": [
        "Random sample imputation has the assumption that the data are missing completely at random (MCAR). If this is the case, it makes sense to substitute the missing values, by values extracted from the original variable distribution/ category frequency."
      ]
    },
    {
      "cell_type": "code",
      "metadata": {
        "id": "sfjpX-uxwyrT",
        "colab_type": "code",
        "colab": {}
      },
      "source": [
        "data3 = titanic.copy()"
      ],
      "execution_count": 0,
      "outputs": []
    },
    {
      "cell_type": "code",
      "metadata": {
        "id": "S-GujkkHxGqx",
        "colab_type": "code",
        "colab": {
          "base_uri": "https://localhost:8080/",
          "height": 34
        },
        "outputId": "af024667-5474-428d-caa1-cf5e849b6167"
      },
      "source": [
        "from sklearn.model_selection import train_test_split\n",
        "\n",
        "# separate dataset into training and testing set\n",
        "\n",
        "X_train, X_test, y_train, y_test = train_test_split(data3, data3.Survived, test_size=0.3,random_state=0)\n",
        "X_train.shape, X_test.shape"
      ],
      "execution_count": 130,
      "outputs": [
        {
          "output_type": "execute_result",
          "data": {
            "text/plain": [
              "((623, 12), (268, 12))"
            ]
          },
          "metadata": {
            "tags": []
          },
          "execution_count": 130
        }
      ]
    },
    {
      "cell_type": "markdown",
      "metadata": {
        "id": "fn1BR0D8eEhu",
        "colab_type": "text"
      },
      "source": [
        "#### ___Replacement by Arbitrary Value___\n",
        "\n",
        "Replacement by an arbitrary value, as its names indicates, refers to replacing missing data by any, arbitrarily determined value, but the same value for all missing data. Replacement by an arbitrary value is suitable if data is not missing at random, or if there is a huge proportion of missing values. If all values are positive, a typical replacement is -1. Alternatively, replacing by 999 or -999 are common practice. We need to anticipate that these arbitrary values are not a common occurrence in the variable. Replacement by arbitrary values however may not be suited for linear models, as it most likely will distort the distribution of the variables, and therefore model assumptions may not be met.\n",
        "\n",
        "\n",
        "For categorical variables, this is the equivalent of replacing missing observations with the label “Missing” which is a widely adopted procedure."
      ]
    },
    {
      "cell_type": "code",
      "metadata": {
        "id": "BzKsKgw9x0aX",
        "colab_type": "code",
        "colab": {}
      },
      "source": [
        "# write a function to create 3 variables from Age:\n",
        "\n",
        "def impute_na(df, variable, median):\n",
        "    \n",
        "    # Median Value\n",
        "    df[variable+'_median'] = df[variable].fillna(median)\n",
        "    \n",
        "    # Arbitrary Value\n",
        "    df[variable+'_zero'] = df[variable].fillna(0)\n",
        "    df[variable+'_hundred']= df[variable].fillna(100)\n",
        "\n",
        "    # End Tail Replacement\n",
        "    df[variable+'_endtail']= df[variable].fillna(df.Age.mean()+3*df.Age.std())\n",
        "\n",
        "    # random sampling\n",
        "    df[variable+'_random'] = df[variable]\n",
        "    \n",
        "    # extract the random sample to fill the na - no.of samples same as Count of Nulls\n",
        "    random_sample = X_train[variable].dropna().sample(df[variable].isnull().sum(), random_state=0)\n",
        "    \n",
        "    # pandas needs to have the same index in order to merge datasets\n",
        "    random_sample.index = df[df[variable].isnull()].index\n",
        "    df.loc[df[variable].isnull(), variable+'_random'] = random_sample\n",
        "    \n",
        "    # fill with random-sample\n",
        "    df[variable+'_random_sample'] = df[variable].fillna(random_sample)\n",
        "\n",
        "    return df"
      ],
      "execution_count": 0,
      "outputs": []
    },
    {
      "cell_type": "code",
      "metadata": {
        "id": "8PZbzlEaDc3X",
        "colab_type": "code",
        "colab": {
          "base_uri": "https://localhost:8080/",
          "height": 201
        },
        "outputId": "c1c7c712-b9da-40c9-b44b-bc83e677a583"
      },
      "source": [
        "# importing pandas as pd \n",
        "import pandas as pd \n",
        "  \n",
        "# Creating the dataframe  \n",
        "df = pd.DataFrame({\"A\":[12, 4, 5, None, 1], \n",
        "                   \"B\":[None, 2, 54, 3, None], \n",
        "                   \"C\":[20, 16, None, 3, 8], \n",
        "                   \"D\":[14, 3, None, None, 6]}) \n",
        "  \n",
        "# to interpolate the missing values \n",
        "df.interpolate(method ='linear', limit_direction ='backward', limit = 1) # limit allows only 1 NA to be filled"
      ],
      "execution_count": 175,
      "outputs": [
        {
          "output_type": "execute_result",
          "data": {
            "text/html": [
              "<div>\n",
              "<style scoped>\n",
              "    .dataframe tbody tr th:only-of-type {\n",
              "        vertical-align: middle;\n",
              "    }\n",
              "\n",
              "    .dataframe tbody tr th {\n",
              "        vertical-align: top;\n",
              "    }\n",
              "\n",
              "    .dataframe thead th {\n",
              "        text-align: right;\n",
              "    }\n",
              "</style>\n",
              "<table border=\"1\" class=\"dataframe\">\n",
              "  <thead>\n",
              "    <tr style=\"text-align: right;\">\n",
              "      <th></th>\n",
              "      <th>A</th>\n",
              "      <th>B</th>\n",
              "      <th>C</th>\n",
              "      <th>D</th>\n",
              "    </tr>\n",
              "  </thead>\n",
              "  <tbody>\n",
              "    <tr>\n",
              "      <th>0</th>\n",
              "      <td>12.0</td>\n",
              "      <td>2.0</td>\n",
              "      <td>20.0</td>\n",
              "      <td>14.0</td>\n",
              "    </tr>\n",
              "    <tr>\n",
              "      <th>1</th>\n",
              "      <td>4.0</td>\n",
              "      <td>2.0</td>\n",
              "      <td>16.0</td>\n",
              "      <td>3.0</td>\n",
              "    </tr>\n",
              "    <tr>\n",
              "      <th>2</th>\n",
              "      <td>5.0</td>\n",
              "      <td>54.0</td>\n",
              "      <td>9.5</td>\n",
              "      <td>NaN</td>\n",
              "    </tr>\n",
              "    <tr>\n",
              "      <th>3</th>\n",
              "      <td>3.0</td>\n",
              "      <td>3.0</td>\n",
              "      <td>3.0</td>\n",
              "      <td>5.0</td>\n",
              "    </tr>\n",
              "    <tr>\n",
              "      <th>4</th>\n",
              "      <td>1.0</td>\n",
              "      <td>NaN</td>\n",
              "      <td>8.0</td>\n",
              "      <td>6.0</td>\n",
              "    </tr>\n",
              "  </tbody>\n",
              "</table>\n",
              "</div>"
            ],
            "text/plain": [
              "      A     B     C     D\n",
              "0  12.0   2.0  20.0  14.0\n",
              "1   4.0   2.0  16.0   3.0\n",
              "2   5.0  54.0   9.5   NaN\n",
              "3   3.0   3.0   3.0   5.0\n",
              "4   1.0   NaN   8.0   6.0"
            ]
          },
          "metadata": {
            "tags": []
          },
          "execution_count": 175
        }
      ]
    },
    {
      "cell_type": "markdown",
      "metadata": {
        "id": "x8UmfNU6eO3Q",
        "colab_type": "text"
      },
      "source": [
        "#### ___End of Distribution Imputation___\n",
        "\n",
        "End of tail imputation involves replacing missing values by a value at the far end of the tail of the variable distribution. This technique is similar in essence to imputing by an arbitrary value. However, by placing the value at the end of the distribution, we need not look at each variable distribution individually, as the algorithm does it automatically for us. This imputation technique tends to work well with tree-based algorithms, but it may affect the performance of linear models, as it distorts the variable distribution."
      ]
    },
    {
      "cell_type": "code",
      "metadata": {
        "id": "nKOr8xNRzWVL",
        "colab_type": "code",
        "colab": {
          "base_uri": "https://localhost:8080/",
          "height": 872
        },
        "outputId": "2a0016d4-0444-427e-9e3a-aa50c80e5406"
      },
      "source": [
        "import warnings\n",
        "warnings.filterwarnings('ignore')\n",
        "\n",
        "impute_na(X_train, 'Age', median)"
      ],
      "execution_count": 139,
      "outputs": [
        {
          "output_type": "execute_result",
          "data": {
            "text/html": [
              "<div>\n",
              "<style scoped>\n",
              "    .dataframe tbody tr th:only-of-type {\n",
              "        vertical-align: middle;\n",
              "    }\n",
              "\n",
              "    .dataframe tbody tr th {\n",
              "        vertical-align: top;\n",
              "    }\n",
              "\n",
              "    .dataframe thead th {\n",
              "        text-align: right;\n",
              "    }\n",
              "</style>\n",
              "<table border=\"1\" class=\"dataframe\">\n",
              "  <thead>\n",
              "    <tr style=\"text-align: right;\">\n",
              "      <th></th>\n",
              "      <th>PassengerId</th>\n",
              "      <th>Survived</th>\n",
              "      <th>Pclass</th>\n",
              "      <th>Name</th>\n",
              "      <th>Sex</th>\n",
              "      <th>Age</th>\n",
              "      <th>SibSp</th>\n",
              "      <th>Parch</th>\n",
              "      <th>Ticket</th>\n",
              "      <th>Fare</th>\n",
              "      <th>Cabin</th>\n",
              "      <th>Embarked</th>\n",
              "      <th>Age_median</th>\n",
              "      <th>Age_zero</th>\n",
              "      <th>Age_hundred</th>\n",
              "      <th>Age_endtail</th>\n",
              "      <th>Age_random</th>\n",
              "      <th>Age_random_sample</th>\n",
              "    </tr>\n",
              "  </thead>\n",
              "  <tbody>\n",
              "    <tr>\n",
              "      <th>857</th>\n",
              "      <td>858</td>\n",
              "      <td>1</td>\n",
              "      <td>1</td>\n",
              "      <td>Daly, Mr. Peter Denis</td>\n",
              "      <td>male</td>\n",
              "      <td>51.0</td>\n",
              "      <td>0</td>\n",
              "      <td>0</td>\n",
              "      <td>113055</td>\n",
              "      <td>26.5500</td>\n",
              "      <td>E17</td>\n",
              "      <td>S</td>\n",
              "      <td>51.0</td>\n",
              "      <td>51.0</td>\n",
              "      <td>51.0</td>\n",
              "      <td>51.00000</td>\n",
              "      <td>51.0</td>\n",
              "      <td>51.0</td>\n",
              "    </tr>\n",
              "    <tr>\n",
              "      <th>52</th>\n",
              "      <td>53</td>\n",
              "      <td>1</td>\n",
              "      <td>1</td>\n",
              "      <td>Harper, Mrs. Henry Sleeper (Myna Haxtun)</td>\n",
              "      <td>female</td>\n",
              "      <td>49.0</td>\n",
              "      <td>1</td>\n",
              "      <td>0</td>\n",
              "      <td>PC 17572</td>\n",
              "      <td>76.7292</td>\n",
              "      <td>D33</td>\n",
              "      <td>C</td>\n",
              "      <td>49.0</td>\n",
              "      <td>49.0</td>\n",
              "      <td>49.0</td>\n",
              "      <td>49.00000</td>\n",
              "      <td>49.0</td>\n",
              "      <td>49.0</td>\n",
              "    </tr>\n",
              "    <tr>\n",
              "      <th>386</th>\n",
              "      <td>387</td>\n",
              "      <td>0</td>\n",
              "      <td>3</td>\n",
              "      <td>Goodwin, Master. Sidney Leonard</td>\n",
              "      <td>male</td>\n",
              "      <td>1.0</td>\n",
              "      <td>5</td>\n",
              "      <td>2</td>\n",
              "      <td>CA 2144</td>\n",
              "      <td>46.9000</td>\n",
              "      <td>NaN</td>\n",
              "      <td>S</td>\n",
              "      <td>1.0</td>\n",
              "      <td>1.0</td>\n",
              "      <td>1.0</td>\n",
              "      <td>1.00000</td>\n",
              "      <td>1.0</td>\n",
              "      <td>1.0</td>\n",
              "    </tr>\n",
              "    <tr>\n",
              "      <th>124</th>\n",
              "      <td>125</td>\n",
              "      <td>0</td>\n",
              "      <td>1</td>\n",
              "      <td>White, Mr. Percival Wayland</td>\n",
              "      <td>male</td>\n",
              "      <td>54.0</td>\n",
              "      <td>0</td>\n",
              "      <td>1</td>\n",
              "      <td>35281</td>\n",
              "      <td>77.2875</td>\n",
              "      <td>D26</td>\n",
              "      <td>S</td>\n",
              "      <td>54.0</td>\n",
              "      <td>54.0</td>\n",
              "      <td>54.0</td>\n",
              "      <td>54.00000</td>\n",
              "      <td>54.0</td>\n",
              "      <td>54.0</td>\n",
              "    </tr>\n",
              "    <tr>\n",
              "      <th>578</th>\n",
              "      <td>579</td>\n",
              "      <td>0</td>\n",
              "      <td>3</td>\n",
              "      <td>Caram, Mrs. Joseph (Maria Elias)</td>\n",
              "      <td>female</td>\n",
              "      <td>NaN</td>\n",
              "      <td>1</td>\n",
              "      <td>0</td>\n",
              "      <td>2689</td>\n",
              "      <td>14.4583</td>\n",
              "      <td>NaN</td>\n",
              "      <td>C</td>\n",
              "      <td>29.0</td>\n",
              "      <td>0.0</td>\n",
              "      <td>100.0</td>\n",
              "      <td>73.43632</td>\n",
              "      <td>16.0</td>\n",
              "      <td>16.0</td>\n",
              "    </tr>\n",
              "    <tr>\n",
              "      <th>...</th>\n",
              "      <td>...</td>\n",
              "      <td>...</td>\n",
              "      <td>...</td>\n",
              "      <td>...</td>\n",
              "      <td>...</td>\n",
              "      <td>...</td>\n",
              "      <td>...</td>\n",
              "      <td>...</td>\n",
              "      <td>...</td>\n",
              "      <td>...</td>\n",
              "      <td>...</td>\n",
              "      <td>...</td>\n",
              "      <td>...</td>\n",
              "      <td>...</td>\n",
              "      <td>...</td>\n",
              "      <td>...</td>\n",
              "      <td>...</td>\n",
              "      <td>...</td>\n",
              "    </tr>\n",
              "    <tr>\n",
              "      <th>835</th>\n",
              "      <td>836</td>\n",
              "      <td>1</td>\n",
              "      <td>1</td>\n",
              "      <td>Compton, Miss. Sara Rebecca</td>\n",
              "      <td>female</td>\n",
              "      <td>39.0</td>\n",
              "      <td>1</td>\n",
              "      <td>1</td>\n",
              "      <td>PC 17756</td>\n",
              "      <td>83.1583</td>\n",
              "      <td>E49</td>\n",
              "      <td>C</td>\n",
              "      <td>39.0</td>\n",
              "      <td>39.0</td>\n",
              "      <td>39.0</td>\n",
              "      <td>39.00000</td>\n",
              "      <td>39.0</td>\n",
              "      <td>39.0</td>\n",
              "    </tr>\n",
              "    <tr>\n",
              "      <th>192</th>\n",
              "      <td>193</td>\n",
              "      <td>1</td>\n",
              "      <td>3</td>\n",
              "      <td>Andersen-Jensen, Miss. Carla Christine Nielsine</td>\n",
              "      <td>female</td>\n",
              "      <td>19.0</td>\n",
              "      <td>1</td>\n",
              "      <td>0</td>\n",
              "      <td>350046</td>\n",
              "      <td>7.8542</td>\n",
              "      <td>NaN</td>\n",
              "      <td>S</td>\n",
              "      <td>19.0</td>\n",
              "      <td>19.0</td>\n",
              "      <td>19.0</td>\n",
              "      <td>19.00000</td>\n",
              "      <td>19.0</td>\n",
              "      <td>19.0</td>\n",
              "    </tr>\n",
              "    <tr>\n",
              "      <th>629</th>\n",
              "      <td>630</td>\n",
              "      <td>0</td>\n",
              "      <td>3</td>\n",
              "      <td>O'Connell, Mr. Patrick D</td>\n",
              "      <td>male</td>\n",
              "      <td>NaN</td>\n",
              "      <td>0</td>\n",
              "      <td>0</td>\n",
              "      <td>334912</td>\n",
              "      <td>7.7333</td>\n",
              "      <td>NaN</td>\n",
              "      <td>Q</td>\n",
              "      <td>29.0</td>\n",
              "      <td>0.0</td>\n",
              "      <td>100.0</td>\n",
              "      <td>73.43632</td>\n",
              "      <td>14.5</td>\n",
              "      <td>14.5</td>\n",
              "    </tr>\n",
              "    <tr>\n",
              "      <th>559</th>\n",
              "      <td>560</td>\n",
              "      <td>1</td>\n",
              "      <td>3</td>\n",
              "      <td>de Messemaeker, Mrs. Guillaume Joseph (Emma)</td>\n",
              "      <td>female</td>\n",
              "      <td>36.0</td>\n",
              "      <td>1</td>\n",
              "      <td>0</td>\n",
              "      <td>345572</td>\n",
              "      <td>17.4000</td>\n",
              "      <td>NaN</td>\n",
              "      <td>S</td>\n",
              "      <td>36.0</td>\n",
              "      <td>36.0</td>\n",
              "      <td>36.0</td>\n",
              "      <td>36.00000</td>\n",
              "      <td>36.0</td>\n",
              "      <td>36.0</td>\n",
              "    </tr>\n",
              "    <tr>\n",
              "      <th>684</th>\n",
              "      <td>685</td>\n",
              "      <td>0</td>\n",
              "      <td>2</td>\n",
              "      <td>Brown, Mr. Thomas William Solomon</td>\n",
              "      <td>male</td>\n",
              "      <td>60.0</td>\n",
              "      <td>1</td>\n",
              "      <td>1</td>\n",
              "      <td>29750</td>\n",
              "      <td>39.0000</td>\n",
              "      <td>NaN</td>\n",
              "      <td>S</td>\n",
              "      <td>60.0</td>\n",
              "      <td>60.0</td>\n",
              "      <td>60.0</td>\n",
              "      <td>60.00000</td>\n",
              "      <td>60.0</td>\n",
              "      <td>60.0</td>\n",
              "    </tr>\n",
              "  </tbody>\n",
              "</table>\n",
              "<p>623 rows × 18 columns</p>\n",
              "</div>"
            ],
            "text/plain": [
              "     PassengerId  Survived  Pclass  \\\n",
              "857          858         1       1   \n",
              "52            53         1       1   \n",
              "386          387         0       3   \n",
              "124          125         0       1   \n",
              "578          579         0       3   \n",
              "..           ...       ...     ...   \n",
              "835          836         1       1   \n",
              "192          193         1       3   \n",
              "629          630         0       3   \n",
              "559          560         1       3   \n",
              "684          685         0       2   \n",
              "\n",
              "                                                Name     Sex   Age  SibSp  \\\n",
              "857                           Daly, Mr. Peter Denis     male  51.0      0   \n",
              "52          Harper, Mrs. Henry Sleeper (Myna Haxtun)  female  49.0      1   \n",
              "386                  Goodwin, Master. Sidney Leonard    male   1.0      5   \n",
              "124                      White, Mr. Percival Wayland    male  54.0      0   \n",
              "578                 Caram, Mrs. Joseph (Maria Elias)  female   NaN      1   \n",
              "..                                               ...     ...   ...    ...   \n",
              "835                      Compton, Miss. Sara Rebecca  female  39.0      1   \n",
              "192  Andersen-Jensen, Miss. Carla Christine Nielsine  female  19.0      1   \n",
              "629                         O'Connell, Mr. Patrick D    male   NaN      0   \n",
              "559     de Messemaeker, Mrs. Guillaume Joseph (Emma)  female  36.0      1   \n",
              "684                Brown, Mr. Thomas William Solomon    male  60.0      1   \n",
              "\n",
              "     Parch    Ticket     Fare Cabin Embarked  Age_median  Age_zero  \\\n",
              "857      0    113055  26.5500   E17        S        51.0      51.0   \n",
              "52       0  PC 17572  76.7292   D33        C        49.0      49.0   \n",
              "386      2   CA 2144  46.9000   NaN        S         1.0       1.0   \n",
              "124      1     35281  77.2875   D26        S        54.0      54.0   \n",
              "578      0      2689  14.4583   NaN        C        29.0       0.0   \n",
              "..     ...       ...      ...   ...      ...         ...       ...   \n",
              "835      1  PC 17756  83.1583   E49        C        39.0      39.0   \n",
              "192      0    350046   7.8542   NaN        S        19.0      19.0   \n",
              "629      0    334912   7.7333   NaN        Q        29.0       0.0   \n",
              "559      0    345572  17.4000   NaN        S        36.0      36.0   \n",
              "684      1     29750  39.0000   NaN        S        60.0      60.0   \n",
              "\n",
              "     Age_hundred  Age_endtail  Age_random  Age_random_sample  \n",
              "857         51.0     51.00000        51.0               51.0  \n",
              "52          49.0     49.00000        49.0               49.0  \n",
              "386          1.0      1.00000         1.0                1.0  \n",
              "124         54.0     54.00000        54.0               54.0  \n",
              "578        100.0     73.43632        16.0               16.0  \n",
              "..           ...          ...         ...                ...  \n",
              "835         39.0     39.00000        39.0               39.0  \n",
              "192         19.0     19.00000        19.0               19.0  \n",
              "629        100.0     73.43632        14.5               14.5  \n",
              "559         36.0     36.00000        36.0               36.0  \n",
              "684         60.0     60.00000        60.0               60.0  \n",
              "\n",
              "[623 rows x 18 columns]"
            ]
          },
          "metadata": {
            "tags": []
          },
          "execution_count": 139
        }
      ]
    },
    {
      "cell_type": "markdown",
      "metadata": {
        "id": "dLBWjbkmeiHT",
        "colab_type": "text"
      },
      "source": [
        "#### ___Missing Indicator___\n",
        "\n",
        "The missing indicator technique involves adding a binary variable to indicate whether the value is missing for a certain observation. This variable takes the value 1 if the observation is missing, or 0 otherwise. One thing to notice is that we still need to replace the missing values in the original variable, which we tend to do with mean or median imputation. By using these 2 techniques together, if the missing value has predictive power, it will be captured by the missing indicator, and if it doesn’t it will be masked by the mean / median imputation. These 2 techniques in combination tend to work well with linear models. But, adding a missing indicator expands the feature space and, as multiple variables tend to have missing values for the same observations, many of these newly created binary variables could be identical or highly correlated."
      ]
    },
    {
      "cell_type": "code",
      "metadata": {
        "id": "HThUWVegX5is",
        "colab_type": "code",
        "colab": {
          "base_uri": "https://localhost:8080/",
          "height": 34
        },
        "outputId": "d67235a3-0ea5-44de-9078-cf5b1dc17467"
      },
      "source": [
        "data6 = titanic.copy()\n",
        "\n",
        "X_train, X_test, y_train, y_test = train_test_split(data6, data6.Survived, test_size=0.3, random_state=0)\n",
        "X_train.shape, X_test.shape"
      ],
      "execution_count": 140,
      "outputs": [
        {
          "output_type": "execute_result",
          "data": {
            "text/plain": [
              "((623, 12), (268, 12))"
            ]
          },
          "metadata": {
            "tags": []
          },
          "execution_count": 140
        }
      ]
    },
    {
      "cell_type": "code",
      "metadata": {
        "id": "6fFDUXTI0fO0",
        "colab_type": "code",
        "colab": {
          "base_uri": "https://localhost:8080/",
          "height": 201
        },
        "outputId": "29afbef8-02b6-4b40-afd6-90eb09dc68fb"
      },
      "source": [
        "# create variable indicating missingness\n",
        "\n",
        "X_train['Age_NA'] = np.where(X_train['Age'].isnull(), 1, 0)\n",
        "X_test['Age_NA'] = np.where(X_test['Age'].isnull(), 1, 0)\n",
        "\n",
        "X_train.head()"
      ],
      "execution_count": 141,
      "outputs": [
        {
          "output_type": "execute_result",
          "data": {
            "text/html": [
              "<div>\n",
              "<style scoped>\n",
              "    .dataframe tbody tr th:only-of-type {\n",
              "        vertical-align: middle;\n",
              "    }\n",
              "\n",
              "    .dataframe tbody tr th {\n",
              "        vertical-align: top;\n",
              "    }\n",
              "\n",
              "    .dataframe thead th {\n",
              "        text-align: right;\n",
              "    }\n",
              "</style>\n",
              "<table border=\"1\" class=\"dataframe\">\n",
              "  <thead>\n",
              "    <tr style=\"text-align: right;\">\n",
              "      <th></th>\n",
              "      <th>PassengerId</th>\n",
              "      <th>Survived</th>\n",
              "      <th>Pclass</th>\n",
              "      <th>Name</th>\n",
              "      <th>Sex</th>\n",
              "      <th>Age</th>\n",
              "      <th>SibSp</th>\n",
              "      <th>Parch</th>\n",
              "      <th>Ticket</th>\n",
              "      <th>Fare</th>\n",
              "      <th>Cabin</th>\n",
              "      <th>Embarked</th>\n",
              "      <th>Age_NA</th>\n",
              "    </tr>\n",
              "  </thead>\n",
              "  <tbody>\n",
              "    <tr>\n",
              "      <th>857</th>\n",
              "      <td>858</td>\n",
              "      <td>1</td>\n",
              "      <td>1</td>\n",
              "      <td>Daly, Mr. Peter Denis</td>\n",
              "      <td>male</td>\n",
              "      <td>51.0</td>\n",
              "      <td>0</td>\n",
              "      <td>0</td>\n",
              "      <td>113055</td>\n",
              "      <td>26.5500</td>\n",
              "      <td>E17</td>\n",
              "      <td>S</td>\n",
              "      <td>0</td>\n",
              "    </tr>\n",
              "    <tr>\n",
              "      <th>52</th>\n",
              "      <td>53</td>\n",
              "      <td>1</td>\n",
              "      <td>1</td>\n",
              "      <td>Harper, Mrs. Henry Sleeper (Myna Haxtun)</td>\n",
              "      <td>female</td>\n",
              "      <td>49.0</td>\n",
              "      <td>1</td>\n",
              "      <td>0</td>\n",
              "      <td>PC 17572</td>\n",
              "      <td>76.7292</td>\n",
              "      <td>D33</td>\n",
              "      <td>C</td>\n",
              "      <td>0</td>\n",
              "    </tr>\n",
              "    <tr>\n",
              "      <th>386</th>\n",
              "      <td>387</td>\n",
              "      <td>0</td>\n",
              "      <td>3</td>\n",
              "      <td>Goodwin, Master. Sidney Leonard</td>\n",
              "      <td>male</td>\n",
              "      <td>1.0</td>\n",
              "      <td>5</td>\n",
              "      <td>2</td>\n",
              "      <td>CA 2144</td>\n",
              "      <td>46.9000</td>\n",
              "      <td>NaN</td>\n",
              "      <td>S</td>\n",
              "      <td>0</td>\n",
              "    </tr>\n",
              "    <tr>\n",
              "      <th>124</th>\n",
              "      <td>125</td>\n",
              "      <td>0</td>\n",
              "      <td>1</td>\n",
              "      <td>White, Mr. Percival Wayland</td>\n",
              "      <td>male</td>\n",
              "      <td>54.0</td>\n",
              "      <td>0</td>\n",
              "      <td>1</td>\n",
              "      <td>35281</td>\n",
              "      <td>77.2875</td>\n",
              "      <td>D26</td>\n",
              "      <td>S</td>\n",
              "      <td>0</td>\n",
              "    </tr>\n",
              "    <tr>\n",
              "      <th>578</th>\n",
              "      <td>579</td>\n",
              "      <td>0</td>\n",
              "      <td>3</td>\n",
              "      <td>Caram, Mrs. Joseph (Maria Elias)</td>\n",
              "      <td>female</td>\n",
              "      <td>NaN</td>\n",
              "      <td>1</td>\n",
              "      <td>0</td>\n",
              "      <td>2689</td>\n",
              "      <td>14.4583</td>\n",
              "      <td>NaN</td>\n",
              "      <td>C</td>\n",
              "      <td>1</td>\n",
              "    </tr>\n",
              "  </tbody>\n",
              "</table>\n",
              "</div>"
            ],
            "text/plain": [
              "     PassengerId  Survived  Pclass                                      Name  \\\n",
              "857          858         1       1                    Daly, Mr. Peter Denis    \n",
              "52            53         1       1  Harper, Mrs. Henry Sleeper (Myna Haxtun)   \n",
              "386          387         0       3           Goodwin, Master. Sidney Leonard   \n",
              "124          125         0       1               White, Mr. Percival Wayland   \n",
              "578          579         0       3          Caram, Mrs. Joseph (Maria Elias)   \n",
              "\n",
              "        Sex   Age  SibSp  Parch    Ticket     Fare Cabin Embarked  Age_NA  \n",
              "857    male  51.0      0      0    113055  26.5500   E17        S       0  \n",
              "52   female  49.0      1      0  PC 17572  76.7292   D33        C       0  \n",
              "386    male   1.0      5      2   CA 2144  46.9000   NaN        S       0  \n",
              "124    male  54.0      0      1     35281  77.2875   D26        S       0  \n",
              "578  female   NaN      1      0      2689  14.4583   NaN        C       1  "
            ]
          },
          "metadata": {
            "tags": []
          },
          "execution_count": 141
        }
      ]
    },
    {
      "cell_type": "code",
      "metadata": {
        "id": "xVlMuEO70iQe",
        "colab_type": "code",
        "colab": {
          "base_uri": "https://localhost:8080/",
          "height": 34
        },
        "outputId": "31f60b10-b313-47b8-b719-5b7e1ebe6052"
      },
      "source": [
        "# we can see that mean and median are similar. So I will replace with the median\n",
        "\n",
        "X_train.Age.mean(), X_train.Age.median()"
      ],
      "execution_count": 142,
      "outputs": [
        {
          "output_type": "execute_result",
          "data": {
            "text/plain": [
              "(29.915338645418327, 29.0)"
            ]
          },
          "metadata": {
            "tags": []
          },
          "execution_count": 142
        }
      ]
    },
    {
      "cell_type": "code",
      "metadata": {
        "id": "_zjSiK6f0kwT",
        "colab_type": "code",
        "colab": {
          "base_uri": "https://localhost:8080/",
          "height": 354
        },
        "outputId": "d024f8b8-6e5b-4ddc-f431-b1eb68237a73"
      },
      "source": [
        "# let's replace the NA with the median value in the training set\n",
        "X_train['Age'].fillna(X_train.Age.median(), inplace=True)\n",
        "X_test['Age'].fillna(X_train.Age.median(), inplace=True)\n",
        "\n",
        "X_train.head(10)"
      ],
      "execution_count": 143,
      "outputs": [
        {
          "output_type": "execute_result",
          "data": {
            "text/html": [
              "<div>\n",
              "<style scoped>\n",
              "    .dataframe tbody tr th:only-of-type {\n",
              "        vertical-align: middle;\n",
              "    }\n",
              "\n",
              "    .dataframe tbody tr th {\n",
              "        vertical-align: top;\n",
              "    }\n",
              "\n",
              "    .dataframe thead th {\n",
              "        text-align: right;\n",
              "    }\n",
              "</style>\n",
              "<table border=\"1\" class=\"dataframe\">\n",
              "  <thead>\n",
              "    <tr style=\"text-align: right;\">\n",
              "      <th></th>\n",
              "      <th>PassengerId</th>\n",
              "      <th>Survived</th>\n",
              "      <th>Pclass</th>\n",
              "      <th>Name</th>\n",
              "      <th>Sex</th>\n",
              "      <th>Age</th>\n",
              "      <th>SibSp</th>\n",
              "      <th>Parch</th>\n",
              "      <th>Ticket</th>\n",
              "      <th>Fare</th>\n",
              "      <th>Cabin</th>\n",
              "      <th>Embarked</th>\n",
              "      <th>Age_NA</th>\n",
              "    </tr>\n",
              "  </thead>\n",
              "  <tbody>\n",
              "    <tr>\n",
              "      <th>857</th>\n",
              "      <td>858</td>\n",
              "      <td>1</td>\n",
              "      <td>1</td>\n",
              "      <td>Daly, Mr. Peter Denis</td>\n",
              "      <td>male</td>\n",
              "      <td>51.0</td>\n",
              "      <td>0</td>\n",
              "      <td>0</td>\n",
              "      <td>113055</td>\n",
              "      <td>26.5500</td>\n",
              "      <td>E17</td>\n",
              "      <td>S</td>\n",
              "      <td>0</td>\n",
              "    </tr>\n",
              "    <tr>\n",
              "      <th>52</th>\n",
              "      <td>53</td>\n",
              "      <td>1</td>\n",
              "      <td>1</td>\n",
              "      <td>Harper, Mrs. Henry Sleeper (Myna Haxtun)</td>\n",
              "      <td>female</td>\n",
              "      <td>49.0</td>\n",
              "      <td>1</td>\n",
              "      <td>0</td>\n",
              "      <td>PC 17572</td>\n",
              "      <td>76.7292</td>\n",
              "      <td>D33</td>\n",
              "      <td>C</td>\n",
              "      <td>0</td>\n",
              "    </tr>\n",
              "    <tr>\n",
              "      <th>386</th>\n",
              "      <td>387</td>\n",
              "      <td>0</td>\n",
              "      <td>3</td>\n",
              "      <td>Goodwin, Master. Sidney Leonard</td>\n",
              "      <td>male</td>\n",
              "      <td>1.0</td>\n",
              "      <td>5</td>\n",
              "      <td>2</td>\n",
              "      <td>CA 2144</td>\n",
              "      <td>46.9000</td>\n",
              "      <td>NaN</td>\n",
              "      <td>S</td>\n",
              "      <td>0</td>\n",
              "    </tr>\n",
              "    <tr>\n",
              "      <th>124</th>\n",
              "      <td>125</td>\n",
              "      <td>0</td>\n",
              "      <td>1</td>\n",
              "      <td>White, Mr. Percival Wayland</td>\n",
              "      <td>male</td>\n",
              "      <td>54.0</td>\n",
              "      <td>0</td>\n",
              "      <td>1</td>\n",
              "      <td>35281</td>\n",
              "      <td>77.2875</td>\n",
              "      <td>D26</td>\n",
              "      <td>S</td>\n",
              "      <td>0</td>\n",
              "    </tr>\n",
              "    <tr>\n",
              "      <th>578</th>\n",
              "      <td>579</td>\n",
              "      <td>0</td>\n",
              "      <td>3</td>\n",
              "      <td>Caram, Mrs. Joseph (Maria Elias)</td>\n",
              "      <td>female</td>\n",
              "      <td>29.0</td>\n",
              "      <td>1</td>\n",
              "      <td>0</td>\n",
              "      <td>2689</td>\n",
              "      <td>14.4583</td>\n",
              "      <td>NaN</td>\n",
              "      <td>C</td>\n",
              "      <td>1</td>\n",
              "    </tr>\n",
              "    <tr>\n",
              "      <th>549</th>\n",
              "      <td>550</td>\n",
              "      <td>1</td>\n",
              "      <td>2</td>\n",
              "      <td>Davies, Master. John Morgan Jr</td>\n",
              "      <td>male</td>\n",
              "      <td>8.0</td>\n",
              "      <td>1</td>\n",
              "      <td>1</td>\n",
              "      <td>C.A. 33112</td>\n",
              "      <td>36.7500</td>\n",
              "      <td>NaN</td>\n",
              "      <td>S</td>\n",
              "      <td>0</td>\n",
              "    </tr>\n",
              "    <tr>\n",
              "      <th>118</th>\n",
              "      <td>119</td>\n",
              "      <td>0</td>\n",
              "      <td>1</td>\n",
              "      <td>Baxter, Mr. Quigg Edmond</td>\n",
              "      <td>male</td>\n",
              "      <td>24.0</td>\n",
              "      <td>0</td>\n",
              "      <td>1</td>\n",
              "      <td>PC 17558</td>\n",
              "      <td>247.5208</td>\n",
              "      <td>B58 B60</td>\n",
              "      <td>C</td>\n",
              "      <td>0</td>\n",
              "    </tr>\n",
              "    <tr>\n",
              "      <th>12</th>\n",
              "      <td>13</td>\n",
              "      <td>0</td>\n",
              "      <td>3</td>\n",
              "      <td>Saundercock, Mr. William Henry</td>\n",
              "      <td>male</td>\n",
              "      <td>20.0</td>\n",
              "      <td>0</td>\n",
              "      <td>0</td>\n",
              "      <td>A/5. 2151</td>\n",
              "      <td>8.0500</td>\n",
              "      <td>NaN</td>\n",
              "      <td>S</td>\n",
              "      <td>0</td>\n",
              "    </tr>\n",
              "    <tr>\n",
              "      <th>157</th>\n",
              "      <td>158</td>\n",
              "      <td>0</td>\n",
              "      <td>3</td>\n",
              "      <td>Corn, Mr. Harry</td>\n",
              "      <td>male</td>\n",
              "      <td>30.0</td>\n",
              "      <td>0</td>\n",
              "      <td>0</td>\n",
              "      <td>SOTON/OQ 392090</td>\n",
              "      <td>8.0500</td>\n",
              "      <td>NaN</td>\n",
              "      <td>S</td>\n",
              "      <td>0</td>\n",
              "    </tr>\n",
              "    <tr>\n",
              "      <th>127</th>\n",
              "      <td>128</td>\n",
              "      <td>1</td>\n",
              "      <td>3</td>\n",
              "      <td>Madsen, Mr. Fridtjof Arne</td>\n",
              "      <td>male</td>\n",
              "      <td>24.0</td>\n",
              "      <td>0</td>\n",
              "      <td>0</td>\n",
              "      <td>C 17369</td>\n",
              "      <td>7.1417</td>\n",
              "      <td>NaN</td>\n",
              "      <td>S</td>\n",
              "      <td>0</td>\n",
              "    </tr>\n",
              "  </tbody>\n",
              "</table>\n",
              "</div>"
            ],
            "text/plain": [
              "     PassengerId  Survived  Pclass                                      Name  \\\n",
              "857          858         1       1                    Daly, Mr. Peter Denis    \n",
              "52            53         1       1  Harper, Mrs. Henry Sleeper (Myna Haxtun)   \n",
              "386          387         0       3           Goodwin, Master. Sidney Leonard   \n",
              "124          125         0       1               White, Mr. Percival Wayland   \n",
              "578          579         0       3          Caram, Mrs. Joseph (Maria Elias)   \n",
              "549          550         1       2            Davies, Master. John Morgan Jr   \n",
              "118          119         0       1                  Baxter, Mr. Quigg Edmond   \n",
              "12            13         0       3            Saundercock, Mr. William Henry   \n",
              "157          158         0       3                           Corn, Mr. Harry   \n",
              "127          128         1       3                 Madsen, Mr. Fridtjof Arne   \n",
              "\n",
              "        Sex   Age  SibSp  Parch           Ticket      Fare    Cabin Embarked  \\\n",
              "857    male  51.0      0      0           113055   26.5500      E17        S   \n",
              "52   female  49.0      1      0         PC 17572   76.7292      D33        C   \n",
              "386    male   1.0      5      2          CA 2144   46.9000      NaN        S   \n",
              "124    male  54.0      0      1            35281   77.2875      D26        S   \n",
              "578  female  29.0      1      0             2689   14.4583      NaN        C   \n",
              "549    male   8.0      1      1       C.A. 33112   36.7500      NaN        S   \n",
              "118    male  24.0      0      1         PC 17558  247.5208  B58 B60        C   \n",
              "12     male  20.0      0      0        A/5. 2151    8.0500      NaN        S   \n",
              "157    male  30.0      0      0  SOTON/OQ 392090    8.0500      NaN        S   \n",
              "127    male  24.0      0      0          C 17369    7.1417      NaN        S   \n",
              "\n",
              "     Age_NA  \n",
              "857       0  \n",
              "52        0  \n",
              "386       0  \n",
              "124       0  \n",
              "578       1  \n",
              "549       0  \n",
              "118       0  \n",
              "12        0  \n",
              "157       0  \n",
              "127       0  "
            ]
          },
          "metadata": {
            "tags": []
          },
          "execution_count": 143
        }
      ]
    },
    {
      "cell_type": "markdown",
      "metadata": {
        "id": "vSdOykIY03_f",
        "colab_type": "text"
      },
      "source": [
        "#### ___Predictive Modelling___\n",
        "\n",
        "Using the features which do not have missing values, we can predict the nulls with the help of a machine learning algorithm. This method may result in better accuracy, unless a missing value is expected to have a very high variance. We will be using linear regression to replace the nulls in the feature ‘age’, using other available features. One can experiment with different algorithms and check which gives the best accuracy instead of sticking to a single algorithm."
      ]
    },
    {
      "cell_type": "code",
      "metadata": {
        "id": "VSo1nnlD1OXH",
        "colab_type": "code",
        "colab": {}
      },
      "source": [
        "## LINEAR REGRESSION\n",
        "\n",
        "data = titanic.copy()\n",
        "\n",
        "from sklearn.linear_model import LinearRegression\n",
        "lr = LinearRegression()\n",
        "\n",
        "data_with_null = data[['PassengerId','Pclass','Survived','SibSp','Parch','Fare','Age']].dropna()\n",
        "data_without_null = data_with_null.dropna()\n",
        "\n",
        "train_data_x = data_without_null.iloc[:,:6]\n",
        "train_data_y = data_without_null.iloc[:,6]\n",
        "\n",
        "lr.fit(train_data_x,train_data_y)\n",
        "test_data = data_with_null.iloc[:,:6]\n",
        "\n",
        "data_with_null.Age.fillna(pd.DataFrame(lr.predict(test_data))[0],inplace = True)"
      ],
      "execution_count": 0,
      "outputs": []
    },
    {
      "cell_type": "code",
      "metadata": {
        "id": "ZjuskFb-98_r",
        "colab_type": "code",
        "colab": {
          "base_uri": "https://localhost:8080/",
          "height": 201
        },
        "outputId": "c809aba2-632a-4d49-ca3d-a7fdc3ee5bf4"
      },
      "source": [
        "data_with_null.head()"
      ],
      "execution_count": 162,
      "outputs": [
        {
          "output_type": "execute_result",
          "data": {
            "text/html": [
              "<div>\n",
              "<style scoped>\n",
              "    .dataframe tbody tr th:only-of-type {\n",
              "        vertical-align: middle;\n",
              "    }\n",
              "\n",
              "    .dataframe tbody tr th {\n",
              "        vertical-align: top;\n",
              "    }\n",
              "\n",
              "    .dataframe thead th {\n",
              "        text-align: right;\n",
              "    }\n",
              "</style>\n",
              "<table border=\"1\" class=\"dataframe\">\n",
              "  <thead>\n",
              "    <tr style=\"text-align: right;\">\n",
              "      <th></th>\n",
              "      <th>PassengerId</th>\n",
              "      <th>Pclass</th>\n",
              "      <th>Survived</th>\n",
              "      <th>SibSp</th>\n",
              "      <th>Parch</th>\n",
              "      <th>Fare</th>\n",
              "      <th>Age</th>\n",
              "    </tr>\n",
              "  </thead>\n",
              "  <tbody>\n",
              "    <tr>\n",
              "      <th>0</th>\n",
              "      <td>1</td>\n",
              "      <td>3</td>\n",
              "      <td>0</td>\n",
              "      <td>1</td>\n",
              "      <td>0</td>\n",
              "      <td>7.2500</td>\n",
              "      <td>22.0</td>\n",
              "    </tr>\n",
              "    <tr>\n",
              "      <th>1</th>\n",
              "      <td>2</td>\n",
              "      <td>1</td>\n",
              "      <td>1</td>\n",
              "      <td>1</td>\n",
              "      <td>0</td>\n",
              "      <td>71.2833</td>\n",
              "      <td>38.0</td>\n",
              "    </tr>\n",
              "    <tr>\n",
              "      <th>2</th>\n",
              "      <td>3</td>\n",
              "      <td>3</td>\n",
              "      <td>1</td>\n",
              "      <td>0</td>\n",
              "      <td>0</td>\n",
              "      <td>7.9250</td>\n",
              "      <td>26.0</td>\n",
              "    </tr>\n",
              "    <tr>\n",
              "      <th>3</th>\n",
              "      <td>4</td>\n",
              "      <td>1</td>\n",
              "      <td>1</td>\n",
              "      <td>1</td>\n",
              "      <td>0</td>\n",
              "      <td>53.1000</td>\n",
              "      <td>35.0</td>\n",
              "    </tr>\n",
              "    <tr>\n",
              "      <th>4</th>\n",
              "      <td>5</td>\n",
              "      <td>3</td>\n",
              "      <td>0</td>\n",
              "      <td>0</td>\n",
              "      <td>0</td>\n",
              "      <td>8.0500</td>\n",
              "      <td>35.0</td>\n",
              "    </tr>\n",
              "  </tbody>\n",
              "</table>\n",
              "</div>"
            ],
            "text/plain": [
              "   PassengerId  Pclass  Survived  SibSp  Parch     Fare   Age\n",
              "0            1       3         0      1      0   7.2500  22.0\n",
              "1            2       1         1      1      0  71.2833  38.0\n",
              "2            3       3         1      0      0   7.9250  26.0\n",
              "3            4       1         1      1      0  53.1000  35.0\n",
              "4            5       3         0      0      0   8.0500  35.0"
            ]
          },
          "metadata": {
            "tags": []
          },
          "execution_count": 162
        }
      ]
    },
    {
      "cell_type": "code",
      "metadata": {
        "id": "n3zM8Suu_X31",
        "colab_type": "code",
        "colab": {
          "base_uri": "https://localhost:8080/",
          "height": 414
        },
        "outputId": "e1332962-98c6-41c7-923c-28d41a5b9be1"
      },
      "source": [
        "## KNN IMPUTER or We Can also use KNNRegressor, KNNClassifier\n",
        "\n",
        "from sklearn.impute import KNNImputer\n",
        "imputer = KNNImputer(n_neighbors= 2)\n",
        "X = pd.DataFrame(imputer.fit_transform(data_with_null),columns = data_with_null.columns)\n",
        "\n",
        "X\n",
        "\n",
        "## KNN Classifier for Imputation: https://chrisalbon.com/machine_learning/preprocessing_structured_data/imputing_missing_class_labels_using_k-nearest_neighbors/"
      ],
      "execution_count": 174,
      "outputs": [
        {
          "output_type": "execute_result",
          "data": {
            "text/html": [
              "<div>\n",
              "<style scoped>\n",
              "    .dataframe tbody tr th:only-of-type {\n",
              "        vertical-align: middle;\n",
              "    }\n",
              "\n",
              "    .dataframe tbody tr th {\n",
              "        vertical-align: top;\n",
              "    }\n",
              "\n",
              "    .dataframe thead th {\n",
              "        text-align: right;\n",
              "    }\n",
              "</style>\n",
              "<table border=\"1\" class=\"dataframe\">\n",
              "  <thead>\n",
              "    <tr style=\"text-align: right;\">\n",
              "      <th></th>\n",
              "      <th>PassengerId</th>\n",
              "      <th>Pclass</th>\n",
              "      <th>Survived</th>\n",
              "      <th>SibSp</th>\n",
              "      <th>Parch</th>\n",
              "      <th>Fare</th>\n",
              "      <th>Age</th>\n",
              "    </tr>\n",
              "  </thead>\n",
              "  <tbody>\n",
              "    <tr>\n",
              "      <th>0</th>\n",
              "      <td>1.0</td>\n",
              "      <td>3.0</td>\n",
              "      <td>0.0</td>\n",
              "      <td>1.0</td>\n",
              "      <td>0.0</td>\n",
              "      <td>7.2500</td>\n",
              "      <td>22.0</td>\n",
              "    </tr>\n",
              "    <tr>\n",
              "      <th>1</th>\n",
              "      <td>2.0</td>\n",
              "      <td>1.0</td>\n",
              "      <td>1.0</td>\n",
              "      <td>1.0</td>\n",
              "      <td>0.0</td>\n",
              "      <td>71.2833</td>\n",
              "      <td>38.0</td>\n",
              "    </tr>\n",
              "    <tr>\n",
              "      <th>2</th>\n",
              "      <td>3.0</td>\n",
              "      <td>3.0</td>\n",
              "      <td>1.0</td>\n",
              "      <td>0.0</td>\n",
              "      <td>0.0</td>\n",
              "      <td>7.9250</td>\n",
              "      <td>26.0</td>\n",
              "    </tr>\n",
              "    <tr>\n",
              "      <th>3</th>\n",
              "      <td>4.0</td>\n",
              "      <td>1.0</td>\n",
              "      <td>1.0</td>\n",
              "      <td>1.0</td>\n",
              "      <td>0.0</td>\n",
              "      <td>53.1000</td>\n",
              "      <td>35.0</td>\n",
              "    </tr>\n",
              "    <tr>\n",
              "      <th>4</th>\n",
              "      <td>5.0</td>\n",
              "      <td>3.0</td>\n",
              "      <td>0.0</td>\n",
              "      <td>0.0</td>\n",
              "      <td>0.0</td>\n",
              "      <td>8.0500</td>\n",
              "      <td>35.0</td>\n",
              "    </tr>\n",
              "    <tr>\n",
              "      <th>...</th>\n",
              "      <td>...</td>\n",
              "      <td>...</td>\n",
              "      <td>...</td>\n",
              "      <td>...</td>\n",
              "      <td>...</td>\n",
              "      <td>...</td>\n",
              "      <td>...</td>\n",
              "    </tr>\n",
              "    <tr>\n",
              "      <th>709</th>\n",
              "      <td>886.0</td>\n",
              "      <td>3.0</td>\n",
              "      <td>0.0</td>\n",
              "      <td>0.0</td>\n",
              "      <td>5.0</td>\n",
              "      <td>29.1250</td>\n",
              "      <td>39.0</td>\n",
              "    </tr>\n",
              "    <tr>\n",
              "      <th>710</th>\n",
              "      <td>887.0</td>\n",
              "      <td>2.0</td>\n",
              "      <td>0.0</td>\n",
              "      <td>0.0</td>\n",
              "      <td>0.0</td>\n",
              "      <td>13.0000</td>\n",
              "      <td>27.0</td>\n",
              "    </tr>\n",
              "    <tr>\n",
              "      <th>711</th>\n",
              "      <td>888.0</td>\n",
              "      <td>1.0</td>\n",
              "      <td>1.0</td>\n",
              "      <td>0.0</td>\n",
              "      <td>0.0</td>\n",
              "      <td>30.0000</td>\n",
              "      <td>19.0</td>\n",
              "    </tr>\n",
              "    <tr>\n",
              "      <th>712</th>\n",
              "      <td>890.0</td>\n",
              "      <td>1.0</td>\n",
              "      <td>1.0</td>\n",
              "      <td>0.0</td>\n",
              "      <td>0.0</td>\n",
              "      <td>30.0000</td>\n",
              "      <td>26.0</td>\n",
              "    </tr>\n",
              "    <tr>\n",
              "      <th>713</th>\n",
              "      <td>891.0</td>\n",
              "      <td>3.0</td>\n",
              "      <td>0.0</td>\n",
              "      <td>0.0</td>\n",
              "      <td>0.0</td>\n",
              "      <td>7.7500</td>\n",
              "      <td>32.0</td>\n",
              "    </tr>\n",
              "  </tbody>\n",
              "</table>\n",
              "<p>714 rows × 7 columns</p>\n",
              "</div>"
            ],
            "text/plain": [
              "     PassengerId  Pclass  Survived  SibSp  Parch     Fare   Age\n",
              "0            1.0     3.0       0.0    1.0    0.0   7.2500  22.0\n",
              "1            2.0     1.0       1.0    1.0    0.0  71.2833  38.0\n",
              "2            3.0     3.0       1.0    0.0    0.0   7.9250  26.0\n",
              "3            4.0     1.0       1.0    1.0    0.0  53.1000  35.0\n",
              "4            5.0     3.0       0.0    0.0    0.0   8.0500  35.0\n",
              "..           ...     ...       ...    ...    ...      ...   ...\n",
              "709        886.0     3.0       0.0    0.0    5.0  29.1250  39.0\n",
              "710        887.0     2.0       0.0    0.0    0.0  13.0000  27.0\n",
              "711        888.0     1.0       1.0    0.0    0.0  30.0000  19.0\n",
              "712        890.0     1.0       1.0    0.0    0.0  30.0000  26.0\n",
              "713        891.0     3.0       0.0    0.0    0.0   7.7500  32.0\n",
              "\n",
              "[714 rows x 7 columns]"
            ]
          },
          "metadata": {
            "tags": []
          },
          "execution_count": 174
        }
      ]
    },
    {
      "cell_type": "markdown",
      "metadata": {
        "id": "TZi9-gn5EEGX",
        "colab_type": "text"
      },
      "source": [
        "___sklearn.impute.IterativeImputer___ class is very flexible - it can be used with a variety of estimators to do round-robin regression, treating every variable as an output in turn.\n",
        "\n",
        "* **BayesianRidge**: regularized linear regression\n",
        "* **DecisionTreeRegressor**: non-linear regression\n",
        "* **ExtraTreesRegressor**: similar to missForest in R\n",
        "* **KNeighborsRegressor**: comparable to other KNN imputation approaches\n",
        "\n",
        "and then uses Mean Squared Error to find best fitted value."
      ]
    }
  ]
}