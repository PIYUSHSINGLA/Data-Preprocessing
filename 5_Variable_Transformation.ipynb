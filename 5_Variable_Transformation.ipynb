{
  "nbformat": 4,
  "nbformat_minor": 0,
  "metadata": {
    "colab": {
      "name": "5. Variable Transformation.ipynb",
      "provenance": [],
      "collapsed_sections": []
    },
    "kernelspec": {
      "name": "python3",
      "display_name": "Python 3"
    }
  },
  "cells": [
    {
      "cell_type": "markdown",
      "metadata": {
        "id": "-28EFFYDSf1x",
        "colab_type": "text"
      },
      "source": [
        "## ___Variable Transformation___\n",
        "\n",
        "In data modelling, transformation refers to the replacement of a variable by a function. For instance, replacing a variable x by the square / cube root or logarithm x is a transformation. In other words, transformation is a process that changes the distribution or relationship of a variable with others."
      ]
    },
    {
      "cell_type": "markdown",
      "metadata": {
        "id": "zB_q6cBVT0SI",
        "colab_type": "text"
      },
      "source": [
        "### ___When should we use Variable Transformation?___\n",
        "Below are the situations where variable transformation is a requisite:\n",
        "\n",
        "* When we want to change the scale of a variable or standardize the values of a variable for better understanding. While this transformation is a must if you have data in different scales, this transformation does not change the shape of the variable distribution. **(Learnt in Feature Scaling)**\n",
        "\n",
        "* When we can **transform complex non-linear relationships into linear relationships**. Existence of a linear relationship between variables is easier to comprehend compared to a non-linear or curved relation. Transformation helps us to convert a non-linear relation into linear relation. Scatter plot can be used to find the relationship between two continuous variables. These transformations also improve the prediction. Log transformation is one of the commonly used transformation technique used in these situations. (https://www.khanacademy.org/math/ap-statistics/inference-slope-linear-regression/transformations-for-linearity/v/transforming-nonlinear-data)\n",
        "\n",
        "* **Symmetric distribution is preferred over skewed distribution** as it is easier to interpret and generate inferences. Some modeling techniques requires normal distribution of variables. So, whenever we have a skewed distribution, we can use transformations which reduce skewness. **For right skewed distribution, we take square / cube root or logarithm of variable and for left skewed, we take square / cube or exponential of variables.**"
      ]
    },
    {
      "cell_type": "markdown",
      "metadata": {
        "id": "CG45ZLs1TfUW",
        "colab_type": "text"
      },
      "source": [
        "### ___Types of Transformations___\n",
        "\n",
        "* _Logarithm transformation - log(x)_ (Not for 0)\n",
        "* _Reciprocal transformation - 1 / x_ (Not for 0)\n",
        "* _Square root transformation - sqrt(x)_\n",
        "* _Exponential transformation - exp(x)_\n",
        "* _Yeo-Johnson transformation_ (+ and - ve Numbers)\n",
        "* _Box-Cox transformation_ (Only +ve Numbers)"
      ]
    },
    {
      "cell_type": "markdown",
      "metadata": {
        "id": "zlVjPMCoRPlI",
        "colab_type": "text"
      },
      "source": [
        "### ___Normality Assumption___\n",
        "A large fraction of the field of statistics is concerned with data that assumes that it was drawn from a Gaussian distribution.\n",
        "\n",
        "If methods are used that assume a Gaussian distribution, and your data was drawn from a different distribution, the findings may be misleading or plain wrong.\n",
        "\n",
        "There are a number of techniques that you can check if your data sample is Gaussian or sufficiently Gaussian-like to use the standard techniques, or sufficiently non-Gaussian to instead use non-parametric statistical methods.\n",
        "\n",
        "This is a key decision point when it comes to choosing statistical methods for your data sample.\n",
        "\n",
        "Two classes of techniques for checking whether a sample of data is Gaussian:\n",
        "\n",
        "* **Graphical Methods** - These are methods for plotting the data and qualitatively evaluating whether the data looks Gaussian.\n",
        "* **Statistical Tests** -  These are methods that calculate statistics on the data and quantify how likely it is that the data was drawn from a Gaussian distribution.\n",
        "\n",
        "Methods of this type are often called normality tests."
      ]
    },
    {
      "cell_type": "markdown",
      "metadata": {
        "id": "0x28AnzsRpD2",
        "colab_type": "text"
      },
      "source": [
        "#### ___Visual Normality Checks___\n",
        "\n",
        "* **Histogram Plot**\n",
        "\n",
        "A simple and commonly used plot to quickly check the distribution of a sample of data is the histogram.\n",
        "\n",
        "In the histogram, the data is divided into a pre-specified number of groups called bins. The data is then sorted into each bin and the count of the number of observations in each bin is retained.\n",
        "\n",
        "The plot shows the bins across the x-axis maintaining their ordinal relationship, and the count in each bin on the y-axis.\n",
        "\n",
        "A sample of data has a Gaussian distribution of the histogram plot, showing the familiar bell shape.\n",
        "\n",
        "* **Quantile-Quantile Plot**\n",
        "\n",
        "Another popular plot for checking the distribution of a data sample is the quantile-quantile plot, Q-Q plot, or QQ plot for short.\n",
        "\n",
        "This plot generates its own sample of the idealized distribution that we are comparing with, in this case the Gaussian distribution. The idealized samples are divided into groups (e.g. 5), called quantiles. Each data point in the sample is paired with a similar member from the idealized distribution at the same cumulative distribution.\n",
        "\n",
        "The resulting points are plotted as a scatter plot with the idealized value on the x-axis and the data sample on the y-axis.\n",
        "\n",
        "A perfect match for the distribution will be shown by a line of dots on a 45-degree angle from the bottom left of the plot to the top right. Often a line is drawn on the plot to help make this expectation clear. Deviations by the dots from the line shows a deviation from the expected distribution."
      ]
    },
    {
      "cell_type": "markdown",
      "metadata": {
        "id": "uyFqiS2uSRPw",
        "colab_type": "text"
      },
      "source": [
        "#### ___Statistical Normality Tests___\n",
        "\n",
        "There are many statistical tests that we can use to quantify whether a sample of data looks as though it was drawn from a Gaussian distribution.\n",
        "\n",
        "Each test makes different assumptions and considers different aspects of the data.\n",
        "\n",
        "Each test will return at least two things:\n",
        "\n",
        "**Statistic**: A quantity calculated by the test that can be interpreted in the context of the test via comparing it to critical values from the distribution of the test statistic.\n",
        "\n",
        "**p-value**: Used to interpret the test, in this case whether the sample was drawn from a Gaussian distribution.\n",
        "\n",
        "The tests assume that that the sample was drawn from a Gaussian distribution. Technically this is called the null hypothesis, or H0. A threshold level is chosen called alpha, typically 5% (or 0.05), that is used to interpret the p-value.\n",
        "\n",
        "In the SciPy implementation of these tests, you can interpret the p value as follows.\n",
        "\n",
        " - p <= alpha: reject H0, not normal.\n",
        " - p > alpha: fail to reject H0, normal.\n",
        "\n",
        "This means that, in general, we are seeking results with a larger p-value to confirm that our sample was likely drawn from a Gaussian distribution.\n",
        "\n",
        "A result above 5% does not mean that the null hypothesis is true. It means that it is very likely true given available evidence. The p-value is not the probability of the data fitting a Gaussian distribution; it can be thought of as a value that helps us interpret the statistical test.\n",
        "\n",
        "* ___Shapiro-Wilk Test___\n",
        "\n",
        "The Shapiro-Wilk test evaluates a data sample and quantifies how likely it is that the data was drawn from a Gaussian distribution.\n",
        "\n",
        "* ___D’Agostino’s K^2 Test___ (Normal Test)\n",
        "\n",
        "The D’Agostino’s K^2 test calculates summary statistics from the data, namely kurtosis and skewness, to determine if the data distribution departs from the normal distribution, named for Ralph D’Agostino."
      ]
    },
    {
      "cell_type": "code",
      "metadata": {
        "id": "wTqzbv3mJbNO",
        "colab_type": "code",
        "outputId": "7cd82044-6df8-4c42-b475-e083b1fdc21f",
        "colab": {
          "base_uri": "https://localhost:8080/",
          "height": 34
        }
      },
      "source": [
        "# generate gaussian data\n",
        "from numpy.random import seed\n",
        "from numpy.random import randn\n",
        "from numpy import mean\n",
        "from numpy import std\n",
        "# seed the random number generator\n",
        "seed(1)\n",
        "# generate univariate observations\n",
        "data = 5 * randn(100) + 50\n",
        "# summarize\n",
        "print('mean=%.3f stdv=%.3f' % (mean(data), std(data)))"
      ],
      "execution_count": 1,
      "outputs": [
        {
          "output_type": "stream",
          "text": [
            "mean=50.303 stdv=4.426\n"
          ],
          "name": "stdout"
        }
      ]
    },
    {
      "cell_type": "code",
      "metadata": {
        "id": "JdEvFI6hT0Mu",
        "colab_type": "code",
        "outputId": "6451a69a-b71f-404a-c3cc-544ac5bcd3eb",
        "colab": {
          "base_uri": "https://localhost:8080/",
          "height": 265
        }
      },
      "source": [
        "# Visual Normality Checks\n",
        "# histogram plot\n",
        "import matplotlib.pyplot as plt\n",
        "\n",
        "# histogram plot\n",
        "plt.hist(data)\n",
        "plt.show()"
      ],
      "execution_count": 2,
      "outputs": [
        {
          "output_type": "display_data",
          "data": {
            "image/png": "[encoded data removed]",
            "text/plain": [
              "<Figure size 432x288 with 1 Axes>"
            ]
          },
          "metadata": {
            "tags": []
          }
        }
      ]
    },
    {
      "cell_type": "code",
      "metadata": {
        "id": "0vDjnDCCT7zP",
        "colab_type": "code",
        "outputId": "360db8ea-bd85-4162-ccf1-31ac774d90fd",
        "colab": {
          "base_uri": "https://localhost:8080/",
          "height": 279
        }
      },
      "source": [
        "# QQ Plot\n",
        "import statsmodels.api as sm \n",
        "#from statsmodels.graphics.gofplots import qqplot\n",
        "\n",
        "# q-q plot\n",
        "sm.qqplot(data, line='s')\n",
        "plt.show()"
      ],
      "execution_count": 3,
      "outputs": [
        {
          "output_type": "display_data",
          "data": {
            "image/png": "[encoded data removed]",
            "text/plain": [
              "<Figure size 432x288 with 1 Axes>"
            ]
          },
          "metadata": {
            "tags": []
          }
        }
      ]
    },
    {
      "cell_type": "code",
      "metadata": {
        "id": "4QL90gUJUw-a",
        "colab_type": "code",
        "outputId": "657a6ab6-0038-4230-f310-61c809c65060",
        "colab": {
          "base_uri": "https://localhost:8080/",
          "height": 50
        }
      },
      "source": [
        "### Statistical Normality Tests\n",
        "# Shapiro-Wilk Test\n",
        "from scipy.stats import shapiro\n",
        " \n",
        "# normality test\n",
        "stat, p = shapiro(data)\n",
        "print('Statistics=%.3f, p=%.3f' % (stat, p))\n",
        "# interpret\n",
        "alpha = 0.05\n",
        "if p > alpha:\n",
        "\tprint('Sample looks Gaussian (fail to reject H0)')\n",
        "else:\n",
        "\tprint('Sample does not look Gaussian (reject H0)')"
      ],
      "execution_count": 4,
      "outputs": [
        {
          "output_type": "stream",
          "text": [
            "Statistics=0.992, p=0.822\n",
            "Sample looks Gaussian (fail to reject H0)\n"
          ],
          "name": "stdout"
        }
      ]
    },
    {
      "cell_type": "code",
      "metadata": {
        "id": "xd4aysCwU3bv",
        "colab_type": "code",
        "outputId": "2b9e06bc-3450-474e-97b5-e5a3b8006c38",
        "colab": {
          "base_uri": "https://localhost:8080/",
          "height": 50
        }
      },
      "source": [
        "# D’Agostino’s K^2 Test\n",
        "# D'Agostino and Pearson's Test\n",
        "from scipy.stats import normaltest\n",
        "\n",
        "stat, p = normaltest(data)\n",
        "print('Statistics=%.3f, p=%.3f' % (stat, p))\n",
        "# interpret\n",
        "alpha = 0.05\n",
        "if p > alpha:\n",
        "\tprint('Sample looks Gaussian (fail to reject H0)')\n",
        "else:\n",
        "\tprint('Sample does not look Gaussian (reject H0)')"
      ],
      "execution_count": 5,
      "outputs": [
        {
          "output_type": "stream",
          "text": [
            "Statistics=0.102, p=0.950\n",
            "Sample looks Gaussian (fail to reject H0)\n"
          ],
          "name": "stdout"
        }
      ]
    },
    {
      "cell_type": "markdown",
      "metadata": {
        "id": "h4MuR5_CVkBX",
        "colab_type": "text"
      },
      "source": [
        "#### ___TRANSFORMATIONS___"
      ]
    },
    {
      "cell_type": "code",
      "metadata": {
        "id": "C60mbHYWVmaZ",
        "colab_type": "code",
        "colab": {}
      },
      "source": [
        "import pandas as pd\n",
        "import numpy as np\n",
        "\n",
        "import matplotlib.pyplot as plt\n",
        "%matplotlib inline\n",
        "\n",
        "import seaborn as sns\n",
        "\n",
        "plt.style.use('seaborn-pastel')\n",
        "\n",
        "# to display the total number columns present in the dataset\n",
        "pd.set_option('display.max_columns', None)"
      ],
      "execution_count": 0,
      "outputs": []
    },
    {
      "cell_type": "code",
      "metadata": {
        "id": "DHnOQC_-WINW",
        "colab_type": "code",
        "outputId": "ef857503-c475-4c93-e6c2-b731bdaa8404",
        "colab": {
          "base_uri": "https://localhost:8080/",
          "height": 202
        }
      },
      "source": [
        "!pip install kaggle\n",
        "\n",
        "!mkdir .kaggle\n",
        "\n",
        "import json\n",
        "token = {\"username\":\"piyushsingla\",\"key\":\"94939b9ecb5fcbd1eb64911f57ee6087\"}\n",
        "with open('/content/.kaggle/kaggle.json', 'w') as file:\n",
        "    json.dump(token, file)"
      ],
      "execution_count": 7,
      "outputs": [
        {
          "output_type": "stream",
          "text": [
            "Requirement already satisfied: kaggle in /usr/local/lib/python3.6/dist-packages (1.5.6)\n",
            "Requirement already satisfied: six>=1.10 in /usr/local/lib/python3.6/dist-packages (from kaggle) (1.12.0)\n",
            "Requirement already satisfied: urllib3<1.25,>=1.21.1 in /usr/local/lib/python3.6/dist-packages (from kaggle) (1.24.3)\n",
            "Requirement already satisfied: python-dateutil in /usr/local/lib/python3.6/dist-packages (from kaggle) (2.8.1)\n",
            "Requirement already satisfied: certifi in /usr/local/lib/python3.6/dist-packages (from kaggle) (2019.11.28)\n",
            "Requirement already satisfied: tqdm in /usr/local/lib/python3.6/dist-packages (from kaggle) (4.38.0)\n",
            "Requirement already satisfied: requests in /usr/local/lib/python3.6/dist-packages (from kaggle) (2.21.0)\n",
            "Requirement already satisfied: python-slugify in /usr/local/lib/python3.6/dist-packages (from kaggle) (4.0.0)\n",
            "Requirement already satisfied: idna<2.9,>=2.5 in /usr/local/lib/python3.6/dist-packages (from requests->kaggle) (2.8)\n",
            "Requirement already satisfied: chardet<3.1.0,>=3.0.2 in /usr/local/lib/python3.6/dist-packages (from requests->kaggle) (3.0.4)\n",
            "Requirement already satisfied: text-unidecode>=1.3 in /usr/local/lib/python3.6/dist-packages (from python-slugify->kaggle) (1.3)\n"
          ],
          "name": "stdout"
        }
      ]
    },
    {
      "cell_type": "code",
      "metadata": {
        "id": "bwtN8a4IWKM2",
        "colab_type": "code",
        "colab": {}
      },
      "source": [
        "!chmod 600 /content/.kaggle/kaggle.json"
      ],
      "execution_count": 0,
      "outputs": []
    },
    {
      "cell_type": "code",
      "metadata": {
        "id": "SyBWcrIwWPtF",
        "colab_type": "code",
        "outputId": "7856d6fc-a036-4b4b-89ff-7bb1758a6786",
        "colab": {
          "base_uri": "https://localhost:8080/",
          "height": 101
        }
      },
      "source": [
        "!kaggle config set -n path -v{/content}\n",
        "\n",
        "!cp /content/.kaggle/kaggle.json ~/.kaggle/kaggle.json\n",
        "\n",
        "!kaggle competitions download -c titanic -p /content"
      ],
      "execution_count": 10,
      "outputs": [
        {
          "output_type": "stream",
          "text": [
            "- path is now set to: {/content}\n",
            "Warning: Looks like you're using an outdated API Version, please consider updating (server 1.5.6 / client 1.5.4)\n",
            "gender_submission.csv: Skipping, found more recently modified local copy (use --force to force download)\n",
            "test.csv: Skipping, found more recently modified local copy (use --force to force download)\n",
            "train.csv: Skipping, found more recently modified local copy (use --force to force download)\n"
          ],
          "name": "stdout"
        }
      ]
    },
    {
      "cell_type": "code",
      "metadata": {
        "id": "YGtuBT1xWSM4",
        "colab_type": "code",
        "outputId": "8b83d7e7-e06c-496d-98f7-243e6e67ae75",
        "colab": {
          "base_uri": "https://localhost:8080/",
          "height": 201
        }
      },
      "source": [
        "# let's load the titanic dataset\n",
        "\n",
        "data = pd.read_csv('/content/train.csv', usecols = ['Age', 'Fare', 'Survived'])\n",
        "data.head()"
      ],
      "execution_count": 49,
      "outputs": [
        {
          "output_type": "execute_result",
          "data": {
            "text/html": [
              "<div>\n",
              "<style scoped>\n",
              "    .dataframe tbody tr th:only-of-type {\n",
              "        vertical-align: middle;\n",
              "    }\n",
              "\n",
              "    .dataframe tbody tr th {\n",
              "        vertical-align: top;\n",
              "    }\n",
              "\n",
              "    .dataframe thead th {\n",
              "        text-align: right;\n",
              "    }\n",
              "</style>\n",
              "<table border=\"1\" class=\"dataframe\">\n",
              "  <thead>\n",
              "    <tr style=\"text-align: right;\">\n",
              "      <th></th>\n",
              "      <th>Survived</th>\n",
              "      <th>Age</th>\n",
              "      <th>Fare</th>\n",
              "    </tr>\n",
              "  </thead>\n",
              "  <tbody>\n",
              "    <tr>\n",
              "      <th>0</th>\n",
              "      <td>0</td>\n",
              "      <td>22.0</td>\n",
              "      <td>7.2500</td>\n",
              "    </tr>\n",
              "    <tr>\n",
              "      <th>1</th>\n",
              "      <td>1</td>\n",
              "      <td>38.0</td>\n",
              "      <td>71.2833</td>\n",
              "    </tr>\n",
              "    <tr>\n",
              "      <th>2</th>\n",
              "      <td>1</td>\n",
              "      <td>26.0</td>\n",
              "      <td>7.9250</td>\n",
              "    </tr>\n",
              "    <tr>\n",
              "      <th>3</th>\n",
              "      <td>1</td>\n",
              "      <td>35.0</td>\n",
              "      <td>53.1000</td>\n",
              "    </tr>\n",
              "    <tr>\n",
              "      <th>4</th>\n",
              "      <td>0</td>\n",
              "      <td>35.0</td>\n",
              "      <td>8.0500</td>\n",
              "    </tr>\n",
              "  </tbody>\n",
              "</table>\n",
              "</div>"
            ],
            "text/plain": [
              "   Survived   Age     Fare\n",
              "0         0  22.0   7.2500\n",
              "1         1  38.0  71.2833\n",
              "2         1  26.0   7.9250\n",
              "3         1  35.0  53.1000\n",
              "4         0  35.0   8.0500"
            ]
          },
          "metadata": {
            "tags": []
          },
          "execution_count": 49
        }
      ]
    },
    {
      "cell_type": "code",
      "metadata": {
        "id": "eFTEEwSbWeXU",
        "colab_type": "code",
        "colab": {}
      },
      "source": [
        "# first I will fill the missing data of the variable age, with a random sample of the variable\n",
        "\n",
        "def impute_na(data, variable):\n",
        "    # function to fill na with a random sample\n",
        "    df = data.copy()\n",
        "    \n",
        "    # random sampling\n",
        "    df[variable+'_random'] = df[variable]\n",
        "    \n",
        "    # extract the random sample to fill the na\n",
        "    random_sample = df[variable].dropna().sample(df[variable].isnull().sum(), random_state=0)\n",
        "    \n",
        "    # pandas needs to have the same index in order to merge datasets\n",
        "    random_sample.index = df[df[variable].isnull()].index\n",
        "    df.loc[df[variable].isnull(), variable+'_random'] = random_sample\n",
        "    \n",
        "    return df[variable+'_random']"
      ],
      "execution_count": 0,
      "outputs": []
    },
    {
      "cell_type": "code",
      "metadata": {
        "id": "_mHCMRTTWw7y",
        "colab_type": "code",
        "colab": {}
      },
      "source": [
        "# fill na\n",
        "data['Age'] = impute_na(data, 'Age')"
      ],
      "execution_count": 0,
      "outputs": []
    },
    {
      "cell_type": "code",
      "metadata": {
        "id": "Y7PkPCURWzLF",
        "colab_type": "code",
        "outputId": "3f5371d6-70b4-48e3-9a45-4b3bc8661ee6",
        "colab": {
          "base_uri": "https://localhost:8080/",
          "height": 527
        }
      },
      "source": [
        "plt.hist(data['Age'])\n",
        "plt.show()\n",
        "\n",
        "sm.qqplot(data['Age'], line='s');"
      ],
      "execution_count": 14,
      "outputs": [
        {
          "output_type": "display_data",
          "data": {
            "image/png": "[encoded data removed]",
            "text/plain": [
              "<Figure size 432x288 with 1 Axes>"
            ]
          },
          "metadata": {
            "tags": []
          }
        },
        {
          "output_type": "display_data",
          "data": {
            "image/png": "[encoded data removed]",
            "text/plain": [
              "<Figure size 432x288 with 1 Axes>"
            ]
          },
          "metadata": {
            "tags": []
          }
        }
      ]
    },
    {
      "cell_type": "code",
      "metadata": {
        "id": "E_eRMs9HW7YI",
        "colab_type": "code",
        "outputId": "c2307c8a-2bf3-4139-faac-7b395f3715b0",
        "colab": {
          "base_uri": "https://localhost:8080/",
          "height": 527
        }
      },
      "source": [
        "### Logarithmic transformation\n",
        "data['Age_log'] = np.log(data.Age)\n",
        "\n",
        "plt.hist(data['Age_log'])\n",
        "plt.show()\n",
        "\n",
        "sm.qqplot(data['Age_log'], line='s');"
      ],
      "execution_count": 15,
      "outputs": [
        {
          "output_type": "display_data",
          "data": {
            "image/png": "[encoded data removed]",
            "text/plain": [
              "<Figure size 432x288 with 1 Axes>"
            ]
          },
          "metadata": {
            "tags": []
          }
        },
        {
          "output_type": "display_data",
          "data": {
            "image/png": "[encoded data removed]",
            "text/plain": [
              "<Figure size 432x288 with 1 Axes>"
            ]
          },
          "metadata": {
            "tags": []
          }
        }
      ]
    },
    {
      "cell_type": "code",
      "metadata": {
        "id": "DsdSx6A1XJ_y",
        "colab_type": "code",
        "outputId": "d2c1d5a4-a76c-4aed-a531-1ed7f5a2464a",
        "colab": {
          "base_uri": "https://localhost:8080/",
          "height": 530
        }
      },
      "source": [
        " ### Reciprocal transformation\n",
        "data['Age_reciprocal'] = 1 / data.Age\n",
        "\n",
        "plt.hist(data['Age_reciprocal'])\n",
        "plt.show()\n",
        "\n",
        "sm.qqplot(data['Age_reciprocal'], line='s');"
      ],
      "execution_count": 16,
      "outputs": [
        {
          "output_type": "display_data",
          "data": {
            "image/png": "[encoded data removed]",
            "text/plain": [
              "<Figure size 432x288 with 1 Axes>"
            ]
          },
          "metadata": {
            "tags": []
          }
        },
        {
          "output_type": "display_data",
          "data": {
            "image/png": "[encoded data removed]",
            "text/plain": [
              "<Figure size 432x288 with 1 Axes>"
            ]
          },
          "metadata": {
            "tags": []
          }
        }
      ]
    },
    {
      "cell_type": "code",
      "metadata": {
        "id": "cpzbJ6p5YHlM",
        "colab_type": "code",
        "outputId": "67a42ab8-8d8f-4d39-ea35-05052fa22090",
        "colab": {
          "base_uri": "https://localhost:8080/",
          "height": 527
        }
      },
      "source": [
        "# Square Root Transformation\n",
        "data['Age_sqr'] = np.sqrt(data.Age)\n",
        "\n",
        "plt.hist(data['Age_sqr'])\n",
        "plt.show()\n",
        "\n",
        "sm.qqplot(data['Age_sqr'], line='s');"
      ],
      "execution_count": 17,
      "outputs": [
        {
          "output_type": "display_data",
          "data": {
            "image/png": "[encoded data removed]",
            "text/plain": [
              "<Figure size 432x288 with 1 Axes>"
            ]
          },
          "metadata": {
            "tags": []
          }
        },
        {
          "output_type": "display_data",
          "data": {
            "image/png": "[encoded data removed]",
            "text/plain": [
              "<Figure size 432x288 with 1 Axes>"
            ]
          },
          "metadata": {
            "tags": []
          }
        }
      ]
    },
    {
      "cell_type": "code",
      "metadata": {
        "id": "PPn39TsbYVSr",
        "colab_type": "code",
        "outputId": "e79a35be-2df2-4c85-9fd5-cdc1e452199b",
        "colab": {
          "base_uri": "https://localhost:8080/",
          "height": 528
        }
      },
      "source": [
        "# Exponential Transformation\n",
        "data['Age_exp'] = data.Age**(1/1.2) \n",
        "\n",
        "plt.hist(data['Age_exp'])\n",
        "plt.show()\n",
        "\n",
        "sm.qqplot(data['Age_exp'], line='s');"
      ],
      "execution_count": 18,
      "outputs": [
        {
          "output_type": "display_data",
          "data": {
            "image/png": "[encoded data removed]",
            "text/plain": [
              "<Figure size 432x288 with 1 Axes>"
            ]
          },
          "metadata": {
            "tags": []
          }
        },
        {
          "output_type": "display_data",
          "data": {
            "image/png": "[encoded data removed]",
            "text/plain": [
              "<Figure size 432x288 with 1 Axes>"
            ]
          },
          "metadata": {
            "tags": []
          }
        }
      ]
    },
    {
      "cell_type": "markdown",
      "metadata": {
        "id": "9N74D2d9ZXF0",
        "colab_type": "text"
      },
      "source": [
        "#### ___BoxCox Transformation___\n",
        "\n",
        "A Box Cox transformation is a way to transform non-normal dependent variables into a normal shape. Normality is an important assumption for many statistical techniques; if your data isn’t normal, applying a Box-Cox means that you are able to run a broader number of tests.\n",
        "\n",
        "At the core of the Box Cox transformation is an exponent, lambda (λ), which varies from -5 to 5. All values of λ are considered and the optimal value for your data is selected; The “optimal value” is the one which results in the best approximation of a normal distribution curve. \n",
        "\n",
        "![image.png](data:image/png;base64,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)\n",
        "\n",
        "This test only works for positive data. \n",
        "\n",
        "Can be used to remove Heteroskedasticity in Linear Regression problems. (Heteroskedasticity usually results from either one or more of the predictors not being normally distributed, or the target variable itself not being normally distributed.)\n"
      ]
    },
    {
      "cell_type": "markdown",
      "metadata": {
        "id": "RLfswkFM4PBa",
        "colab_type": "text"
      },
      "source": [
        "<table>\n",
        "<tbody>\n",
        "<tr>\n",
        "<td><strong>Lambda value (&lambda;)</strong></td>\n",
        "<td><strong>Transformed data (Y&rsquo;)</strong></td>\n",
        "<td><strong>Transformation</strong></td>\n",
        "</tr>\n",
        "<tr>\n",
        "<td>-3</td>\n",
        "<td>Y<sup>-3</sup>&nbsp;= 1/Y<sup>3</sup></td>\n",
        "<td>Inverse Cube</td>\n",
        "</tr>\n",
        "<tr>\n",
        "<td>-2</td>\n",
        "<td>Y<sup>-2</sup>&nbsp;= 1/Y<sup>2</sup></td>\n",
        "<td>Inverse Squared</td>\n",
        "  </tr>\n",
        "<tr>\n",
        "<td>-1</td>\n",
        "<td>Y<sup>-1</sup>&nbsp;= 1/Y<sup>1</sup></td>\n",
        "  <td>Inverse/Reciprocal</td>\n",
        "</tr>\n",
        "<tr>\n",
        "<td>-0.5</td>\n",
        "<td>Y<sup>-0.5</sup>&nbsp;= 1/(&radic;(Y))</td>\n",
        "  <td>Inverse Square Root</td>\n",
        "</tr>\n",
        "<tr>\n",
        "<td>0</td>\n",
        "<td>log(Y)**</td>\n",
        "  <td>Logrithmic</td>\n",
        "</tr>\n",
        "<tr>\n",
        "<td>0.5</td>\n",
        "<td>Y<sup>0.5</sup>&nbsp;= &radic;(Y)</td>\n",
        "  <td>Square Root</td>\n",
        "</tr>\n",
        "<tr>\n",
        "<td>1</td>\n",
        "<td>Y<sup>1&nbsp;</sup>= Y</td>\n",
        "  <td>No Change</td>\n",
        "</tr>\n",
        "<tr>\n",
        "<td>2</td>\n",
        "<td>Y<sup>2</sup></td>\n",
        "  <td>Squared</td>\n",
        "</tr>\n",
        "<tr>\n",
        "<td>3</td>\n",
        "<td>Y<sup>3</sup></td>\n",
        "  <td>Cube</td>\n",
        "</tr>\n",
        "</tbody>\n",
        "</table>"
      ]
    },
    {
      "cell_type": "code",
      "metadata": {
        "id": "slByl0ha65YO",
        "colab_type": "code",
        "colab": {
          "base_uri": "https://localhost:8080/",
          "height": 219
        },
        "outputId": "6a53b0da-e70d-4a00-e870-727760cf72a0"
      },
      "source": [
        "data['Age']"
      ],
      "execution_count": 27,
      "outputs": [
        {
          "output_type": "execute_result",
          "data": {
            "text/plain": [
              "0      22.0\n",
              "1      38.0\n",
              "2      26.0\n",
              "3      35.0\n",
              "4      35.0\n",
              "       ... \n",
              "886    27.0\n",
              "887    19.0\n",
              "888    15.0\n",
              "889    26.0\n",
              "890    32.0\n",
              "Name: Age, Length: 891, dtype: float64"
            ]
          },
          "metadata": {
            "tags": []
          },
          "execution_count": 27
        }
      ]
    },
    {
      "cell_type": "code",
      "metadata": {
        "id": "IiZY3b-EZkh8",
        "colab_type": "code",
        "colab": {
          "base_uri": "https://localhost:8080/",
          "height": 265
        },
        "outputId": "1280b477-fa21-4c22-a7f6-7355b36f918f"
      },
      "source": [
        "from scipy.stats import boxcox\n",
        "\n",
        "plt.hist(data['Age'])\n",
        "plt.show()"
      ],
      "execution_count": 20,
      "outputs": [
        {
          "output_type": "display_data",
          "data": {
            "image/png": "[encoded data removed]",
            "text/plain": [
              "<Figure size 432x288 with 1 Axes>"
            ]
          },
          "metadata": {
            "tags": []
          }
        }
      ]
    },
    {
      "cell_type": "code",
      "metadata": {
        "id": "BsKWTKqt6SzX",
        "colab_type": "code",
        "colab": {}
      },
      "source": [
        "data['Age_boxcox'], fitted_lambda = boxcox(data['Age'],lmbda = None)"
      ],
      "execution_count": 0,
      "outputs": []
    },
    {
      "cell_type": "code",
      "metadata": {
        "id": "ZB4gwBWf6sCo",
        "colab_type": "code",
        "colab": {
          "base_uri": "https://localhost:8080/",
          "height": 265
        },
        "outputId": "e82b7771-4107-4a14-85df-b16c6a8788c3"
      },
      "source": [
        "plt.hist(data['Age_boxcox'])\n",
        "plt.show()"
      ],
      "execution_count": 24,
      "outputs": [
        {
          "output_type": "display_data",
          "data": {
            "image/png": "[encoded data removed]",
            "text/plain": [
              "<Figure size 432x288 with 1 Axes>"
            ]
          },
          "metadata": {
            "tags": []
          }
        }
      ]
    },
    {
      "cell_type": "code",
      "metadata": {
        "id": "7kHYgPbC6xHl",
        "colab_type": "code",
        "colab": {
          "base_uri": "https://localhost:8080/",
          "height": 34
        },
        "outputId": "a8bb1462-1dd0-4c76-ba78-a622b9822e16"
      },
      "source": [
        "fitted_lambda"
      ],
      "execution_count": 25,
      "outputs": [
        {
          "output_type": "execute_result",
          "data": {
            "text/plain": [
              "0.7648522500282625"
            ]
          },
          "metadata": {
            "tags": []
          },
          "execution_count": 25
        }
      ]
    },
    {
      "cell_type": "code",
      "metadata": {
        "id": "BL2W0Woh68jl",
        "colab_type": "code",
        "colab": {
          "base_uri": "https://localhost:8080/",
          "height": 279
        },
        "outputId": "22eaf2d2-dbc2-402e-8eb2-2121950c8ecf"
      },
      "source": [
        "sm.qqplot(data['Age_boxcox'],line = 's');"
      ],
      "execution_count": 29,
      "outputs": [
        {
          "output_type": "display_data",
          "data": {
            "image/png": "[encoded data removed]",
            "text/plain": [
              "<Figure size 432x288 with 1 Axes>"
            ]
          },
          "metadata": {
            "tags": []
          }
        }
      ]
    },
    {
      "cell_type": "code",
      "metadata": {
        "id": "N0NO2xWj7EmQ",
        "colab_type": "code",
        "colab": {
          "base_uri": "https://localhost:8080/",
          "height": 50
        },
        "outputId": "b7e56abf-0d3b-466c-8a18-cf5af907be44"
      },
      "source": [
        "stat, p = normaltest(data['Age_boxcox'])\n",
        "print('Statistics=%.3f, p=%.3f' % (stat, p))\n",
        "# interpret\n",
        "alpha = 0.05\n",
        "if p > alpha:\n",
        "\tprint('Sample looks Gaussian (fail to reject H0)')\n",
        "else:\n",
        "\tprint('Sample does not look Gaussian (reject H0)')"
      ],
      "execution_count": 30,
      "outputs": [
        {
          "output_type": "stream",
          "text": [
            "Statistics=1.897, p=0.387\n",
            "Sample looks Gaussian (fail to reject H0)\n"
          ],
          "name": "stdout"
        }
      ]
    },
    {
      "cell_type": "markdown",
      "metadata": {
        "id": "iW0-UFoq-AQj",
        "colab_type": "text"
      },
      "source": [
        "```\n",
        "#Function\n",
        "def invboxcox(y,ld):\n",
        "   if ld == 0:\n",
        "      return(np.exp(y))\n",
        "   else:\n",
        "      return(np.exp(np.log(ld*y+1)/ld))\n",
        "```"
      ]
    },
    {
      "cell_type": "code",
      "metadata": {
        "id": "kMfPt1dT32YP",
        "colab_type": "code",
        "colab": {
          "base_uri": "https://localhost:8080/",
          "height": 219
        },
        "outputId": "07b2cad6-7ae1-40ed-950a-c73ceab8e163"
      },
      "source": [
        "# Inverse Box Cox\n",
        "from scipy.special import inv_boxcox\n",
        "\n",
        "inv_boxcox(data['Age_boxcox'],fitted_lambda)"
      ],
      "execution_count": 26,
      "outputs": [
        {
          "output_type": "execute_result",
          "data": {
            "text/plain": [
              "0      22.0\n",
              "1      38.0\n",
              "2      26.0\n",
              "3      35.0\n",
              "4      35.0\n",
              "       ... \n",
              "886    27.0\n",
              "887    19.0\n",
              "888    15.0\n",
              "889    26.0\n",
              "890    32.0\n",
              "Name: Age_boxcox, Length: 891, dtype: float64"
            ]
          },
          "metadata": {
            "tags": []
          },
          "execution_count": 26
        }
      ]
    },
    {
      "cell_type": "markdown",
      "metadata": {
        "id": "dSyuHV0AZk-2",
        "colab_type": "text"
      },
      "source": [
        "#### ___Yeo -Johnson Transformation___\n",
        "\n",
        "The Yeo-Johnson transformation is very similar to the Box-Cox but does not require the input variables to be strictly positive. It works for both Negative and Positive.\n",
        "\n",
        "https://www.stat.umn.edu/arc/yjpower.pdf"
      ]
    },
    {
      "cell_type": "code",
      "metadata": {
        "id": "AwcZb4hwZva3",
        "colab_type": "code",
        "colab": {}
      },
      "source": [
        "from sklearn.preprocessing import PowerTransformer\n",
        "\n",
        "pt = PowerTransformer(method='yeo-johnson')\n",
        "data_R = data['Age'].values.reshape(-1,1)\n",
        "pt.fit(data_R)\n",
        "transformed_data = pt.transform(data_R)"
      ],
      "execution_count": 0,
      "outputs": []
    },
    {
      "cell_type": "code",
      "metadata": {
        "id": "04VP5SPQFvfL",
        "colab_type": "code",
        "colab": {
          "base_uri": "https://localhost:8080/",
          "height": 414
        },
        "outputId": "c2de26b0-bd60-48b4-bf74-4e735f41c197"
      },
      "source": [
        "pd.DataFrame(transformed_data)"
      ],
      "execution_count": 62,
      "outputs": [
        {
          "output_type": "execute_result",
          "data": {
            "text/html": [
              "<div>\n",
              "<style scoped>\n",
              "    .dataframe tbody tr th:only-of-type {\n",
              "        vertical-align: middle;\n",
              "    }\n",
              "\n",
              "    .dataframe tbody tr th {\n",
              "        vertical-align: top;\n",
              "    }\n",
              "\n",
              "    .dataframe thead th {\n",
              "        text-align: right;\n",
              "    }\n",
              "</style>\n",
              "<table border=\"1\" class=\"dataframe\">\n",
              "  <thead>\n",
              "    <tr style=\"text-align: right;\">\n",
              "      <th></th>\n",
              "      <th>0</th>\n",
              "    </tr>\n",
              "  </thead>\n",
              "  <tbody>\n",
              "    <tr>\n",
              "      <th>0</th>\n",
              "      <td>-0.470975</td>\n",
              "    </tr>\n",
              "    <tr>\n",
              "      <th>1</th>\n",
              "      <td>0.603136</td>\n",
              "    </tr>\n",
              "    <tr>\n",
              "      <th>2</th>\n",
              "      <td>-0.189150</td>\n",
              "    </tr>\n",
              "    <tr>\n",
              "      <th>3</th>\n",
              "      <td>0.411322</td>\n",
              "    </tr>\n",
              "    <tr>\n",
              "      <th>4</th>\n",
              "      <td>0.411322</td>\n",
              "    </tr>\n",
              "    <tr>\n",
              "      <th>...</th>\n",
              "      <td>...</td>\n",
              "    </tr>\n",
              "    <tr>\n",
              "      <th>886</th>\n",
              "      <td>-0.120300</td>\n",
              "    </tr>\n",
              "    <tr>\n",
              "      <th>887</th>\n",
              "      <td>-0.690080</td>\n",
              "    </tr>\n",
              "    <tr>\n",
              "      <th>888</th>\n",
              "      <td>-0.994998</td>\n",
              "    </tr>\n",
              "    <tr>\n",
              "      <th>889</th>\n",
              "      <td>-0.189150</td>\n",
              "    </tr>\n",
              "    <tr>\n",
              "      <th>890</th>\n",
              "      <td>0.215647</td>\n",
              "    </tr>\n",
              "  </tbody>\n",
              "</table>\n",
              "<p>891 rows × 1 columns</p>\n",
              "</div>"
            ],
            "text/plain": [
              "            0\n",
              "0   -0.470975\n",
              "1    0.603136\n",
              "2   -0.189150\n",
              "3    0.411322\n",
              "4    0.411322\n",
              "..        ...\n",
              "886 -0.120300\n",
              "887 -0.690080\n",
              "888 -0.994998\n",
              "889 -0.189150\n",
              "890  0.215647\n",
              "\n",
              "[891 rows x 1 columns]"
            ]
          },
          "metadata": {
            "tags": []
          },
          "execution_count": 62
        }
      ]
    },
    {
      "cell_type": "code",
      "metadata": {
        "id": "NpmrlG58DDru",
        "colab_type": "code",
        "colab": {
          "base_uri": "https://localhost:8080/",
          "height": 414
        },
        "outputId": "96571a6a-7dba-4932-a132-37af6c1affeb"
      },
      "source": [
        "pd.DataFrame(pt.inverse_transform(transformed_data))"
      ],
      "execution_count": 61,
      "outputs": [
        {
          "output_type": "execute_result",
          "data": {
            "text/html": [
              "<div>\n",
              "<style scoped>\n",
              "    .dataframe tbody tr th:only-of-type {\n",
              "        vertical-align: middle;\n",
              "    }\n",
              "\n",
              "    .dataframe tbody tr th {\n",
              "        vertical-align: top;\n",
              "    }\n",
              "\n",
              "    .dataframe thead th {\n",
              "        text-align: right;\n",
              "    }\n",
              "</style>\n",
              "<table border=\"1\" class=\"dataframe\">\n",
              "  <thead>\n",
              "    <tr style=\"text-align: right;\">\n",
              "      <th></th>\n",
              "      <th>0</th>\n",
              "    </tr>\n",
              "  </thead>\n",
              "  <tbody>\n",
              "    <tr>\n",
              "      <th>0</th>\n",
              "      <td>22.0</td>\n",
              "    </tr>\n",
              "    <tr>\n",
              "      <th>1</th>\n",
              "      <td>38.0</td>\n",
              "    </tr>\n",
              "    <tr>\n",
              "      <th>2</th>\n",
              "      <td>26.0</td>\n",
              "    </tr>\n",
              "    <tr>\n",
              "      <th>3</th>\n",
              "      <td>35.0</td>\n",
              "    </tr>\n",
              "    <tr>\n",
              "      <th>4</th>\n",
              "      <td>35.0</td>\n",
              "    </tr>\n",
              "    <tr>\n",
              "      <th>...</th>\n",
              "      <td>...</td>\n",
              "    </tr>\n",
              "    <tr>\n",
              "      <th>886</th>\n",
              "      <td>27.0</td>\n",
              "    </tr>\n",
              "    <tr>\n",
              "      <th>887</th>\n",
              "      <td>19.0</td>\n",
              "    </tr>\n",
              "    <tr>\n",
              "      <th>888</th>\n",
              "      <td>15.0</td>\n",
              "    </tr>\n",
              "    <tr>\n",
              "      <th>889</th>\n",
              "      <td>26.0</td>\n",
              "    </tr>\n",
              "    <tr>\n",
              "      <th>890</th>\n",
              "      <td>32.0</td>\n",
              "    </tr>\n",
              "  </tbody>\n",
              "</table>\n",
              "<p>891 rows × 1 columns</p>\n",
              "</div>"
            ],
            "text/plain": [
              "        0\n",
              "0    22.0\n",
              "1    38.0\n",
              "2    26.0\n",
              "3    35.0\n",
              "4    35.0\n",
              "..    ...\n",
              "886  27.0\n",
              "887  19.0\n",
              "888  15.0\n",
              "889  26.0\n",
              "890  32.0\n",
              "\n",
              "[891 rows x 1 columns]"
            ]
          },
          "metadata": {
            "tags": []
          },
          "execution_count": 61
        }
      ]
    },
    {
      "cell_type": "code",
      "metadata": {
        "id": "77kC2YInDgw1",
        "colab_type": "code",
        "colab": {
          "base_uri": "https://localhost:8080/",
          "height": 50
        },
        "outputId": "a635feb3-101f-400e-8e83-ff3f119262b3"
      },
      "source": [
        "stat, p = normaltest(transformed_data)\n",
        "print('Statistics=%.3f, p=%.3f' % (stat, p))\n",
        "# interpret\n",
        "alpha = 0.05\n",
        "if p > alpha:\n",
        "\tprint('Sample looks Gaussian (fail to reject H0)')\n",
        "else:\n",
        "\tprint('Sample does not look Gaussian (reject H0)')"
      ],
      "execution_count": 63,
      "outputs": [
        {
          "output_type": "stream",
          "text": [
            "Statistics=1.305, p=0.521\n",
            "Sample looks Gaussian (fail to reject H0)\n"
          ],
          "name": "stdout"
        }
      ]
    }
  ]
}